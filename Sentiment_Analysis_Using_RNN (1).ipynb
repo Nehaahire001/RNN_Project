{
  "cells": [
    {
      "cell_type": "markdown",
      "id": "related-comfort",
      "metadata": {
        "id": "related-comfort"
      },
      "source": [
        "### Sentiment Analysis Using RNN"
      ]
    },
    {
      "cell_type": "code",
      "source": [
        "from google.colab import drive\n",
        "drive.mount('/content/drive')"
      ],
      "metadata": {
        "colab": {
          "base_uri": "https://localhost:8080/"
        },
        "id": "5kFu-q7vFEYn",
        "outputId": "f136bc24-49f5-4e07-e6e6-93245b6dcf5f"
      },
      "id": "5kFu-q7vFEYn",
      "execution_count": 1,
      "outputs": [
        {
          "output_type": "stream",
          "name": "stdout",
          "text": [
            "Mounted at /content/drive\n"
          ]
        }
      ]
    },
    {
      "cell_type": "markdown",
      "id": "mediterranean-pregnancy",
      "metadata": {
        "id": "mediterranean-pregnancy"
      },
      "source": [
        "Steps:\n",
        "\n",
        "1. Importing (or installing) tensorflow and other packages on your system\n",
        "2. Loading your data from disk\n",
        "3. Data Preprocessing and visualization\n",
        "4. Creating your training and testing splits\n",
        "5. Defining your RNN model architecture\n",
        "6. Compiling your RNN model\n",
        "7. Training your model on your training data\n",
        "8. Evaluating your model on your test data\n",
        "9. Making predictions for unseen data"
      ]
    },
    {
      "cell_type": "markdown",
      "id": "universal-roller",
      "metadata": {
        "id": "universal-roller"
      },
      "source": [
        "### 1. Importing packages on your system"
      ]
    },
    {
      "cell_type": "code",
      "execution_count": 2,
      "id": "deadly-sellers",
      "metadata": {
        "id": "deadly-sellers"
      },
      "outputs": [],
      "source": [
        "# import libraries\n",
        "import pandas as pd\n",
        "import numpy as np\n",
        "import re \n",
        "import matplotlib.pyplot as plt\n",
        "from sklearn.model_selection import train_test_split\n",
        "from sklearn.metrics import confusion_matrix , accuracy_score, classification_report\n",
        "from tensorflow import keras\n",
        "from tensorflow.keras.preprocessing.text import Tokenizer\n",
        "from tensorflow.keras.preprocessing.sequence import pad_sequences\n",
        "from tensorflow.keras.layers import Dense,LSTM , GlobalMaxPooling1D\n",
        "from tensorflow.keras.models import Model\n",
        "from tensorflow.keras.layers import Flatten\n",
        "from tensorflow.keras.layers import  Embedding\n",
        "from tensorflow.keras.models import Sequential\n",
        "import tensorflow as tf\n",
        "import itertools\n",
        "\n",
        "import seaborn as sns\n",
        "sns.set()"
      ]
    },
    {
      "cell_type": "code",
      "execution_count": 3,
      "id": "provincial-present",
      "metadata": {
        "id": "provincial-present"
      },
      "outputs": [],
      "source": [
        "import warnings\n",
        "warnings.filterwarnings('ignore')"
      ]
    },
    {
      "cell_type": "code",
      "execution_count": 4,
      "id": "silent-victoria",
      "metadata": {
        "colab": {
          "base_uri": "https://localhost:8080/"
        },
        "id": "silent-victoria",
        "outputId": "28149f16-fe54-4907-aa9e-66d18f6847c5"
      },
      "outputs": [
        {
          "output_type": "stream",
          "name": "stdout",
          "text": [
            "Tensorflow Version: 2.12.0\n"
          ]
        }
      ],
      "source": [
        "print(\"Tensorflow Version: {}\".format(tf.__version__))"
      ]
    },
    {
      "cell_type": "markdown",
      "id": "hundred-tyler",
      "metadata": {
        "id": "hundred-tyler"
      },
      "source": [
        "### 2. Load data from disk"
      ]
    },
    {
      "cell_type": "code",
      "execution_count": 5,
      "id": "radio-honey",
      "metadata": {
        "id": "radio-honey"
      },
      "outputs": [],
      "source": [
        "df = pd.read_csv(\"/content/drive/MyDrive/PGA14/Deep Learning/4.RNN/10. Sentiment Analysis Using RNN/dataset/IMDB Dataset.csv\")"
      ]
    },
    {
      "cell_type": "code",
      "execution_count": 6,
      "id": "other-leone",
      "metadata": {
        "colab": {
          "base_uri": "https://localhost:8080/",
          "height": 206
        },
        "id": "other-leone",
        "outputId": "0566a724-0e68-48a2-b6d4-517bc60d34c2"
      },
      "outputs": [
        {
          "output_type": "execute_result",
          "data": {
            "text/plain": [
              "                                              review sentiment\n",
              "0  One of the other reviewers has mentioned that ...  positive\n",
              "1  A wonderful little production. <br /><br />The...  positive\n",
              "2  I thought this was a wonderful way to spend ti...  positive\n",
              "3  Basically there's a family where a little boy ...  negative\n",
              "4  Petter Mattei's \"Love in the Time of Money\" is...  positive"
            ],
            "text/html": [
              "\n",
              "  <div id=\"df-adcf7f0b-013e-421d-804f-bc6cc64a66bc\">\n",
              "    <div class=\"colab-df-container\">\n",
              "      <div>\n",
              "<style scoped>\n",
              "    .dataframe tbody tr th:only-of-type {\n",
              "        vertical-align: middle;\n",
              "    }\n",
              "\n",
              "    .dataframe tbody tr th {\n",
              "        vertical-align: top;\n",
              "    }\n",
              "\n",
              "    .dataframe thead th {\n",
              "        text-align: right;\n",
              "    }\n",
              "</style>\n",
              "<table border=\"1\" class=\"dataframe\">\n",
              "  <thead>\n",
              "    <tr style=\"text-align: right;\">\n",
              "      <th></th>\n",
              "      <th>review</th>\n",
              "      <th>sentiment</th>\n",
              "    </tr>\n",
              "  </thead>\n",
              "  <tbody>\n",
              "    <tr>\n",
              "      <th>0</th>\n",
              "      <td>One of the other reviewers has mentioned that ...</td>\n",
              "      <td>positive</td>\n",
              "    </tr>\n",
              "    <tr>\n",
              "      <th>1</th>\n",
              "      <td>A wonderful little production. &lt;br /&gt;&lt;br /&gt;The...</td>\n",
              "      <td>positive</td>\n",
              "    </tr>\n",
              "    <tr>\n",
              "      <th>2</th>\n",
              "      <td>I thought this was a wonderful way to spend ti...</td>\n",
              "      <td>positive</td>\n",
              "    </tr>\n",
              "    <tr>\n",
              "      <th>3</th>\n",
              "      <td>Basically there's a family where a little boy ...</td>\n",
              "      <td>negative</td>\n",
              "    </tr>\n",
              "    <tr>\n",
              "      <th>4</th>\n",
              "      <td>Petter Mattei's \"Love in the Time of Money\" is...</td>\n",
              "      <td>positive</td>\n",
              "    </tr>\n",
              "  </tbody>\n",
              "</table>\n",
              "</div>\n",
              "      <button class=\"colab-df-convert\" onclick=\"convertToInteractive('df-adcf7f0b-013e-421d-804f-bc6cc64a66bc')\"\n",
              "              title=\"Convert this dataframe to an interactive table.\"\n",
              "              style=\"display:none;\">\n",
              "        \n",
              "  <svg xmlns=\"http://www.w3.org/2000/svg\" height=\"24px\"viewBox=\"0 0 24 24\"\n",
              "       width=\"24px\">\n",
              "    <path d=\"M0 0h24v24H0V0z\" fill=\"none\"/>\n",
              "    <path d=\"M18.56 5.44l.94 2.06.94-2.06 2.06-.94-2.06-.94-.94-2.06-.94 2.06-2.06.94zm-11 1L8.5 8.5l.94-2.06 2.06-.94-2.06-.94L8.5 2.5l-.94 2.06-2.06.94zm10 10l.94 2.06.94-2.06 2.06-.94-2.06-.94-.94-2.06-.94 2.06-2.06.94z\"/><path d=\"M17.41 7.96l-1.37-1.37c-.4-.4-.92-.59-1.43-.59-.52 0-1.04.2-1.43.59L10.3 9.45l-7.72 7.72c-.78.78-.78 2.05 0 2.83L4 21.41c.39.39.9.59 1.41.59.51 0 1.02-.2 1.41-.59l7.78-7.78 2.81-2.81c.8-.78.8-2.07 0-2.86zM5.41 20L4 18.59l7.72-7.72 1.47 1.35L5.41 20z\"/>\n",
              "  </svg>\n",
              "      </button>\n",
              "      \n",
              "  <style>\n",
              "    .colab-df-container {\n",
              "      display:flex;\n",
              "      flex-wrap:wrap;\n",
              "      gap: 12px;\n",
              "    }\n",
              "\n",
              "    .colab-df-convert {\n",
              "      background-color: #E8F0FE;\n",
              "      border: none;\n",
              "      border-radius: 50%;\n",
              "      cursor: pointer;\n",
              "      display: none;\n",
              "      fill: #1967D2;\n",
              "      height: 32px;\n",
              "      padding: 0 0 0 0;\n",
              "      width: 32px;\n",
              "    }\n",
              "\n",
              "    .colab-df-convert:hover {\n",
              "      background-color: #E2EBFA;\n",
              "      box-shadow: 0px 1px 2px rgba(60, 64, 67, 0.3), 0px 1px 3px 1px rgba(60, 64, 67, 0.15);\n",
              "      fill: #174EA6;\n",
              "    }\n",
              "\n",
              "    [theme=dark] .colab-df-convert {\n",
              "      background-color: #3B4455;\n",
              "      fill: #D2E3FC;\n",
              "    }\n",
              "\n",
              "    [theme=dark] .colab-df-convert:hover {\n",
              "      background-color: #434B5C;\n",
              "      box-shadow: 0px 1px 3px 1px rgba(0, 0, 0, 0.15);\n",
              "      filter: drop-shadow(0px 1px 2px rgba(0, 0, 0, 0.3));\n",
              "      fill: #FFFFFF;\n",
              "    }\n",
              "  </style>\n",
              "\n",
              "      <script>\n",
              "        const buttonEl =\n",
              "          document.querySelector('#df-adcf7f0b-013e-421d-804f-bc6cc64a66bc button.colab-df-convert');\n",
              "        buttonEl.style.display =\n",
              "          google.colab.kernel.accessAllowed ? 'block' : 'none';\n",
              "\n",
              "        async function convertToInteractive(key) {\n",
              "          const element = document.querySelector('#df-adcf7f0b-013e-421d-804f-bc6cc64a66bc');\n",
              "          const dataTable =\n",
              "            await google.colab.kernel.invokeFunction('convertToInteractive',\n",
              "                                                     [key], {});\n",
              "          if (!dataTable) return;\n",
              "\n",
              "          const docLinkHtml = 'Like what you see? Visit the ' +\n",
              "            '<a target=\"_blank\" href=https://colab.research.google.com/notebooks/data_table.ipynb>data table notebook</a>'\n",
              "            + ' to learn more about interactive tables.';\n",
              "          element.innerHTML = '';\n",
              "          dataTable['output_type'] = 'display_data';\n",
              "          await google.colab.output.renderOutput(dataTable, element);\n",
              "          const docLink = document.createElement('div');\n",
              "          docLink.innerHTML = docLinkHtml;\n",
              "          element.appendChild(docLink);\n",
              "        }\n",
              "      </script>\n",
              "    </div>\n",
              "  </div>\n",
              "  "
            ]
          },
          "metadata": {},
          "execution_count": 6
        }
      ],
      "source": [
        "df.head()"
      ]
    },
    {
      "cell_type": "code",
      "execution_count": 7,
      "id": "victorian-python",
      "metadata": {
        "colab": {
          "base_uri": "https://localhost:8080/"
        },
        "id": "victorian-python",
        "outputId": "6e487521-c8e3-4062-e508-3870a936e77f"
      },
      "outputs": [
        {
          "output_type": "execute_result",
          "data": {
            "text/plain": [
              "(50000, 2)"
            ]
          },
          "metadata": {},
          "execution_count": 7
        }
      ],
      "source": [
        "df.shape"
      ]
    },
    {
      "cell_type": "code",
      "execution_count": 8,
      "id": "received-greek",
      "metadata": {
        "id": "received-greek"
      },
      "outputs": [],
      "source": [
        "# split the data set into train and test\n",
        "\n",
        "df_train = df.iloc[:40000]\n",
        "df_test = df.iloc[40000:]\n",
        "\n",
        "# # write to disk \n",
        "df_train.to_csv(\"movie_reviews_train.csv\", index=False)\n",
        "df_test.to_csv(\"movie_reviews_test.csv\", index=False)"
      ]
    },
    {
      "cell_type": "code",
      "execution_count": 9,
      "id": "friendly-sandwich",
      "metadata": {
        "id": "friendly-sandwich"
      },
      "outputs": [],
      "source": [
        "# # read data\n",
        "# df_train = pd.read_csv(\"dataset/movie_reviews_train.csv\")\n",
        "# df_test =  pd.read_csv(\"dataset/movie_reviews_test.csv\")"
      ]
    },
    {
      "cell_type": "code",
      "execution_count": 10,
      "id": "subjective-courtesy",
      "metadata": {
        "colab": {
          "base_uri": "https://localhost:8080/"
        },
        "id": "subjective-courtesy",
        "outputId": "d764fdd1-2527-48c8-d0af-24a354b7b6e5"
      },
      "outputs": [
        {
          "output_type": "stream",
          "name": "stdout",
          "text": [
            "(40000, 2)\n",
            "(10000, 2)\n"
          ]
        }
      ],
      "source": [
        "# check the shape of the dataframe\n",
        "print(df_train.shape) # this dataset contain 40000 records and 2 columns for training\n",
        "print(df_test.shape) # this dataset contain 10000 records and 2 columns for testing"
      ]
    },
    {
      "cell_type": "code",
      "execution_count": 11,
      "id": "former-shelter",
      "metadata": {
        "colab": {
          "base_uri": "https://localhost:8080/"
        },
        "id": "former-shelter",
        "outputId": "4063a4a3-312b-4c2a-a629-0cdbd49a4379"
      },
      "outputs": [
        {
          "output_type": "execute_result",
          "data": {
            "text/plain": [
              "Index(['review', 'sentiment'], dtype='object')"
            ]
          },
          "metadata": {},
          "execution_count": 11
        }
      ],
      "source": [
        "df_train.columns"
      ]
    },
    {
      "cell_type": "code",
      "execution_count": 13,
      "id": "veterinary-twist",
      "metadata": {
        "id": "veterinary-twist",
        "colab": {
          "base_uri": "https://localhost:8080/",
          "height": 157
        },
        "outputId": "59deb7b8-a3a9-4b0e-908e-abed426a6209"
      },
      "outputs": [
        {
          "output_type": "execute_result",
          "data": {
            "text/plain": [
              "'Probably my all-time favorite movie, a story of selflessness, sacrifice and dedication to a noble cause, but it\\'s not preachy or boring. It just never gets old, despite my having seen it some 15 or more times in the last 25 years. Paul Lukas\\' performance brings tears to my eyes, and Bette Davis, in one of her very few truly sympathetic roles, is a delight. The kids are, as grandma says, more like \"dressed-up midgets\" than children, but that only makes them more fun to watch. And the mother\\'s slow awakening to what\\'s happening in the world and under her own roof is believable and startling. If I had a dozen thumbs, they\\'d all be \"up\" for this movie.'"
            ],
            "application/vnd.google.colaboratory.intrinsic+json": {
              "type": "string"
            }
          },
          "metadata": {},
          "execution_count": 13
        }
      ],
      "source": [
        "df_train[\"review\"][5]"
      ]
    },
    {
      "cell_type": "markdown",
      "id": "offshore-campus",
      "metadata": {
        "id": "offshore-campus"
      },
      "source": [
        "### 3. Data Preprocessing and Visualization"
      ]
    },
    {
      "cell_type": "code",
      "source": [
        "df_train.isnull().sum()"
      ],
      "metadata": {
        "id": "eDCLK8Jieurj",
        "colab": {
          "base_uri": "https://localhost:8080/"
        },
        "outputId": "5ab2abcd-58df-4a61-ae89-5b50bd9e4a76"
      },
      "id": "eDCLK8Jieurj",
      "execution_count": 14,
      "outputs": [
        {
          "output_type": "execute_result",
          "data": {
            "text/plain": [
              "review       0\n",
              "sentiment    0\n",
              "dtype: int64"
            ]
          },
          "metadata": {},
          "execution_count": 14
        }
      ]
    },
    {
      "cell_type": "code",
      "execution_count": null,
      "id": "pressed-rover",
      "metadata": {
        "id": "pressed-rover"
      },
      "outputs": [],
      "source": [
        "import seaborn as sns\n",
        "# sns.countplot(df_train[\"sentiment\"])"
      ]
    },
    {
      "cell_type": "code",
      "execution_count": 16,
      "id": "shared-coach",
      "metadata": {
        "id": "shared-coach",
        "colab": {
          "base_uri": "https://localhost:8080/"
        },
        "outputId": "f4aec9e3-ac9d-419e-f538-100095d208a0"
      },
      "outputs": [
        {
          "output_type": "stream",
          "name": "stdout",
          "text": [
            "This train_dataset contain 49.98% Negative Sentiment tweet\n",
            "This train_dataset contain 50.02% Positive Sentiment tweet\n"
          ]
        }
      ],
      "source": [
        "Neg = round(df_train[\"sentiment\"].value_counts()[1]/len(df_train) * 100, 2)\n",
        "Pos = round(df_train[\"sentiment\"].value_counts()[0]/len(df_train) * 100, 2)\n",
        "\n",
        "\n",
        "print('This train_dataset contain {}% Negative Sentiment tweet'.format(Neg))\n",
        "print('This train_dataset contain {}% Positive Sentiment tweet'.format(Pos))"
      ]
    },
    {
      "cell_type": "code",
      "execution_count": 17,
      "id": "pressing-kingdom",
      "metadata": {
        "id": "pressing-kingdom"
      },
      "outputs": [],
      "source": [
        "# select relevent columns"
      ]
    },
    {
      "cell_type": "code",
      "execution_count": 18,
      "id": "processed-potato",
      "metadata": {
        "scrolled": true,
        "colab": {
          "base_uri": "https://localhost:8080/",
          "height": 206
        },
        "id": "processed-potato",
        "outputId": "4fd5fcd4-370e-4161-e66e-aca1a303ee06"
      },
      "outputs": [
        {
          "output_type": "execute_result",
          "data": {
            "text/plain": [
              "                                              review sentiment  label\n",
              "0  One of the other reviewers has mentioned that ...  positive      1\n",
              "1  A wonderful little production. <br /><br />The...  positive      1\n",
              "2  I thought this was a wonderful way to spend ti...  positive      1\n",
              "3  Basically there's a family where a little boy ...  negative      0\n",
              "4  Petter Mattei's \"Love in the Time of Money\" is...  positive      1"
            ],
            "text/html": [
              "\n",
              "  <div id=\"df-41d39ecd-4a0b-4ca0-bae7-6437d5163353\">\n",
              "    <div class=\"colab-df-container\">\n",
              "      <div>\n",
              "<style scoped>\n",
              "    .dataframe tbody tr th:only-of-type {\n",
              "        vertical-align: middle;\n",
              "    }\n",
              "\n",
              "    .dataframe tbody tr th {\n",
              "        vertical-align: top;\n",
              "    }\n",
              "\n",
              "    .dataframe thead th {\n",
              "        text-align: right;\n",
              "    }\n",
              "</style>\n",
              "<table border=\"1\" class=\"dataframe\">\n",
              "  <thead>\n",
              "    <tr style=\"text-align: right;\">\n",
              "      <th></th>\n",
              "      <th>review</th>\n",
              "      <th>sentiment</th>\n",
              "      <th>label</th>\n",
              "    </tr>\n",
              "  </thead>\n",
              "  <tbody>\n",
              "    <tr>\n",
              "      <th>0</th>\n",
              "      <td>One of the other reviewers has mentioned that ...</td>\n",
              "      <td>positive</td>\n",
              "      <td>1</td>\n",
              "    </tr>\n",
              "    <tr>\n",
              "      <th>1</th>\n",
              "      <td>A wonderful little production. &lt;br /&gt;&lt;br /&gt;The...</td>\n",
              "      <td>positive</td>\n",
              "      <td>1</td>\n",
              "    </tr>\n",
              "    <tr>\n",
              "      <th>2</th>\n",
              "      <td>I thought this was a wonderful way to spend ti...</td>\n",
              "      <td>positive</td>\n",
              "      <td>1</td>\n",
              "    </tr>\n",
              "    <tr>\n",
              "      <th>3</th>\n",
              "      <td>Basically there's a family where a little boy ...</td>\n",
              "      <td>negative</td>\n",
              "      <td>0</td>\n",
              "    </tr>\n",
              "    <tr>\n",
              "      <th>4</th>\n",
              "      <td>Petter Mattei's \"Love in the Time of Money\" is...</td>\n",
              "      <td>positive</td>\n",
              "      <td>1</td>\n",
              "    </tr>\n",
              "  </tbody>\n",
              "</table>\n",
              "</div>\n",
              "      <button class=\"colab-df-convert\" onclick=\"convertToInteractive('df-41d39ecd-4a0b-4ca0-bae7-6437d5163353')\"\n",
              "              title=\"Convert this dataframe to an interactive table.\"\n",
              "              style=\"display:none;\">\n",
              "        \n",
              "  <svg xmlns=\"http://www.w3.org/2000/svg\" height=\"24px\"viewBox=\"0 0 24 24\"\n",
              "       width=\"24px\">\n",
              "    <path d=\"M0 0h24v24H0V0z\" fill=\"none\"/>\n",
              "    <path d=\"M18.56 5.44l.94 2.06.94-2.06 2.06-.94-2.06-.94-.94-2.06-.94 2.06-2.06.94zm-11 1L8.5 8.5l.94-2.06 2.06-.94-2.06-.94L8.5 2.5l-.94 2.06-2.06.94zm10 10l.94 2.06.94-2.06 2.06-.94-2.06-.94-.94-2.06-.94 2.06-2.06.94z\"/><path d=\"M17.41 7.96l-1.37-1.37c-.4-.4-.92-.59-1.43-.59-.52 0-1.04.2-1.43.59L10.3 9.45l-7.72 7.72c-.78.78-.78 2.05 0 2.83L4 21.41c.39.39.9.59 1.41.59.51 0 1.02-.2 1.41-.59l7.78-7.78 2.81-2.81c.8-.78.8-2.07 0-2.86zM5.41 20L4 18.59l7.72-7.72 1.47 1.35L5.41 20z\"/>\n",
              "  </svg>\n",
              "      </button>\n",
              "      \n",
              "  <style>\n",
              "    .colab-df-container {\n",
              "      display:flex;\n",
              "      flex-wrap:wrap;\n",
              "      gap: 12px;\n",
              "    }\n",
              "\n",
              "    .colab-df-convert {\n",
              "      background-color: #E8F0FE;\n",
              "      border: none;\n",
              "      border-radius: 50%;\n",
              "      cursor: pointer;\n",
              "      display: none;\n",
              "      fill: #1967D2;\n",
              "      height: 32px;\n",
              "      padding: 0 0 0 0;\n",
              "      width: 32px;\n",
              "    }\n",
              "\n",
              "    .colab-df-convert:hover {\n",
              "      background-color: #E2EBFA;\n",
              "      box-shadow: 0px 1px 2px rgba(60, 64, 67, 0.3), 0px 1px 3px 1px rgba(60, 64, 67, 0.15);\n",
              "      fill: #174EA6;\n",
              "    }\n",
              "\n",
              "    [theme=dark] .colab-df-convert {\n",
              "      background-color: #3B4455;\n",
              "      fill: #D2E3FC;\n",
              "    }\n",
              "\n",
              "    [theme=dark] .colab-df-convert:hover {\n",
              "      background-color: #434B5C;\n",
              "      box-shadow: 0px 1px 3px 1px rgba(0, 0, 0, 0.15);\n",
              "      filter: drop-shadow(0px 1px 2px rgba(0, 0, 0, 0.3));\n",
              "      fill: #FFFFFF;\n",
              "    }\n",
              "  </style>\n",
              "\n",
              "      <script>\n",
              "        const buttonEl =\n",
              "          document.querySelector('#df-41d39ecd-4a0b-4ca0-bae7-6437d5163353 button.colab-df-convert');\n",
              "        buttonEl.style.display =\n",
              "          google.colab.kernel.accessAllowed ? 'block' : 'none';\n",
              "\n",
              "        async function convertToInteractive(key) {\n",
              "          const element = document.querySelector('#df-41d39ecd-4a0b-4ca0-bae7-6437d5163353');\n",
              "          const dataTable =\n",
              "            await google.colab.kernel.invokeFunction('convertToInteractive',\n",
              "                                                     [key], {});\n",
              "          if (!dataTable) return;\n",
              "\n",
              "          const docLinkHtml = 'Like what you see? Visit the ' +\n",
              "            '<a target=\"_blank\" href=https://colab.research.google.com/notebooks/data_table.ipynb>data table notebook</a>'\n",
              "            + ' to learn more about interactive tables.';\n",
              "          element.innerHTML = '';\n",
              "          dataTable['output_type'] = 'display_data';\n",
              "          await google.colab.output.renderOutput(dataTable, element);\n",
              "          const docLink = document.createElement('div');\n",
              "          docLink.innerHTML = docLinkHtml;\n",
              "          element.appendChild(docLink);\n",
              "        }\n",
              "      </script>\n",
              "    </div>\n",
              "  </div>\n",
              "  "
            ]
          },
          "metadata": {},
          "execution_count": 18
        }
      ],
      "source": [
        "# create a label columns using manual label encoding\n",
        "lab = {\"positive\":1,\"negative\":0}\n",
        "df_train['label']= df_train[\"sentiment\"].map(lab)\n",
        "df_train.head()"
      ]
    },
    {
      "cell_type": "code",
      "execution_count": 19,
      "id": "demanding-division",
      "metadata": {
        "id": "demanding-division"
      },
      "outputs": [],
      "source": [
        "def clean_review(text): \n",
        "    ''' \n",
        "    Utility function to clean review text by removing links, special characters \n",
        "    using simple regex statements. \n",
        "    '''\n",
        "    return ' '.join(re.sub(\"(@[A-Za-z0-9]+)|([^0-9A-Za-z \\t])|(\\w+:\\/\\/\\S+)\", \" \", text).split()).lower()\n",
        "\n",
        "# clean tweet \n",
        "df_train[\"clean_review\"] = df_train[\"review\"].apply(lambda text : clean_review(text))"
      ]
    },
    {
      "cell_type": "code",
      "execution_count": 20,
      "id": "incredible-partition",
      "metadata": {
        "colab": {
          "base_uri": "https://localhost:8080/",
          "height": 337
        },
        "id": "incredible-partition",
        "outputId": "4c0bd297-8311-432a-b3d6-4ec9ffa86a67"
      },
      "outputs": [
        {
          "output_type": "execute_result",
          "data": {
            "text/plain": [
              "                                              review sentiment  label  \\\n",
              "0  One of the other reviewers has mentioned that ...  positive      1   \n",
              "1  A wonderful little production. <br /><br />The...  positive      1   \n",
              "2  I thought this was a wonderful way to spend ti...  positive      1   \n",
              "3  Basically there's a family where a little boy ...  negative      0   \n",
              "4  Petter Mattei's \"Love in the Time of Money\" is...  positive      1   \n",
              "\n",
              "                                        clean_review  \n",
              "0  one of the other reviewers has mentioned that ...  \n",
              "1  a wonderful little production br br the filmin...  \n",
              "2  i thought this was a wonderful way to spend ti...  \n",
              "3  basically there s a family where a little boy ...  \n",
              "4  petter mattei s love in the time of money is a...  "
            ],
            "text/html": [
              "\n",
              "  <div id=\"df-96335bfe-b56b-4115-b519-a79663a45983\">\n",
              "    <div class=\"colab-df-container\">\n",
              "      <div>\n",
              "<style scoped>\n",
              "    .dataframe tbody tr th:only-of-type {\n",
              "        vertical-align: middle;\n",
              "    }\n",
              "\n",
              "    .dataframe tbody tr th {\n",
              "        vertical-align: top;\n",
              "    }\n",
              "\n",
              "    .dataframe thead th {\n",
              "        text-align: right;\n",
              "    }\n",
              "</style>\n",
              "<table border=\"1\" class=\"dataframe\">\n",
              "  <thead>\n",
              "    <tr style=\"text-align: right;\">\n",
              "      <th></th>\n",
              "      <th>review</th>\n",
              "      <th>sentiment</th>\n",
              "      <th>label</th>\n",
              "      <th>clean_review</th>\n",
              "    </tr>\n",
              "  </thead>\n",
              "  <tbody>\n",
              "    <tr>\n",
              "      <th>0</th>\n",
              "      <td>One of the other reviewers has mentioned that ...</td>\n",
              "      <td>positive</td>\n",
              "      <td>1</td>\n",
              "      <td>one of the other reviewers has mentioned that ...</td>\n",
              "    </tr>\n",
              "    <tr>\n",
              "      <th>1</th>\n",
              "      <td>A wonderful little production. &lt;br /&gt;&lt;br /&gt;The...</td>\n",
              "      <td>positive</td>\n",
              "      <td>1</td>\n",
              "      <td>a wonderful little production br br the filmin...</td>\n",
              "    </tr>\n",
              "    <tr>\n",
              "      <th>2</th>\n",
              "      <td>I thought this was a wonderful way to spend ti...</td>\n",
              "      <td>positive</td>\n",
              "      <td>1</td>\n",
              "      <td>i thought this was a wonderful way to spend ti...</td>\n",
              "    </tr>\n",
              "    <tr>\n",
              "      <th>3</th>\n",
              "      <td>Basically there's a family where a little boy ...</td>\n",
              "      <td>negative</td>\n",
              "      <td>0</td>\n",
              "      <td>basically there s a family where a little boy ...</td>\n",
              "    </tr>\n",
              "    <tr>\n",
              "      <th>4</th>\n",
              "      <td>Petter Mattei's \"Love in the Time of Money\" is...</td>\n",
              "      <td>positive</td>\n",
              "      <td>1</td>\n",
              "      <td>petter mattei s love in the time of money is a...</td>\n",
              "    </tr>\n",
              "  </tbody>\n",
              "</table>\n",
              "</div>\n",
              "      <button class=\"colab-df-convert\" onclick=\"convertToInteractive('df-96335bfe-b56b-4115-b519-a79663a45983')\"\n",
              "              title=\"Convert this dataframe to an interactive table.\"\n",
              "              style=\"display:none;\">\n",
              "        \n",
              "  <svg xmlns=\"http://www.w3.org/2000/svg\" height=\"24px\"viewBox=\"0 0 24 24\"\n",
              "       width=\"24px\">\n",
              "    <path d=\"M0 0h24v24H0V0z\" fill=\"none\"/>\n",
              "    <path d=\"M18.56 5.44l.94 2.06.94-2.06 2.06-.94-2.06-.94-.94-2.06-.94 2.06-2.06.94zm-11 1L8.5 8.5l.94-2.06 2.06-.94-2.06-.94L8.5 2.5l-.94 2.06-2.06.94zm10 10l.94 2.06.94-2.06 2.06-.94-2.06-.94-.94-2.06-.94 2.06-2.06.94z\"/><path d=\"M17.41 7.96l-1.37-1.37c-.4-.4-.92-.59-1.43-.59-.52 0-1.04.2-1.43.59L10.3 9.45l-7.72 7.72c-.78.78-.78 2.05 0 2.83L4 21.41c.39.39.9.59 1.41.59.51 0 1.02-.2 1.41-.59l7.78-7.78 2.81-2.81c.8-.78.8-2.07 0-2.86zM5.41 20L4 18.59l7.72-7.72 1.47 1.35L5.41 20z\"/>\n",
              "  </svg>\n",
              "      </button>\n",
              "      \n",
              "  <style>\n",
              "    .colab-df-container {\n",
              "      display:flex;\n",
              "      flex-wrap:wrap;\n",
              "      gap: 12px;\n",
              "    }\n",
              "\n",
              "    .colab-df-convert {\n",
              "      background-color: #E8F0FE;\n",
              "      border: none;\n",
              "      border-radius: 50%;\n",
              "      cursor: pointer;\n",
              "      display: none;\n",
              "      fill: #1967D2;\n",
              "      height: 32px;\n",
              "      padding: 0 0 0 0;\n",
              "      width: 32px;\n",
              "    }\n",
              "\n",
              "    .colab-df-convert:hover {\n",
              "      background-color: #E2EBFA;\n",
              "      box-shadow: 0px 1px 2px rgba(60, 64, 67, 0.3), 0px 1px 3px 1px rgba(60, 64, 67, 0.15);\n",
              "      fill: #174EA6;\n",
              "    }\n",
              "\n",
              "    [theme=dark] .colab-df-convert {\n",
              "      background-color: #3B4455;\n",
              "      fill: #D2E3FC;\n",
              "    }\n",
              "\n",
              "    [theme=dark] .colab-df-convert:hover {\n",
              "      background-color: #434B5C;\n",
              "      box-shadow: 0px 1px 3px 1px rgba(0, 0, 0, 0.15);\n",
              "      filter: drop-shadow(0px 1px 2px rgba(0, 0, 0, 0.3));\n",
              "      fill: #FFFFFF;\n",
              "    }\n",
              "  </style>\n",
              "\n",
              "      <script>\n",
              "        const buttonEl =\n",
              "          document.querySelector('#df-96335bfe-b56b-4115-b519-a79663a45983 button.colab-df-convert');\n",
              "        buttonEl.style.display =\n",
              "          google.colab.kernel.accessAllowed ? 'block' : 'none';\n",
              "\n",
              "        async function convertToInteractive(key) {\n",
              "          const element = document.querySelector('#df-96335bfe-b56b-4115-b519-a79663a45983');\n",
              "          const dataTable =\n",
              "            await google.colab.kernel.invokeFunction('convertToInteractive',\n",
              "                                                     [key], {});\n",
              "          if (!dataTable) return;\n",
              "\n",
              "          const docLinkHtml = 'Like what you see? Visit the ' +\n",
              "            '<a target=\"_blank\" href=https://colab.research.google.com/notebooks/data_table.ipynb>data table notebook</a>'\n",
              "            + ' to learn more about interactive tables.';\n",
              "          element.innerHTML = '';\n",
              "          dataTable['output_type'] = 'display_data';\n",
              "          await google.colab.output.renderOutput(dataTable, element);\n",
              "          const docLink = document.createElement('div');\n",
              "          docLink.innerHTML = docLinkHtml;\n",
              "          element.appendChild(docLink);\n",
              "        }\n",
              "      </script>\n",
              "    </div>\n",
              "  </div>\n",
              "  "
            ]
          },
          "metadata": {},
          "execution_count": 20
        }
      ],
      "source": [
        "df_train.head()"
      ]
    },
    {
      "cell_type": "code",
      "execution_count": 21,
      "id": "authentic-involvement",
      "metadata": {
        "id": "authentic-involvement"
      },
      "outputs": [],
      "source": [
        "df_train = df_train[[\"clean_review\", \"label\"]]"
      ]
    },
    {
      "cell_type": "code",
      "execution_count": 22,
      "id": "foreign-pathology",
      "metadata": {
        "scrolled": true,
        "colab": {
          "base_uri": "https://localhost:8080/",
          "height": 206
        },
        "id": "foreign-pathology",
        "outputId": "30773a8a-faba-40de-bfc9-f5707953f729"
      },
      "outputs": [
        {
          "output_type": "execute_result",
          "data": {
            "text/plain": [
              "                                        clean_review  label\n",
              "0  one of the other reviewers has mentioned that ...      1\n",
              "1  a wonderful little production br br the filmin...      1\n",
              "2  i thought this was a wonderful way to spend ti...      1\n",
              "3  basically there s a family where a little boy ...      0\n",
              "4  petter mattei s love in the time of money is a...      1"
            ],
            "text/html": [
              "\n",
              "  <div id=\"df-c25a4913-1dab-4300-9370-7ae82301b602\">\n",
              "    <div class=\"colab-df-container\">\n",
              "      <div>\n",
              "<style scoped>\n",
              "    .dataframe tbody tr th:only-of-type {\n",
              "        vertical-align: middle;\n",
              "    }\n",
              "\n",
              "    .dataframe tbody tr th {\n",
              "        vertical-align: top;\n",
              "    }\n",
              "\n",
              "    .dataframe thead th {\n",
              "        text-align: right;\n",
              "    }\n",
              "</style>\n",
              "<table border=\"1\" class=\"dataframe\">\n",
              "  <thead>\n",
              "    <tr style=\"text-align: right;\">\n",
              "      <th></th>\n",
              "      <th>clean_review</th>\n",
              "      <th>label</th>\n",
              "    </tr>\n",
              "  </thead>\n",
              "  <tbody>\n",
              "    <tr>\n",
              "      <th>0</th>\n",
              "      <td>one of the other reviewers has mentioned that ...</td>\n",
              "      <td>1</td>\n",
              "    </tr>\n",
              "    <tr>\n",
              "      <th>1</th>\n",
              "      <td>a wonderful little production br br the filmin...</td>\n",
              "      <td>1</td>\n",
              "    </tr>\n",
              "    <tr>\n",
              "      <th>2</th>\n",
              "      <td>i thought this was a wonderful way to spend ti...</td>\n",
              "      <td>1</td>\n",
              "    </tr>\n",
              "    <tr>\n",
              "      <th>3</th>\n",
              "      <td>basically there s a family where a little boy ...</td>\n",
              "      <td>0</td>\n",
              "    </tr>\n",
              "    <tr>\n",
              "      <th>4</th>\n",
              "      <td>petter mattei s love in the time of money is a...</td>\n",
              "      <td>1</td>\n",
              "    </tr>\n",
              "  </tbody>\n",
              "</table>\n",
              "</div>\n",
              "      <button class=\"colab-df-convert\" onclick=\"convertToInteractive('df-c25a4913-1dab-4300-9370-7ae82301b602')\"\n",
              "              title=\"Convert this dataframe to an interactive table.\"\n",
              "              style=\"display:none;\">\n",
              "        \n",
              "  <svg xmlns=\"http://www.w3.org/2000/svg\" height=\"24px\"viewBox=\"0 0 24 24\"\n",
              "       width=\"24px\">\n",
              "    <path d=\"M0 0h24v24H0V0z\" fill=\"none\"/>\n",
              "    <path d=\"M18.56 5.44l.94 2.06.94-2.06 2.06-.94-2.06-.94-.94-2.06-.94 2.06-2.06.94zm-11 1L8.5 8.5l.94-2.06 2.06-.94-2.06-.94L8.5 2.5l-.94 2.06-2.06.94zm10 10l.94 2.06.94-2.06 2.06-.94-2.06-.94-.94-2.06-.94 2.06-2.06.94z\"/><path d=\"M17.41 7.96l-1.37-1.37c-.4-.4-.92-.59-1.43-.59-.52 0-1.04.2-1.43.59L10.3 9.45l-7.72 7.72c-.78.78-.78 2.05 0 2.83L4 21.41c.39.39.9.59 1.41.59.51 0 1.02-.2 1.41-.59l7.78-7.78 2.81-2.81c.8-.78.8-2.07 0-2.86zM5.41 20L4 18.59l7.72-7.72 1.47 1.35L5.41 20z\"/>\n",
              "  </svg>\n",
              "      </button>\n",
              "      \n",
              "  <style>\n",
              "    .colab-df-container {\n",
              "      display:flex;\n",
              "      flex-wrap:wrap;\n",
              "      gap: 12px;\n",
              "    }\n",
              "\n",
              "    .colab-df-convert {\n",
              "      background-color: #E8F0FE;\n",
              "      border: none;\n",
              "      border-radius: 50%;\n",
              "      cursor: pointer;\n",
              "      display: none;\n",
              "      fill: #1967D2;\n",
              "      height: 32px;\n",
              "      padding: 0 0 0 0;\n",
              "      width: 32px;\n",
              "    }\n",
              "\n",
              "    .colab-df-convert:hover {\n",
              "      background-color: #E2EBFA;\n",
              "      box-shadow: 0px 1px 2px rgba(60, 64, 67, 0.3), 0px 1px 3px 1px rgba(60, 64, 67, 0.15);\n",
              "      fill: #174EA6;\n",
              "    }\n",
              "\n",
              "    [theme=dark] .colab-df-convert {\n",
              "      background-color: #3B4455;\n",
              "      fill: #D2E3FC;\n",
              "    }\n",
              "\n",
              "    [theme=dark] .colab-df-convert:hover {\n",
              "      background-color: #434B5C;\n",
              "      box-shadow: 0px 1px 3px 1px rgba(0, 0, 0, 0.15);\n",
              "      filter: drop-shadow(0px 1px 2px rgba(0, 0, 0, 0.3));\n",
              "      fill: #FFFFFF;\n",
              "    }\n",
              "  </style>\n",
              "\n",
              "      <script>\n",
              "        const buttonEl =\n",
              "          document.querySelector('#df-c25a4913-1dab-4300-9370-7ae82301b602 button.colab-df-convert');\n",
              "        buttonEl.style.display =\n",
              "          google.colab.kernel.accessAllowed ? 'block' : 'none';\n",
              "\n",
              "        async function convertToInteractive(key) {\n",
              "          const element = document.querySelector('#df-c25a4913-1dab-4300-9370-7ae82301b602');\n",
              "          const dataTable =\n",
              "            await google.colab.kernel.invokeFunction('convertToInteractive',\n",
              "                                                     [key], {});\n",
              "          if (!dataTable) return;\n",
              "\n",
              "          const docLinkHtml = 'Like what you see? Visit the ' +\n",
              "            '<a target=\"_blank\" href=https://colab.research.google.com/notebooks/data_table.ipynb>data table notebook</a>'\n",
              "            + ' to learn more about interactive tables.';\n",
              "          element.innerHTML = '';\n",
              "          dataTable['output_type'] = 'display_data';\n",
              "          await google.colab.output.renderOutput(dataTable, element);\n",
              "          const docLink = document.createElement('div');\n",
              "          docLink.innerHTML = docLinkHtml;\n",
              "          element.appendChild(docLink);\n",
              "        }\n",
              "      </script>\n",
              "    </div>\n",
              "  </div>\n",
              "  "
            ]
          },
          "metadata": {},
          "execution_count": 22
        }
      ],
      "source": [
        "df_train.head()"
      ]
    },
    {
      "cell_type": "code",
      "execution_count": 23,
      "id": "level-success",
      "metadata": {
        "colab": {
          "base_uri": "https://localhost:8080/"
        },
        "id": "level-success",
        "outputId": "466548da-4a12-4a00-e84f-47e83a13139c"
      },
      "outputs": [
        {
          "output_type": "execute_result",
          "data": {
            "text/plain": [
              "clean_review    0\n",
              "label           0\n",
              "dtype: int64"
            ]
          },
          "metadata": {},
          "execution_count": 23
        }
      ],
      "source": [
        "# check for missing value \n",
        "df_train.isnull().sum()"
      ]
    },
    {
      "cell_type": "code",
      "execution_count": 24,
      "id": "northern-inflation",
      "metadata": {
        "id": "northern-inflation"
      },
      "outputs": [],
      "source": [
        "# drop missing rows\n",
        "# df_train = df_train.dropna()\n",
        "# df_train.isnull().sum()"
      ]
    },
    {
      "cell_type": "code",
      "execution_count": 25,
      "id": "billion-theorem",
      "metadata": {
        "id": "billion-theorem"
      },
      "outputs": [],
      "source": [
        "# convert training dataset into tensorflow dataset format\n",
        "train_dataset = (\n",
        "    tf.data.Dataset.from_tensor_slices(\n",
        "        (\n",
        "            tf.cast(df_train[\"clean_review\"].values, tf.string),\n",
        "            tf.cast(df_train['label'].values, tf.int32)\n",
        "        )\n",
        "    )\n",
        ")"
      ]
    },
    {
      "cell_type": "code",
      "execution_count": 26,
      "id": "operating-orchestra",
      "metadata": {
        "colab": {
          "base_uri": "https://localhost:8080/"
        },
        "id": "operating-orchestra",
        "outputId": "b6e846b4-d178-4c2e-8729-f848440a592d"
      },
      "outputs": [
        {
          "output_type": "execute_result",
          "data": {
            "text/plain": [
              "<_TensorSliceDataset element_spec=(TensorSpec(shape=(), dtype=tf.string, name=None), TensorSpec(shape=(), dtype=tf.int32, name=None))>"
            ]
          },
          "metadata": {},
          "execution_count": 26
        }
      ],
      "source": [
        "train_dataset"
      ]
    },
    {
      "cell_type": "code",
      "execution_count": 27,
      "id": "breathing-thriller",
      "metadata": {
        "colab": {
          "base_uri": "https://localhost:8080/"
        },
        "id": "breathing-thriller",
        "outputId": "fc0abd48-0494-4316-be2b-9a05bfa82d8b"
      },
      "outputs": [
        {
          "output_type": "stream",
          "name": "stdout",
          "text": [
            "----------------------------------------------------------------------------------------------------\n",
            "example :  b'one of the other reviewers has mentioned that after watching just 1 oz episode you ll be hooked they are right as this is exactly what happened with me br br the first thing that struck me about oz was its brutality and unflinching scenes of violence which set in right from the word go trust me this is not a show for the faint hearted or timid this show pulls no punches with regards to drugs sex or violence its is hardcore in the classic use of the word br br it is called oz as that is the nickname given to the oswald maximum security state penitentary it focuses mainly on emerald city an experimental section of the prison where all the cells have glass fronts and face inwards so privacy is not high on the agenda em city is home to many aryans muslims gangstas latinos christians italians irish and more so scuffles death stares dodgy dealings and shady agreements are never far away br br i would say the main appeal of the show is due to the fact that it goes where other shows wouldn t dare forget pretty pictures painted for mainstream audiences forget charm forget romance oz doesn t mess around the first episode i ever saw struck me as so nasty it was surreal i couldn t say i was ready for it but as i watched more i developed a taste for oz and got accustomed to the high levels of graphic violence not just violence but injustice crooked guards who ll be sold out for a nickel inmates who ll kill on order and get away with it well mannered middle class inmates being turned into prison bitches due to their lack of street skills or prison experience watching oz you may become comfortable with what is uncomfortable viewing thats if you can get in touch with your darker side'\n",
            "\n",
            "label:  1\n",
            "----------------------------------------------------------------------------------------------------\n",
            "example :  b'a wonderful little production br br the filming technique is very unassuming very old time bbc fashion and gives a comforting and sometimes discomforting sense of realism to the entire piece br br the actors are extremely well chosen michael sheen not only has got all the polari but he has all the voices down pat too you can truly see the seamless editing guided by the references to williams diary entries not only is it well worth the watching but it is a terrificly written and performed piece a masterful production about one of the great master s of comedy and his life br br the realism really comes home with the little things the fantasy of the guard which rather than use the traditional dream techniques remains solid then disappears it plays on our knowledge and our senses particularly with the scenes concerning orton and halliwell and the sets particularly of their flat with halliwell s murals decorating every surface are terribly well done'\n",
            "\n",
            "label:  1\n",
            "----------------------------------------------------------------------------------------------------\n",
            "example :  b'i thought this was a wonderful way to spend time on a too hot summer weekend sitting in the air conditioned theater and watching a light hearted comedy the plot is simplistic but the dialogue is witty and the characters are likable even the well bread suspected serial killer while some may be disappointed when they realize this is not match point 2 risk addiction i thought it was proof that woody allen is still fully in control of the style many of us have grown to love br br this was the most i d laughed at one of woody s comedies in years dare i say a decade while i ve never been impressed with scarlet johanson in this she managed to tone down her sexy image and jumped right into a average but spirited young woman br br this may not be the crown jewel of his career but it was wittier than devil wears prada and more interesting than superman a great comedy to go see with friends'\n",
            "\n",
            "label:  1\n",
            "----------------------------------------------------------------------------------------------------\n",
            "example :  b'basically there s a family where a little boy jake thinks there s a zombie in his closet his parents are fighting all the time br br this movie is slower than a soap opera and suddenly jake decides to become rambo and kill the zombie br br ok first of all when you re going to make a film you must decide if its a thriller or a drama as a drama the movie is watchable parents are divorcing arguing like in real life and then we have jake with his closet which totally ruins all the film i expected to see a boogeyman similar movie and instead i watched a drama with some meaningless thriller spots br br 3 out of 10 just for the well playing parents descent dialogs as for the shots with jake just ignore them'\n",
            "\n",
            "label:  0\n",
            "----------------------------------------------------------------------------------------------------\n",
            "example :  b'petter mattei s love in the time of money is a visually stunning film to watch mr mattei offers us a vivid portrait about human relations this is a movie that seems to be telling us what money power and success do to people in the different situations we encounter br br this being a variation on the arthur schnitzler s play about the same theme the director transfers the action to the present time new york where all these different characters meet and connect each one is connected in one way or another to the next person but no one seems to know the previous point of contact stylishly the film has a sophisticated luxurious look we are taken to see how these people live and the world they live in their own habitat br br the only thing one gets out of all these souls in the picture is the different stages of loneliness each one inhabits a big city is not exactly the best place in which human relations find sincere fulfillment as one discerns is the case with most of the people we encounter br br the acting is good under mr mattei s direction steve buscemi rosario dawson carol kane michael imperioli adrian grenier and the rest of the talented cast make these characters come alive br br we wish mr mattei good luck and await anxiously for his next work'\n",
            "\n",
            "label:  1\n"
          ]
        }
      ],
      "source": [
        "# print first five record from train dataset\n",
        "for example, label in train_dataset.take(5):\n",
        "    print(\"--\"*50)\n",
        "    print(\"example : \", example.numpy())\n",
        "    print()\n",
        "    print(\"label: \", label.numpy())"
      ]
    },
    {
      "cell_type": "code",
      "execution_count": 28,
      "id": "abroad-broadcasting",
      "metadata": {
        "id": "abroad-broadcasting"
      },
      "outputs": [],
      "source": [
        "BUFFER_SIZE = 10000\n",
        "BATCH_SIZE = 64"
      ]
    },
    {
      "cell_type": "code",
      "execution_count": 29,
      "id": "according-official",
      "metadata": {
        "id": "according-official"
      },
      "outputs": [],
      "source": [
        "# create batches of the dataset\n",
        "\n",
        "train_dataset = train_dataset.shuffle(BUFFER_SIZE).batch(BATCH_SIZE).prefetch(tf.data.AUTOTUNE)\n",
        "\n",
        "# now every batch will have 64 samples"
      ]
    },
    {
      "cell_type": "code",
      "execution_count": 30,
      "id": "intelligent-overview",
      "metadata": {
        "id": "intelligent-overview",
        "outputId": "a9f36302-ad47-4d26-f06e-176473752ab2",
        "colab": {
          "base_uri": "https://localhost:8080/"
        }
      },
      "outputs": [
        {
          "output_type": "stream",
          "name": "stdout",
          "text": [
            "example :  [b'hilarious film i had a great time watching it the star cuneyt arkin sometimes credited as steve arkin is a popular actor from turkey he has played in lots of tough guy roles epic sword films and romances it was fun to see him with an international cast and some real lousy looking pair of gloves if i remember it was also dubbed in english which made things even more funnier kinda like seeing john wayne speak turkish'\n",
            " b'shame on julia roberts and john cusack they are so talented and should not have had any part in this movie the storyline was dumb and predictable the jokes were not funny the romance was not really romance i was all too happy when this movie ended'\n",
            " b'or maybe that s what it feels like anyway the bat people is about as flat as a rug bland as a sack of flour and as exciting as a rock and as intelligent as all three combined br br okay plot in a nutshell fitting vessel that a doctor moss gets bitten by a bat while checking out a cave with his wife mcandrew and subsequently turns into a bat well not exactly a bat but a bat like creature that looks more like a werewolf who kills his victims in a first person camera viewpoint br br but then there s the business of the sheriff pataki who is about the worst kind of sheriff the hick kind he hassles people he leers at married women he steals handkerchiefs from haberdasheries the fiend he smokes with one of those cigarette holders in his mouth and talks at the same time making him look and sound like buford t justice in smokey and the bandit and this is the worst part he s the most likeable character in the whole film br br the whole film though is just tv movie of the week like crapola guano in this case it s an aip for crying out loud what did you expect oscar caliber stuff br br and what else can you say about a film that not even mst3k can save br br how about no stars for the bat people full version or mst3k version br br by the way if there s ever a sequel for this movie i m burying my tv'\n",
            " b'i thoroughly enjoyed the first part of this two parter the impossible planet and was slightly worried that the second part wouldn t hold up quite so well as has been true in the past of the two parters of the past 2 who series but thankfully my fears were unfounded as i found myself enjoying this episode as much as the previous one anyway we start off with the surviving crew members on the run from the ood whom have become the devil s pawn there is also a bit of philosophizing on the doctor s part in the episode that i quite enjoyed needless to say it was a good solid doctor who story might be a tad too intense for the younger viewers though br br my grade b'\n",
            " b'i ve seen the original non dubbed german version and i was surprised how bad this movie actually is thinking i had seen my share of bad movies like ghoulies 2 rabid grannies zombie lake and such nothing could ve prepared me for this it really was a pain to sit through this flick as there s no plot no good acting and even the special effects aren t convincing especially the so called zombies wearing nothing more than white make up and their old clothes so their good set wouldn t be ruined by ketchup and marmalade stains br br if you really want to waste 90 minutes of your life then watch it for all the others don t do it because you will regret it'\n",
            " b'years ago when darling lili played on tv it was always the pan and scan version which i hated and decided to wait and see the film in its proper widescreen format so when i saw an inexpensive dvd of this julie andrews blake edwards opus i decided to purchase and watch it once and for all br br boy what a terrible film it s so bad and on so many levels that i really do not know where to start in describing where and when it goes so horribly wrong looking at it now it s obvious to any fans of movies that blake edwards created this star vehicle for his wife simply because so many other directors had struck gold with andrews in musicals mary poppins sound of music thoroughly modern millie etc but also because andrews was snubbed from starring in projects made famous on stage by julie herself camelot my fair lady etc because hollywood thought she wasn t sexy or glamorous enough so blake created this stillborn effort to showcase his wife in a bizarre concoction of spy story war movie romance slapstick comedy musical darling lili suffers from multiple personalities never knowing who or what it is some specific scenes are good or effective but as a whole it just doesn t work at all to a point of it being very embarrassing br br mind you the version on the dvd is the director s cut or in this case let s salvage whatever we can from this notorious box office flop in releasing the dvd edwards cut 19 scenes 19 from the original bloated theatrical version into this more streamlined and yet remarkably ineffective version the film moves along with no idea of what it is we are 25 minutes into it and we still don t know what s going on or why we re watching what s going what kind of spy is lili how powerful is she was she ever responsible for someone s death instead we watch a thoroughly bored looking rock hudson trying to woo a thoroughly bored looking julie andrews things aren t helped much with the inexplicable reason why the two fall in love why does julie fall for hudson why him and not other men she got involved with there should have been one of her ex hanging around trying to win her back or trying to decipher her secret this would have given us some much needed contrast to the muddled action it would also have given us some impetuous to the sluggish proceedings there s no catalyst in this story br br one only has to look at the cut scenes to clearly see that edwards and the writer just came up with ideas inspired by andrews and edwards previous successes the best or worst example is the scene when andrews and hudson follows a group of children who sing in the middle of a forest edwards channeling sound of music it s no wonder he removed it from the dvd back in 1970 that scene might have worked on a certain level but today that moment reeks of desperation there are other plot elements directly inspired by andrews edwards other films the endless scenes of dogfights is inspired by the much better modern millie the musical moment i ll give you three guesses was created just to make fun of julie s mary poppins persona which is turned raunchy with julie doing a striptease in the act the ending bird s eye view of julie running towards hudson s plane is another wink at sound of music br br the whole thing is confusing julie plays a singer born from a german father and british mother who lives in england but sings her english songs in paris you never know exactly where the story takes place some moments are just badly edited like when julie and her uncle are on horseback they talk and talk and then julie suddenly sprints off in mid sentence i m like what happened here br br the comedy bits are unfunny and cringe worthy every scene with the french police are pathetic where s peter sellers when you really need him the action is stupid beyond belief when julie and her uncle are on their way to germany on that train hudson s squadron shoots rounds of bullets at the train almost killing lili in the process brilliant what s also funny about that scene is the two leave on the train in the middle of the night but hudson and his squadron reach the train even though they fly off the next morning that s one slow moving train there br br the musical moments the beginning is the best part of the entire film and the reason i gave this film 3 stars but it s effect is diminished considerably because it s repeated at the end speaking of redundant did we really need to see a can can dance crepe suzette stripping scene and julie stripping too the girl in no man s land is ok even if it s bleeding obvious but that moment just doesn t make any sense whatsoever because lili sings it to a group of injured soldiers at a french hospital making me wonder how many soldiers there were injured indirectly by the result of her spying br br the whole project is listless and without energy the romance is 100 unbelievable rock hudson is way too old and tired looking check out the museum scene julie looks dazed like she s on valium but what really kills this ill conceived project is julie playing a german spy edwards desperately wanted to dispel the mary poppins syndrome afflicting his wife and believed that playing a traitor was a good career decision as much as i like julie she s no greta garbo who pulled it off so beautifully in mata hari funny enough even if julie plays a german spy she still comes across as cloying and cute br br how bad is darling lili even after 37 years since its release blake edwards felt he still needed to work on it for its dvd release'\n",
            " b'this is seriously one of the worst movies i have ever seen i love japanese movies and i think another film by the same director electric dragon 80 000 v is a masterpiece i really wanted to like this movie asano is a terrific actor and the storyline was immensely appealing but i couldn t find anything entertaining about it br br the movie takes forever for nothing to happen and the effects the director used like the constant percussion and the exorbitant use of slow motion merely added to my growing annoyance at the fact that the plot was so mind bogglingly slow and the actors were heinously overacting a lot of the boredom was a result of extraneous additions that were completely unnecessary like an hour spent on asano going around slicing buddha statues and proclaiming how he doesn t worship anything this added nothing to the plot a fellow japanese film buff and i were both checking the time constantly we couldn t believe this film was as terrible as it was and the finale was awful i thought the director would at least attempt to reward the viewer for managing to sit through this but sadly i was mistaken'\n",
            " b'this a rip roaring western and i have watched it many times and it entertains on every level however if your after the true facts about such legends as hickcock cody and calamity jane then look elsewhere as john ford suggested this is the west when the truth becomes legend print the legend the story moves with a cracking pace and there is some great dialogue between gary cooper and jean arthur two very watchable stars who help to make this movie the sharp eyed amongst you might just spot gabby hayes as an indian scout also there is a very young anthony quinn making his debut as cayenne warrior he actually married one of demilles daughters in real life indeed its quinns character who informs cooper of the massacre of custer told in flash back the finale is well done and when the credits roll it fuses the american west with american history so please take time out to watch this classic western'\n",
            " b'honestly this is easily in the top 5 of the worst movies i have ever seen partly because it takes itself so seriously as opposed to regular light hearted trash this movies wants you to be emotionally involved to feel for the characters and to care about the alleged conspiracy none of this ever even comes close to happening br br mild spoilers br br there are 3 main reasons why this movie is so terrible 1 incoherent and totally non sensical plot 2 annoying style over substance mtv camerawork 3 moronic characters and plot holes br br allow me to elaborate br br 1 apparently when this movies was being made they couldn t decide whether to make a movie about church conspiracies the stigmata or possession so guess what they combined them an aetheist gets possessed by a dead person who then makes her exhibit the stigmata so as to expose a church conspiracy how a regular person is able to transcend death and possess another human being through his rosary is never explained nor even talked about now instead of just saying what he wants to say he gives her the stigmata why why not just spit it out instead we get treated to scenes of screaming things in harsh voices carving cryptic messages on cars and writing messages on walls apparently this priest was also a violent guy because the possessed young lady also wigs out on one o f the characters while talking in that cliched harsh possessed voice that we all have heard countless times this also starts to tie into my second complaint because whenever the young lady gets the stigmata she also defies the laws of gravity by floating into the air and tossing everything and everybody around her as if they were in an earthquake why does this happen who knows my guess is that the director thought it looked cool br br 2 this movies contains dozens of shots in slow motion of course of birds showing up out of nowhere and flying off and most annoyingly of water dripping this woman s apartment is constantly dripping water constantly logically the place would probably fall apart with this many holes to sum up this complaint towards the end and for absolutely no reason the camera cuts to shots of water dripping in slow motion in reverse why i have no idea it has no relevance to anything and once again i m betting it s because the director thought it looked cool br br 3 one of the main characters says he became a priest to explain away holes in science this doesn t make sense to me i would think that going to church would be enough but no he has to go through the entire rigamarole of becoming a priest i just don t buy it secondly there are lots of plot holes a few of which i will elaborate on below for starters when she first gets the stigmata the scene ends with her laying unconscious bleeding next she s in the hospital who called the ambulance another one is towards the end when the previously mentioned scientific priest character is talking to the spirit who is possessing the girl he says take me as your messenger not a word for word quote but you get the idea his response you have no faith only doubt so because of this he possesses an aetheist an aetheist has no faith far less then any scientific priest and then there s the fact that the object of this movie s conspiracy this lost gospel of st thomas i believe is available at local bookstores the characters are willing to kill to supress this document but you could walk down to a bookstore and buy it maybe this is supposed to take place in an alternate history where it isn t wide known but the movie never tries to tell us this or to even hint that this is an alternate happening of that document s uncovering br br in closing this movie is terrible to a spectacular degree it is my arch nemesis which i feel the need to insult every chance i get i loathe it final grade f'\n",
            " b'this is an excellent film for female body builder female action fans i think that sue price did a great job in this film series nemesis 2 3 4 and proved to be a great fighter she has a very striking appearance and a will of iron to resist the powerful nebula nemesis 2 though not a film of great value and sue price s acting skills not the best to have met in my life the movie itself was something awesome a priceless gem for fans of female body builder action well some parts of nemesis 2 have been copied by other famous sci fi films such as terminator or predator but that s not the point the point is that a puyn casted in that film a very talented body builder who put all of her energy and body talent to show us the best she can do i really enjoyed that film and watched with the same enthusiasm nemesis 3 a rather boring sequel and nemesis 4 a much more interesting sequel than 3 what a pity it hasn t shown yet on dvd'\n",
            " b'the bat people is a proud resident of the imdb bottom 100 every once and a while the movie suddenly vanishes from the infamous list depending on whether there are new movies with paris hilton in the lead or documentaries about american idol stars but it always reliably returns sooner or later and why because unlike the majority of crap in that list the bat people is a legitimate bad film and it deserves to be on there regardless of any media influences or internet buzz this nearly isn t the worst film ever made since the basic concept definitely has a certain charm and ingenuity but it s still indescribably difficult to sit through the whole thing the script is incredibly boring with absolutely unnecessary padding footage and gigantic gaps in continuity and yet the main characters still remain total strangers throughout the entire film other than a sensible screenplay the film also lacks spectacular killing sequences and the make up effects although courtesy of a young stan winston are ludicrously inept and remain largely unseen until the end of the film the film s title is inaccurate as people refers to a number in plural whereas the story actually just revolves on one bat person much more than bruce wayne the real batman plays in this movie and he as well has a genuine bat cave and a bat mobile a stolen ambulance the plot introduces a young couple on their honeymoon weekend exploring caves they wander off from a guided tour group and he gets bitten by a bat whilst trying to protect his wife from the animal s vicious attack worried that he might be infected with rabies he undergoes an intense treatment at the local hospital but still this doesn t prevent him from slowly transforming into a bloodthirsty bat creature he kills random people at night and toys around with the suspicious police sergeant whilst his loving wife is still vastly convinced the awkward behavior is exclusively due to allergic reactions to the rabies treatment sure honey the script never explains why a bat would attack people and how come john always changes back into a normal human being at the dawn of a new day instead of gradually turning into a permanent state of bat guano so basically the bat people is a variation on the good old werewolf theme but obviously not a very interesting one the concept showed a lot of potential but somehow the sub plots center on whiny drunks and perverted sheriffs instead of on ghastly monsters some of the settings and exterior filming locations look impressive the misfit song playing during the credits is strangely catchy there s a nice bit of gore during the climax finally and main actress marianne mcandrew is ravishing to look at though not to listen to this truly bad and boring film s current listing in the bottom 100 is spot number 80 and personally i hope it sticks somewhere in that region the list simply wouldn t feel and traditional without the bat people'\n",
            " b'i saw this movie for the first time when quentin tarantino showed it to a bunch of us at the alamo drafthouse in austin he prefaced it with how freaking awesome he thought he was and how funny it was and in the context of his explanation it was hilarious i can see how it would be damaging to some audiences and the subject is not funny at all but there are at least three lines in the film that had me laughing so hard i thought i d pee they don t come until after the halfway point but when they do oh god you will die oh and jim brown is brilliant he s not in a lot of the movie but when he s there you know whose movie it is naturally the best line in the movie and the funniest is his you ll know it when you hear it'\n",
            " b'what can you say about a short little film filled with secondary actors and no stars with absolutely no bad performances not one poorly delivered line of dialog and with the cold violence on one hand being balanced by the warm heart of the protagonists in the story br br it s a jewel a diamond a little valuable gem of a western that evokes the spirit and legend of the american west a west not settled by grand heroes like hickock or cody or masterson or earp but by the spread of the everyday man and woman farmers and ranch hands merchants and miners and lumbermen whores and barkeeps and entertainers of the day some looking for riches some for peace and quiet some for religious freedom br br it is perhaps a very spiritual story though not promoting any particular religion for even the non mormon cowboys portrayed by ben johnson and harry carey jr act in kind and noble ways toward everybody in the story regardless of religious affiliation and beliefs and go out of their way to promote tolerance and charity when the wagon train comes upon the stranded medicine show people and in true biblical fashion like david and goliath or samson and the philistines they are the guardian angels sent to the wagon train who eventually have to go head to head with the evil incarnate clegg clan likening them to the serpent in the garden of eden and regretting what it is they have to do afterward it s a sweet folkloric tale of the west that hits every target john ford takes aim at br br nowadays i have a western santa claus whose red outfit is covered with a denim drover coat whose red stocking cap is replaced by a brown stetson who carries a burlap bag of presents and a coil of rope to my santa i added a winchester rifle with a sling to put on one of his shoulders and a colt revolver to tuck into his waistband when people at the office ask why my santa has to carry guns i simply reply snakes after all isn t the spirit of the christmas season one where everybody should get what they deserve br br fifty five years later especially post 911 the philosophies and attributes demonstrated by the characters and story of this movie are still as relevant today as they were back then'\n",
            " b'after perusing the large amount of comments on this movie it is clear that there are two kinds of science fiction movie goers there are the ones who are well read extremely literate and intelligent they know the history of the genre and more importantly they know to what heights it can reach in the hands of a gifted author for many years science fiction languished in the basement of literature considered my most critic to be little more than stories of ray guns and aliens meant for pre pubescent teenagers today s well read fan knows well this history and knows the great authors asimov heinlein bradbury and ellison who helped bring science fiction out of that basement in doing so they created thought provoking intelligent stories that stretched the boundaries and redefined the human condition this well informed fans are critical of anything hollywood throws at them they are not critical for it s own sake but look upon each offering with a skeptical eye as they should as hollywood s record has been less than stellar to these fans the story must take supreme importance they cannot be fooled by flashy computer graphics and non stop action sequences when the emperor has no clothes they scream it the loudest br br the second type of science fiction movie goer has little knowledge about the written aspect of the genre look at many of the above comments that state well i haven t read the book or anything by this author their total exposure to science fiction is from movies or the scifi channel they are extremely uncritical willing to overlook huge plot holes weak premises and thin story lines if they are given a healthy dose of wiz bang action and awesome special effects they are in effect willing to turn off their critical thinking skills or maybe they never had them for the duration of the movie case in point i robot while supposedly based on asimov s short stories and named after one of his novels it contains little of what asimov wrote and even less of what he tried to tell us about humanity and our robotic creations those of you that will run out and buy i robot will be very much surprised this movie isn t even based on that story at all br br the film has enormous plot holes that at some points are stretched to the limits of credulity i won t point them out i won t spoon feed you you need to practice you thinking skills and discover them for yourself the characters which are named after many of asimov s characters do not possess the critical intelligence that was a hallmark of his stories the plot itself with all it s action sequences goes against everything that the author stood for his belief that humanity possesses the capacity to solve problems using their minds not their fists is vital to understanding his vision of the future in short other than the name their is very little of isaac in anything about this movie there will always be those uncritical i e unthinking who will state the movie doesn t have to be like the book due to the medium movies sometimes require that changes be made but what about a case where the movie never even tried to stay close to the book or books from the start what if all they took from the written work was the title this begs the question why tarnish a great body of work by slapping it s title on your vacuous piece of crap save money and don t buy the rights to the works title it something else don t use the character s names believe me no one will accuse you of plagiarism in fact it won t matter what you title it to the unread moviegoer who accepts everything you throw at him but it will upset those who read who think who are unwilling to simply let you give them a pretty light show br br i robot like much of hollywood s take on the genre pushes science fiction back down into that basement it lived in years ago hollywood could not do this alone it takes an uncritical mindless audience that will accept puerile dredge like this'\n",
            " b'considering the big name cast and lavish production i expected a lot more of this film the acting for the most part is great although the story they have to work with is mediocre at best however the film still warrants watching because of the acting and the stars and some and up and coming young talent'\n",
            " b'i loved this show i was waiting for it to come out on dvd it never has does anyone know how to get the show available on dvd i have contacted lifetime tv and a few others and nothing please let me know if there is a way we can have this series on dvd iwould be first in line to purchase it i really got hooked on this show i do not understand how a bunch of other tv shows are available on dvd but not any day now i am sure there are many of us out there who would love to have this series on dvd or even vhs i thought of contacting the production company has anyone else out there tried to contact anyone for this information'\n",
            " b'after having seen this show a few times i am thoroughly offended as a female that there are so many stupid women out there that fall for this bullshit im a little more mature than some of the players in this show but am still appalled that the whole dating game has been boiled down to a gameshow where goofy dudes can score points on their lame ass attempts to pick up chicks if young guys are watching this and using it as a learning manual don t save yourself the effort and hire a prostitute if all you are after is a piece of ass maybe there are girls out there with the same mind set but some how i don t think so'\n",
            " b'forget some the whiny and pointless comments left here by some this series is well acted well shot and makes a refreshing change to most of the pap on tv br br any fool can nitpick anything however in this show the characters are believable the story lines intriguing and compelling but do require some intelligence on the part of the viewer overall it s enjoyable and it s british we do occasionally come up with some gems and this is one of them br br the shows are an hour long each and i think there are four of them all together at least i ve only seen four of them the show clearly impressed some u s tv station director who made a longer series which was nowhere near as compelling in spite of the bigger budget br br if like soaps and reality shows you won t like or understand eleventh hour'\n",
            " b'what an empty and lack lustre rendition of the classic novel i do wish people would stop messing about with classics when they clearly have no idea of the real intention or point of the original this version is no different i felt that the ralph fiennes version is much worse though as the casting of juliette brioche as kathy has got to be the worst casting decision ever anyway back to this version it aims to make the story relevant to a contemporary setting and in a musical style it succeeds in both but high art it is nit throwaway viewing for a rainy day maybe the direction was average and the editing abysmal worse than the old quincy deepak verma does a great turn as hindley and is in fact one of britains wasted talents the part of heath was played with great charm and belief and i think that the casting is the strongest point of this project although a more talented director would have made better use of the facilities he had its clear that he was a director for hire and didn t instill the project with the passion that it deserved'\n",
            " b'i just watched the dresser this evening having only seen it once before about a dozen years ago br br it s not a big movie and doesn t try to make a big splash but my god the brilliance of the two leads leaves me just about speechless albert finney and tom courtenay are nothing less than amazing in this movie br br the dresser is the story of sir an aging shakespearean actor finney and his dresser norman courtenay sort of a valet putting on a production of king lear during the blitz of london in world war ii these are two men each dependent upon the other sir is almost helpless without the aid of norman to cajole wheedle and bully him into getting onstage for his 227th performance of lear and norman lives his life vicariously through sir without sir to need him he is nothing or thinks he is anyway br br this is a character driven film the plot is secondary to the interaction of the characters and as such it requires actors of the highest caliber to bring it to life finney only 47 years old is completely believable as a very old very sick petulant bullying but brilliant stage actor he hisses and fumes at his fellow actors even when they re taking their bows and courtenay is no less convincing as the mincing dresser who must sometimes act more as a mother than as a valet to his elderly employer employer is really the wrong term to use though for although technically their relationship is that of employer and employee most of the time sir and norman act like nothing so much as an old married couple br br yes there are others in the cast of this movie but there is no question that the true stars are finney courtenay and the marvelous script by ronald harwood that is not to say that there aren t other fine performances most notably eileen atkins as the long suffering stage manager madge there is a wonderful scene where sir and madge talk about old desires old regrets and what might have been br br although it doesn t get talked about these days it is worth remembering that the dresser was nominated for five academy awards best actor nominations for both finney and courtenay best picture best director peter yates and best adapted screenplay br br i had remembered this as being a good movie but i wasn t prepared to be as completely mesmerized as i was from beginning to end if you want to see an example of what great acting is all about and be hugely entertained all the while then i encourage you to see the dresser'\n",
            " b'few people realize it but there was world literature in the ancient world before the greeks came on the scene besides the literary remains that are in the old testament of the jews there were considerable works from mesopotamia and egypt the summit of the former were the religious poetry and the epic of gilgamesh the egyptians produced many poems but there main addition was a tale of adventure of a traveler and physician called the story of sinuhe it is from this work actually a fragment that we don t know the ending of that the novel the egyptian came from br br the story is unique as is the movie the egyptian was a best seller in the early 1950s and darryl zanuck decided to take a chance making it yes he wanted a showcase for his girlfriend bella darvi as nefer as well as the rest of the cast victor mature edmund purdom peter ustinov michael wilding and gene tierney but he was aware that these films rarely made large box office one can chalk up this as an example of zanuck trying something different br br the number of movies that deal with ancient egypt are very small land of the pharoahs the egyptian the ten commandments both de mille versions moses holy moses cleopatra the mummy all versions the scorpion king if there are 20 films about ancient egypt it s is tremendous but the egyptian is unique while the second ten commandments discusses ramses the great pharoah ramses ii yul brynner and his father seti i cedric hardwicke and the films on cleopatra deal with her few other names of ancient egypt crop up in film egypt s greatest pharoah was thutmose iii who conquered most of the known middle east of the era of 1470 b c e or so no film about him has appeared nor of his usurping predecessor history s first great female ruler hatschepsut but the only known pharoah who attempted a religious revolution that approached what the jews and later the christians attempted a type of monotheism is the subject of the egyptian this is pharoah akhnaton br br in reality akhnaton was practicing a personal form of monotheism that was not meant for public consumption but it angered the priestly class who worshiped amon rather than aton due to our uncertain historic records although akhnaton s official records the tel el amana letters are quite complete as far as they survive we do not know if the pharoah was killed in a palace coup or not however he died he was succeeded by a young brother or son of his whose name is better recalled than any other pharoah except ramses tutankhamon br br this film is actually quite good as far as it goes wilding makes a good natured akhnaton who is too weak to be as effective as a religious reformer is supposed to be mature is good as the ambitious and outside the film ultimately successful future pharoah horemheb tierney and purdom do well in their lead parts and ustinov is good as purdom s friend also good is ms darvi in a large supporting part in a wonderful cameo is john carridine as a philosophical grave robber the film is certainly worthy of viewing as one of the few attempts to show part of the history and culture of ancient egypt'\n",
            " b'at first sight who s singing over there just seems to be an absurd and excellent comedy with only a kind of unusual quiet and slow motion what a mistake br br beginning with two singers on a desert landscape then a bus and a wonderful bunch of actors it hides a gem br br the folded story and a false rhythm induces you to think yes it is comic but just lets you guess it will be a gentle kind of movie br br not at all very funny by instant dark subtle cynical on others its development surprises you all along the story very ingeniously and cleverly presented all the characters are important and the actors give them full life br br and what is astonishing it s based on deep observation great mastering of the camera work and has a great meanings and really everything the general direction and how also the details are presented that it simply makes you forget it s a movie it is like to watch a kind human society you yet don t know shot by a friend behind a camera br br and you re the one behind him it is simple and simply exceptional br br don t misunderstand me in no way that would means the script the quality of picture the music score have a kind of amateurish way no no it s great art br br because it flows like a river from high up in the mountain down to the sea with all the different sort of grounds and peregrinations that a real river will face on its journey to the sea from a tiny thing to a main stream br br this metaphoric image i used is the very best way i can find to explain all the charm that has who s singing over there for me again i take the hammer simply exceptional br br i ve seen that the director is the one who made chat blanc chat noir which i know is quiet famous but as i yet didn t see it i had no idea about this gentleman br br others reviewers wrote dithyrambical comments on that film i fully agree br br european eastern cinema is not well know because seldom translated but i am lucky to have this exemplar one in original language with good english subtitles all in all deep delicious and exceptional br br for fast and empty exploding types and special effect buffs avoid it at any cost it may be too subtle and good for you br br but if you re interested in different genres and or classics i guess you won t regret this one and in case of buying it will have good companionship in your personal dvd library with such no less than merited big names like billy wilder lubitsch or sacha guitry among some of my preferred directors at least for this movie br br a film is never really good unless the camera is an eyes in the head of a poet orson welles'\n",
            " b'whatever rating i give boom is only because of the superb location photography of sardinia and rome otherwise this is only for hardcore addicts of elizabeth taylor her downward phase and richard burton his miscasting phase tennessee williams wrote the milk train doesn t stop here anymore and is supposed to be very fond of this adaptation of his play but apparently he was the only one taylor reportedly hated it and burton needed the money br br whatever it amounts to a hill of beans with taylor posturing and fuming in her shrill manner exploding at the servants and exchanging bad baby talk with no less than noel coward who seems to be a visitor from another film when he finally appears br br it s so campy that among taylor fans it s probably considered a must see kind of thing but if you can sit through this one without a drink in your hand you re way ahead of me sadly this is the film that signified the end of taylor being taken seriously as a film actress even after winning two oscars for burton it was equally disastrous and the critics called it a bomb judge for yourself if you dare'\n",
            " b'this movie is the best film ever i can t remember the last time a movie has drawn tears out of me with a tear in my eye i admire this movie it has all the elements that a good movie must have excellent dialogues music acting story plot a story of friendship courage kindliness and loyalty between a street performing who famous to the king of masks and a little girl that sold as a boy in serf bazaar little girl liked to be his granddaughter and king of masks liked a grandson they were not conventional in real every scene they were together was priceless the camera work is flawless and grips you the acting is inspired xu zhu was excellent as the king of masks renying zhou doggie looks pretty and played her character very well zhigang zhao as liang sao lang was great he played his helpful and kindhearted character extremely well if you have t this movie try it once do watch it'\n",
            " b'i am a jane eyre lover and a purist and this version includes almost all of the important details of the book and the characters are portrayed as i imagined them jane eyre is a complex story of great richness and can t be delivered properly in a feature length format so it needs a tv mini series timothy dalton s rochester is probably the best ever there has been a lot of discussion about how attractive he is and his age in the book jane the narrator describes him as about 35 and not young but not yet middle aged i think timothy dalton was about 38 when he made this so that is about right also we only have jane s opinion of whether rochester is handsome she only just met him and he asks her bluntly what she thinks as an inexperienced and humble girl i can t imagine her saying she did think him handsome the actor playing rochester needs to show us the character of the man and this is fulfilled to perfection i love the relationship between the two leads which is the crucial thing about this story and the humour of their encounters other versions have blown it but this gets it right the 2006 version with toby stephens aged 37 years is in progress on bbc1 and is very good indeed so i will decide whether that is my favourite when it is completed br br on viewing this series again after watching the 2006 version i have decided that this version with timothy dalton and zelah clark is the best charlotte bronte s dialogue is preserved and this is essential to the power of the story modernisation just doesn t work it s a victorian story and having archaic poetic speech suits the characters this version has an excellent cast zelah clark is tiny and the difference in height between her and rochester is important timothy dalton has real presence and is an amazing actor there are no extra scenes to divert from the plot and the screenplay includes all the essential scenes but leaves out unnecessary details making it to the point and gripping i recommend it to all true jane eyre fans'\n",
            " b'waste of my life the director should be embarrassed why people feel they need to make worthless movies will never make sense to me when she died at the end it made me laugh i had to change the channel many times throughout the film because i was getting embarrassed watching such poor acting hopefully the guy who played heath never gets work again on top of that i hope the director never gets to make another film and has his paycheck taken back for this crap 02 out of 10'\n",
            " b'damon runyon s world of times square in new york prior to its disneyfication is the basis for this musical joseph l mankiewicz a man who knew about movies directed this nostalgic tribute to the crossroads of the world that show us that underside of new york of the past frank loesser s music sounds great we watch a magnificent cast of characters that were typical of the area people at the edges of society tended to gravitate toward that area because of the lights the action the possibilities in that part of town this underbelly of the city made a living out of the street life that was so intense br br some of the songs from the original production were not included in the film we don t know whether this makes sense but this is not unusual for a hollywood musical to change and alter what worked on the stage that original cast included the wonderful vivian blaine and stubby kaye and we wonder about the decision of not letting robert alda sam levene isabel bigley repeat their original roles these were distinguished actors that could have made an amazing contribution br br the film visually is amazing the look follows closely the fashions of the times as far as the casting of marlon brando otherwise not known for his singing abilities frank sinatra and jean simmons seem to work in the film sky masterson is after all a man s man who would look otherwise sissy if he presented a different look frank sinatra is good as nathan detroit jean simmons as sarah brown does a nice job portraying the woman from the salvation army who suddenly finds fulfillment with the same kind of man she is trying to save br br vivian blaine is a delight she never ceases to amaze as miss adelaide a woman with a heart of gold who s nathan detroit s love interest ms blaine makes a fantastic impression as the show girl who is wiser than she lets out to be stubby kaye makes a wonderful job out of reprising his nicely nicely johnson br br the wonderful production owes a lot to the talented abe burrows who made the adaptation to the screen the costumes by irene sharaff set the right tone'\n",
            " b'there s lots of ketchup but not a whole lot of sense in the supposedly explanatory third sequel which piles on the naff visuals to no effect good old alan smithee directed this one in which various members of the same family all played poorly by bruce ramsay are terrorised by pinhead doug bradley wheeled out of mothballs for the umpteenth time peter atkins tries to imbue his script with poetic touches but doesn t seem to realise that his dialogue is as deep and meaningful as a plate of sick the incoherent plot fails to adequately fill the movie s meagre running time although this may have more to do with studio interference than anything the filmmakers intended'\n",
            " b'saw this film at the nft in london where it was showing as part of the bfi s john huston season i wasn t really sure what to expect and the first few minutes of the film gave very little away in fact the rest of the film continued to give little away no real plot no action no suspense very little drama and except for a short section at the very end no scenery br br the result of lack of all of these features was however a wonderful film i don t fully understand why but i think that its understated nature made the film almost completely perfect the acting script and most important of all the casting were all spot on and i can t remember walking away from a cinema feeling so good but i still can t work out why i just know that i will be getting the dvd this is one of those films that will i am sure be just as good on the small screen as the cinema experience provided that you can find somewhere quiet to watch it and i will be watching it again soon i will be also interested to find out what my family and friends think of it i m sure that it will not be everybody s choice but i am convinced that a large number will agree with my view br br 9 out of 10'\n",
            " b'wow i just have to say this show is super cool i fell in love with the show from the beginning the idea of the show is very original and very soothing it s also a pleasure to watch the performance the two lovely leading ladies give lauren graham and alexis bledel they re simply wonderful i m especially a big admirer of lauren graham she s not just a pretty face she s a monster of an actress as well i m not saying that alexis isn t a wonderful actress as well i just happen to like lauren better anyway it s a real delight seeing them on screen sparing with words in the words of the immortal jim carrey b e a utiful'\n",
            " b'basing a television series on a popular author s works is no guarantee of success yorkshire television learnt this the hard way when in 1979 they bought the rights to the books credited to dick francis three of which were broadcast under the collective title the racing game mike gwilym was sid halley a former jockey turned private eye following an accident in which he lost his right hand only to have it replaced by an artificial one gwilym suffered from an acute lack of charisma and looked like one of the bad guys while mick ford who played the irritating chico barnes made me think of a horse s arse whenever he was on screen for six weeks this less than dynamic duo charged about the countryside foiling nefarious plots to fix races usually by the same methods blackmail kidnapping riders or doping horses yorkshire television threw money at the show but to no avail violent sexist far fetched and repetitious it was quickly carted off to the knackers yard'\n",
            " b'if you are a fan of slap stick that has terrible writing awful acting and cliche after cliche this one is for you br br there is far too much to list for the reasons why this movie sucks in a brief synopsis people with a combined iq of 100 journey to new mexico on a race for 200 million dollars and yes they are all apparently super heroes as they can do many things such as jump onto trains that are traveling 80 mph survive numerous car crashes and endless instances of outright cartoonish roadrunner and coyote antics br br if you are a teen or dont want to think for a movie this one is for you not one actor outside of lovitz is believeable at all lovitz saves the movie from a 1 with the hitler bit br br 2 10 save yourself the 2 hours of pain and 4'\n",
            " b'i enjoyed still crazy more than any film i have seen in years a successful band from the 70 s decide to give it another try they start by playing some gigs in some seedy european venues with hilarious results the music is fantastic the script and acting are terrific the characters are spot on especially the lead singer with the high heavy metal voice makeup and personality problems the concert at the end was unreal go and see it preferably in a cinema with a good sound system'\n",
            " b'tashan the title itself explains the nature of the movie br br this type of movies are actually made for flop what a shame that yash raj films produces such movies those are worthless than c grade movies or even some c grade movies have better and pleasing story than tashan the much hyped and over confidently promoted tashan poorly bombed at the box office which it certainly deserved br br in my view this is the worst movie ever made from honourable yash raj films banner how come they handled such a heavy project to new vijay krishna acharya who has no actual sense of making action flick he tried to imitate sanjay gadhvi s ways of making like dhoom but he suffered at last the action scenes are more like than comics or cartoon movies made for exhausting the audiences br br the story also loses in its meaning and substances to tenderly win the audiences hearts in most scenes anil kapoor reminds me of southern tamil star rajnikant in his body languages and wordly expressions i am not a fan of neither saif nor akshay but the award of kareena should have finally gone to saif s hand instead of akshay just from the starting point i expected of it but at the end it displeased me with the climax truth saif is the main behind the whole adventure while akshay joins in the midst in any movie the final should be judged with the whole characters of the entire story and the award or say reward should be given to the one who deserves credit and tashan loses in this way and unexpectedly failed to become a hit br br akshay s has nothing new to show off his comedian talent here but still reminds of his previous movies he seriously need to form a new image to his fans that would impress them again and again in between saif did a great job in race and now he returned again in his hilarious nature through this movie but he has fully developed himself in the acting field and last but not the least about kareena she looks really hot with bikini dress of which some complain as she became too lean but i myself don t think so instead she became slim yes slim it is a good factor for a female to attract the major people or say male beside them it is nice that saif s son ibrahim appears in the beginning last as young saif i hope now he too will lean forward in target of making acting as his career br br those who like this tashan they are either mentally immatured or still want to go back to childhood or say want to be admitted in an asylum thumbs down to debutante director vijay krishna acharya who mishandled the project offered by yash raj films in future he should experiment and study the script minimum of 5 years before going into practical directions br br sorry i don t like to rate good stars to this type of junk movies'\n",
            " b'another small piece of the vast picture puzzle of the holocaust is turned face up in this docudrama about the rosenstrasse protest in berlin an event i had not known of that began in late february 1943 the details are given in an addendum that follows this review br br the film narrative sets the story of this protest within another contemporary story that begins in new york city in the present here a well off non observant jewish woman whose husband has just died shocks her children and others by insisting on an extremely orthodox mourning ritual she goes even further demanding that her daughter s non jewish fianc leave the house br br the distressed daughter hannah maria schrader then learns for the first time from an older cousin that during wwii in berlin her mother then 8 years old had been taken in and protected by an aryan woman hannah drops everything goes to berlin and finds this woman lena fischer now 90 hannah easily persuades the woman to tell her story it all seems rather too pat br br the film thereafter improves focusing through long flashbacks primarily on the events of 1943 that surrounded the protest in which the fictitious central character is the same mrs fischer at 33 played magnificently by katja riemann a baroness and accomplished pianist who is married to fabian martin feifel a jewish concert violinist one of the men detained at the rosenstrasse site br br the narrative does briefly weave back to the present from time to time and also ends in new york city once again while scenes in the present are color saturated the 1943 scenes are washed out strong on blue gray tones br br the quality of acting is generally quite good what we might expect given the deep reservoir of talent in germany and the direction of margarethe von trotta new german cinema s most prominent female filmmaker herself a former actress br br the story of the protest is told simply only one feature is lacking that would have helped still text notes at the end indicating the eventual outcome for those people taken into custody at rosenstrasse an outcome that was as the addendum below makes clear incredibly positive br br rosenstrasse has not fared well in the opinions of most film critics overly long needlessly layered purveyor of gender stereotypes manipulative with music so go the usual raps it is too long but i found in this film an austere powerful spontaneous and entirely convincing voice of protest from the women who kept the vigil outside the place on rosenstrasse where their jewish relatives and others were detained i found nothing flashy contemporary or manipulative in this depiction br br the very absence of extreme violence no one is shot or otherwise physically brutalized intensified my tension which increased incrementally as the film progressed you keep waiting for some vicious attack to begin any minute the somberness of the film stayed with me afterward i awoke often later in the night i saw the film my mind filled with bleak melancholic chaotic images and feelings conjured by the film for me that happens rarely in german and english my rating 8 10 b seen on 05 31 05 if you d like to read more of my reviews send me a message for directions to my websites br br add the rosenstrasse protest swept up from their forced labor jobs in what was meant to be the final roundup in the national capital 1700 to 2000 jews mostly men married to non jewish women were herded into rosenstrasse 2 4 a welfare office for the jewish community in central berlin br br because these jews had german relatives many of them highly connected adolf eichmann hoped that segregating them from other prisoners would convince family members that their loved ones were being sent to labor camps rather than to more ominous destinations in occupied poland br br normally those arrested remained in custody for only two days before being loaded onto trains bound for the east but before deportation of prisoners could occur in this case wives and other relatives got wind of what was happening and appeared at the rosenstrasse address first in ones and twos and then in ever growing numbers br br perhaps as many as six thousand participated in the protest although not all at the same time women demanded back their husbands day after day for a week unarmed unorganized and leaderless they faced down the most brutal forces at the disposal of the third reich br br joseph goebbels the gauleiter governor or district leader of berlin anxious to have that city racially cleansed was also in charge of the nation s public morale on both counts he was worried about the possible repercussions of the women s actions rather than inviting more open dissent by shooting the women down in the streets and fearful of jeopardizing the secrecy of the final solution goebbels with hitler s concurrence released the rosenstrasse prisoners and even ordered the return of twenty five of them who already had been sent to auschwitz br br to both hitler and goebbels the decision was a mere postponement of the inevitable but they were mistaken almost all of those released from rosenstrasse survived the war the women won an astonishing victory over the forces of destruction adapted from an article posted at the university of south florida website a teacher s guide to the holocaust'\n",
            " b'this story is dedicated to women according to the introduction who have been fighting for their rights ever since adam and eve started the loose leaf system when politics was filmed the nineteenth amendment guaranteeing women the right to vote was only a decade old and the film deals with the wielding of political power by women as a voting group advocating prohibition and shutting down speakeasies was a main concern for women at the time br br good natured marie dressler as hattie burns becomes politically active after a young woman is shot and killed coming out of a speakeasy she wants the liquor selling joints closed and is drafted into a mayoral run after delivering a powerful speech at a women s rally ms dressler is supported by her tenants best friend polly moran as ivy higgins and her stuttering husband roscoe ates as peter higgins dressler s run for mayor of lake city draws opposition from men in town so dressler orders the women to go on strike denying them everything in the parlor bedroom and bath br br the film sounds much better than it turned out the humor frankly isn t too good and it features some unfunny and moderately offensive situations you look like madame queen refers to an amos and andy character and the mixing of shootings and slapstick doesn t mix well this time producers might have considered making the film more dramatic focusing exclusively on dressler and the characters played by william bakewell as benny emerson and karen morley as myrtle burns br br politics 7 25 31 charles reisner marie dressler polly moran roscoe ates'\n",
            " b'this film isn t supposed to be funny but it made me laugh br br it isn t designed to be sad but my heart felt heavy through a number of the vignettes br br it isn t written as action adventure but my pulse raced more than once br br just like life this movie doesn t manipulate your emotions and tell you how to feel it simply is and you react br br if you don t find it funny or sad or moving i suspect that says more about you than the film br br it amazing and refreshing to see a director so wholeheartedly celebrate that we are all human and embrace that we are all trapped here doing this life thing over and over for as long as we must br br tomorrow is another day'\n",
            " b'i would not recommend this movie even though it is rated g and is clearly for kids there is quite a lot of swearing including the dreaded f and s words this kind of language doesn t offend me particularly but in a kids film come on br br there was also quite a bit of implied sexual content between one of the early adolescent male characters and any willing adult woman who came along including a prostitute br br the acting was as good as it gets in this genre of film but the story line was very very cheesy and even my four year old remarked that it was stupid br br despite having elizabeth shue this film is definitely not worth checking out if you haven t seen it'\n",
            " b'i saw anatomy when it came out and recently bought it and the 2003 sequel and as i watch a lot of foreign films in various genres you have to watch movies in their original language for sure not only is it annoying to know the voices don t belong to the actors but they always seem cheerful like the whole movie is one big long toothpaste commercial or something it makes an otherwise awesome movie seem horrible and i have had to convert a lot of my friends who used to think foreign films aren t as good as north american films that they aren t hollywood enough also they translation is never right it s too literal and screws up the vibe of the movie even if it s basically saying the same thing i watched anatomy by myself the other week in german then with subtitles with my roommate because he was on his laptop and didn t want to have to miss parts when he couldn t see the subtitles because he was typing 30 mins in and he begged me to let him finish his work then start the movie over with subtitles he loved it both movies are awesome as intellectual horror films kelly'\n",
            " b'jeremy irons and forrest whitaker are good actors but this movie was badly written first of all during the hijack scene irons sits too comfortably in his chair he appears to be reading something and rather calmly too perhaps the director shot the actor in between takes also the violence at the hijacking was a big letdown slow mo bullets flying how his wife and daughter get killed is just not that interesting and the tension is lost his grieving afterward wasted another 10 minutes then he decided to get revenge and talk to all his industry journalist friends and ambassadors he s a journalist for the stuffy economist rag and lo and behold they actually give him tips on where to find the bad guys how do they know but what really made me turn the movie off halfway through was when irons finds his way into a warehouse where baddies are hanging out but not the baddies who killed his wife and blows them away anyway so he s just a murderer he gets away and well i shut it off i mean i couldn t figure out how his friends knew anything and also i thought he was after the remaining 2 guys in custody who were the original hijackers instead he s going after their friends i guess or anyone who hangs out in warehouses and leaves automatic weapons laying around the suspense was just totally conventional and the dialog was lame it s ok son crying helps he says to his son son says no it doesn t and father says you re right it doesn t irons takes on questionable roles like that one dragon movie he did he was excellent in brideshead revisited which is a completely different animal than this lukewarm thriller'\n",
            " b'i saw this movie on my flight from philly to denver the screen was three rows in front of me and about 12 x 10 so i really wasn t going to watch it but i like malcolm in the middle so i thought i d watch just a few minutes next thing i know i m sucked in having a great time and was pleased as how good it was and how fast it seemed to make the time go by i agree with that the acting is very good for this level of entertainment being one of the older baby boomers i was also pleased to see lee majors with a role in the movie as with a couple of other actors who were famous jamiel yesterday but are out of the spotlight today poking fun at themselves br br it s your basic kid is wronged kid gets even and then some and everyone enjoys themselves in the process no heavy thinking no great analysis needed just a good fun way to pass the time br br 3 5 out of 5'\n",
            " b'the film was apparently spawned from an idea one of the writers had when he saw one of his creations in a supermarket the inhabitants of royston vasey head into our world to persuade the writers not to stop writing about them and thus destroy their world br br if that sounds a bit too serious don t be put off within the first few minutes we get bernice the vile female vicar letting rip at an unfortunate penitent during confession chinnery the vet who inadvertently destroys every animal he touches attempting to collect semen from a giraffe mickey thick beyond belief being ah thick and tubbs inbred sister wife and local shopkeeper being sweet as ever but still disgusting br br some of the regular characters are missing but a new idea by the gents introduces some 16th century characters and we have the gents themselves in the action too if you re new to the league of gentlemen this is an easy introduction and a lot of fun if you re a long standing fan this has everything you ve come to expect including the joys of jeremy dyson spotting br br all told it s got the same faintly surreal humour that s the hallmark of the series plus some moments of quite touching introspection herr lipp for example maintains a gentle dignity on learning that he s regarded by his creators as a one joke character while most of the characters stay as they are some develop in unexpected ways that are perfectly natural when they happen br br this film is a swan song for royston vasey but it s also a showcase for the gents who prove that gasp they can write other stuff and it can be very funny but you knew that anyway'\n",
            " b'and a perfect film to watch during the holiday season as the winter xmas atmosphere that burton creates for gotham city is way cool it s weird that warner decided to release this as a summer film it doesn t fit br br but what s even weirder when you consider the content of this film is that it was aimed at families an upper class family throws their mutant baby down the sewer a socio phobic billionaire dresses up in leather as a flying rodent a lonely secretary dresses up in leather as a feline and a freak runs for political office and s m and bondage are presented in a very perverted way but burton got away with it his visual style in this film is at it s best br br this and batman dead end are the only true live action incarnations of the comic book character true the animated series was the closest to the source material but compared with batman forever and the un nameable one after that batman returns is the best of the four br br darker and more violent than the first movie the sense of gothic pathos reaches a new high i was quite keen on michael keaton as bruce wayne don t even get me started on george clooney he displayed the right balance of weirdo loner and cool crime fighter michelle pfieffer is great as catwoman much sexier and more realisticly cat like she wears that leather outfit better than halle berry and danny devito was so convincing as the penguin that his scenes became disturbing to watch and christopher walken is brilliant as the spooky max shreck if you think you recognise chip shrek it s none other than a very young leatherface butterfinger br br danny elfman s score is also even better than it was first time round his powerful and engaging themes are way better than the dross that followed in the later 2 schumacher movies this movie is the batman phenomenon at its zenith forget the following sequels and stick to the animated series after this let s hope that christopher nolan and christian bale can bring some integrity back to the live action batman with their movie next year br br this dvd was one of the first ever dvds released by warner almost 7 years ago and as a result there are no features and the case is a snapper pick it up cheap like i did and hope for an se in the future'\n",
            " b'i decided to watch this movie because i d not seen carol lombard before in any movie i m sorry it had to be this one because quite frankly this is a dog and even with jimmy stewart and charles coburn both of whom were great actors br br the problem with the film is simple it tries to put too much too quickly in to a story about a young lawyer john manson played by stewart who marries jane played by lombard within an hour of meeting her what s that clich marry in haste repent at leisure br br in short the story is a series of episodes that show the couples worsening financial status their troubles with john s live in mother their struggles to pay the bills john s diminished status at the office the arrival of their baby son john jnr unexpected and causing additional friction at home with mother the couples angst about their marriage the baby s sickness which worsens thus necessitating an heroic flight by a lone pilot in a fierce storm to bring a special serum to save the child and finally john being accepted as a junior partner at the law firm br br how many more clich d situations could the writers include maybe mother dying soon after there wasn t much comedy the drama was lacklustre at best the dialog was painful to hear only the acting of the four main players was adequate br br this was the period at the end of the great depression with the usa coming out of its long downturn during which many people experienced all of the events portrayed in the movie br br so it made sense for selznick to reaffirm good ol home spun american values of family relationships heroism perseverance and initiative all against the backdrop of the average american family who better to use than jimmy stewart and carol lombard br br and it should be noted that the film was released in early 1939 so it was planned in 1938 soon after the usa began to get production going for the coming world war ii hence this sort of film was a great booster for the general public at that time many of who would soon have to join england in war as many here would know hollywood and washington formed an uneasy alliance before during and after the war br br however i m glad i saw it as a piece of disguised socio political propaganda but i ll have to see other lombard films to gain a better appreciation of her acting range br br as another reviewer noted see this one just to say that you ve seen all of stewart s movies otherwise don t bother'\n",
            " b'this film promised a lot so many beautiful and well playing actors but with a plot that had virtually nothing to say so many potentially promising conflicts between the family members that could have been developed and elaborated but it was all dropped and not taken care of there was no story to be told just a show off of acting technique beautiful scenes that were all empty but again the acting was excellent so many of the individual scenes were entertaining but as you became increasingly aware of the lack of underpinning ideas even the acting lost its sense so from the promising start you became increasingly disappointed as the non story went along'\n",
            " b'yikes this is pretty bad the play isn t great to begin with and the decision to transfer it to film does it no favours especially as peploe doesn t decide how she wants to treat the material s theatrical origins we get occasional glances of an observing theatre audience etc and has decided to go with a jumpy editing style that is intended to keep reminding you that you re watching a film whereas in fact it only serves to remind you that you are watching a very poor film by a director who is overwhelmed by her material mira sorvino s central performance is breath takingly poor stage y and plummy it s as if she s playing the part via helena bonham carter s merchant ivory oeuvre only fiona shaw delivers a performance of note and it may be that her theatrical pedigree means that she is best able to handle the material but it s hard to watch a film for one performance alone even if that performance is as light truthful and entire as shaw s ben kingsley turns in an average and disengaged turn and diana rigg s daughter rachel stirling plays her supporting role as just that sadly none of bertolucci s magic has rubbed off on his wife if this film is to be the evidence'\n",
            " b'i saw a 12 45 a m show last night and i would ve walked out 20 min in but there was nowhere to go blatant product placement juvenile script so much talent gone to waste gay bashing what didn t they do the movie is also insanely long we got out at 3 as a person who rarely pays full price at the movies imagine my chagrin doling out 22 for this self indulgent mean spirited nightmare plus 2 parking i woke up today still feeling depressed and haven t been able to shake it all day i love vince vaughn and he seemed straight up lost in this thing as was i when cedric the entertainer is the high water mark a man so un entertaining that he has to call himself the entertainer so you ll understand what it is he thinks he s doing you have a serious problem also the appearance of robert pastorelli is down right creepy since he died almost a year ago march 10 this should give you an idea how long they ve been polishing this turd this movie is mean to the bitter end we stayed just to make sure they didn t give robert an in remembrance which they didn t save yourself save your money save your soul'\n",
            " b'i expected this movie was originally supposed to show before the election cbs s last shot at throwing a dig at bush this movie was just awful yet i m still watching it minor spoiler i think cbs got the same people who provided the memo s to do the semi cut in half sequence what is with the bad boyfriend storyline can the acting be more contrived or the dialog more like a ed wood movie who ever came up with this script please do us a favor stop writing if you want to see decent b grade disaster movies then see earthquake flood etc avoid this mess of a movie hint to cbs avoid showing us this crap give us re runs of csi instead better acting and more believable'\n",
            " b'on the back burner for years so it was reported this television reunion of two of the most beloved characters in sitcom history started off badly and went straight downhill from there mary richards mary tyler moore and her best friend rhoda morgenstern valerie harper meet in new york after a long estrangement and catch up on each other s lives what a novel concept but sad to relate nothing worth talking about let alone making a movie about has happened to either of them in the intervening years so instead the script contents itself with throwing out one hoary old plot device after another most having to do with older women in the workplace while completely missing the quirky charm and sophistication that made the original show a winner the supporting cast is instantly forgettable the humor is nonexistent and the chemistry which moore and harper once had together is gone moore allegedly stalled this project for years waiting for just the right script before committing herself if this was the one she considered right what on earth were the ones she turned down like it s not the age of the characters that does this in for time inevitably marches on but the almost complete lack of imagination coupled with a blatant disregard for the elements that made the series work at one time this was intended as a pilot but all to obviously it failed to generate any interest among potential sponsors or for that matter among potential audiences quickly and mercifully forgotten the film is a travesty and an insult to a classic'\n",
            " b'phantasm of 1979 was a highly atmospheric creepy scary and very original horror flick and in one word cult the first sequel of 1988 was gory witty action packed and highly entertaining after the first sequel however phantasm creator don coscarelly apparently lacked new ideas phantasm iii lord of the dead of 1994 is certainly not a complete failure it even is quite entertaining but there is no more originality and the desperate attempts to bring in something new are at times tiresome which makes it quite disappointing in comparison to its predecessors br br spoilers br br quite in the beginning we are introduced the secret behind the mysterious sentinel spheres the brain sucking flying silver balls is unraveled thenceforward a number of unnecessary and annoying new characters such as tim a home alone style little kid who happens to be great at shooting an rocky a tough and super cool nunchaku swinging black chick with a crew cut are introduced the film also has its qualities reggie bannister is again very cool as the pony tailed guitar playing reggie angus scrimm is still quite creepy as the tall man but the fact that the tall man talks a lot more in this film makes him loose some of his creepiness the character of mike is played by a michael baldwin again he had been replaced by james legros in part 2 which in my opinion doesn t make much of a difference the gore also keeps the film interesting enough to watch but it is still a disappointment especially because the attempts to make up for the lack of ideas get annoying quite quickly br br all things considered phantasm iii is an acceptable time waster but it is definitely disappointing compared to its predecessors fans of the first two phantasm films can give it a try but i recommend not to set your expectations too high'\n",
            " b'unfortunately i went to this movie for entertainment purposes based on the limited information i had seen on fandango since i am a sci fi buff the notion of a movie about ufos interested me br br instead this movie quickly revealed itself as an evangelical christian propaganda flick appropriate for an audience of like minded individuals but very un christian like to exploit the movie mall scene and preach to an unsuspecting audience especially considering the costs of tickets and concessions shame on you at least the da vinci code did not hold back its wild eyed craziness br br so this b grade movie and i am being kind production will be appreciated in those churches with similar beliefs probably shown to wednesday and sunday evening youth groups but if you are a mainline christian or non christian you will not be comfortable'\n",
            " b'such is the dilemma above that debbie must face at the close of this sam sherman production naughty stewardesses debbie has just hit town become a stewardess slept with an elderly rich man who she describes is in his 50 s but obviously hit that mark a decade or two ago shoots nude scenes for a photographer she just met and then is the central element to a kidnapping extortion plot through it all and amidst all that emotional upheaval and soul searching what in heaven s name will debbie do well i cannot give it away completely but don t expect any real epiphany here let s face it naughty stewardesses is just what it wants to be at least two thirds through a soft core porn film with lots of topless women and a funny in that kitchy 70 s way film there is no grand art here the movie was designed to make money and exploit a growing trend at the time to put nymphomaniacal stewardesses in films so that the audience could live out vicariously their voyeuristic tastes by todays standards the film is pretty tame what this film does do wrong is try to be some kind of statement film at the end c mon anyone here believing that little diatribe by debbie while on the beach contemplating life she would spend more time picking out which halter top she will wear that day then do that and what about the ridiculous plot to steal 50 grand it didn t make sense to me so how on earth did these characters dig it anyone buying cal as a member of the plo something like that or even as a director for hardcore pornography he would be luck to get work at seven eleven this is as another reviewer noted more of a sam sherman piece then and al adamson piece you can tell when al is in complete charge there is virtually no budget and the film doesn t look nearly as polished as this adamson does a decent job directing this time and i have to give sherman credit to a degree while this film is bad just for what it was meant to be it has a certain style to it i liked the opening credits with the animation and photographs i even liked the music of sparrow silver heels was a somewhat catchy tune the movie doesn t look cheap really at all compare that to any of al s horror films as for the cast yes bob livingston is a bit old for the lead but some examination went into his character and the obvious thread that young women are attracted to men with money was explored as well i had major problems with robert smedley who was just plain awful in his role the girls have all got great sets so what else was required of them huh naughty stewardesses is relatively harmless exploitation film from the 70 s and will serve as a living time capsule for certain aspects of life during that decade by the way did i mention it is a pretty bad picture'\n",
            " b'admittedly i find al pacino to be a guilty pleasure he was a fine actor until scent of a woman where he apparently overdosed on himself irreparably i hoped this film of which i d heard almost nothing growing up would be a nice little gem an overlooked ahead of its time intelligent and engaging city political thriller it s not br br city hall is a movie that clouds its plot with so many characters names and realistic citywide issues that for a while you think its a plot in scope so broad and implicating that once you find out the truth it will blow your mind in truth however these subplots and digressions result ultimately in fairly tame and very familiar urban story trademarks such as corruption of power two faced politicians mafia with police ties etc and theoretically this setup allows for some thrilling tension the fear that none of the characters are safe and anything could happen but again it really doesn t br br unfortunately the only things that happen are quite predictable and we re left with several confession monologues that are meant as a whole to form modern a fable of sorts a lesson in the moral ambiguity of the real world of politics and society but after 110 minutes of names and missing reports and a spider web of lies and cover ups the audience is usually treated to a somewhat satisfying reveal i don t think we re left with that in city hall and while it s a very full film i don t find it altogether rich'\n",
            " b'for loyal duran duran fans who want to watch a good music video skip this one the producers decided to get creative and make this 80 s video something of a sci fi story involving the evil barbarella villain from which the band got its name br br what makes this idea fail is that right in the middle of some great 80 s duran duran songs confusing and annoying cut scenes take place showing the fictional antagonist trying to stop the band at one of their concerts not only is the good music repeatedly interrupted but we have to suffer through some cheap spin off story hosted by an evil dr mario it s almost too much to bear 2 10'\n",
            " b'i imagine when hitchcock scholars and experts find themselves together the talk is not of the master s great films like north by northwest or strangers on a train but a lesser known effort like this one from 1931 obscure and seriously flawed which showcases the great director in fledgling form br br emily and fred hill joan barry and harry kendall are a middle class london couple scrimping to stay ahead he begrudges their lot she accepts it change comes in the form of a letter from an uncle saying he will set them up so they can enjoy a life of globetrotting luxury they make plans for a world cruise but their problems have only begun br br just ask richard hannay roger o thornhill or marion crane well marion s indisposed at the moment but you get the idea travel and hitchcock go together like moths and candlelight setting one up for a perilous journey at best this is perhaps hitchcock s earliest foray into this theme and not his most successful or memorable hitchcock tries to mix comedy with another element in this case domestic drama rather than suspense but the two do not cohere at least not here br br the hills are a dull flat couple with no chemistry or personality when they find themselves at the folies berg re in the form of cross cutting with footage that looks ten years older than the rest of this film they are abashed at the outfits of the female performers the curtain s gone up too soon gasps emily they aren t dressed br br when the hills drift away from each other on an ocean cruise it seems a mercy killing more than a tragic thing even if the people they partner off with are drips too emily s man gordon percy marmont carries around photographs of himself sitting next to empty chairs which he suggests be filled by emily fred s girl the princess betty amann has clara bow s eyes and wallace beery s five o clock shadow there s also an obnoxious fellow passenger a dowdy spinster whom hitchcock always introduces with a cartoonish horn cue subtlety was still to come br br everything is shot in an abrupt manner with confusing blocking and strained dialogue hitchcock tries for some early comedy with fred and his umbrella that doesn t come off and kendall seems to aim for laughs while berry plays for tears when fred and emily break off they are seen being jostled on a pair of wedged together rickshaws one of many clunky attempts at symbolism br br emily s the only vaguely sympathetic character in part because she really cares about her husband and agonizes over her affair with gordon but mostly because she s among the first of hitchcock s many magnetic blondes her platinum ringlets whipping around her face like a botticelli aboard the open deck of a chinese junk near the film s conclusion br br matters conclude with a dangerous situation as set piece for the protagonists to come to grips with and presumably repair their relationship only they aren t active participants in the resolution and except for the fate of a friendly cat nothing about the ending resonates br br at least you get some enjoyable views of london in the early 1930s and a chance to see hitchcock when he was still working for food rich and strange is hitchcock paying his dues and learning his trade one for scholars but not casual film goers'\n",
            " b'written by someone who has been there you can tell but only if you ve been there excellent performances by meryl streep of course renee zellweger and william hurt br br many people have said that it is about a dysfunctional family i think every family is dysfunctional when they are facing this kind of torment to not be dysfunctional would be dysfunctional you are losing your family as you know it can anything be worse people need to see this movie so when they are faced with this nightmare maybe they will change how they do it maybe they will see that the father is denying himself valuable time he ll never get a chance at again maybe they will realize how hard it is to die or to watch someone you love die they didn t miss much of the nightmare it s hard to forget'\n",
            " b'i saw this film under the title of tied up in general i have enjoyed dolph s movies so gave this one a try it wasn t worth it i have read some of the previous comments about the box enticing viewers don t be fooled this is a poor film at best the acting is nonexistent the plot what little there is of one is very predictable the movie in places seems to be chopped together this one just plain stinks the place up not even worth the price of a cheap night rental as a bit of a dolph fan i kept waiting to see him in action by the end of the movie you will still be waiting best to avoid this film and spend your time watching almost anything else'\n",
            " b'a have a female friend who is currently being drawn into a relationship with an sob who has a long term girlfriend of course the sob is very good looking charming etc and my friend is a very intelligent woman watching jean pierre leaud s character at work is exactly like watching what goes on in real life when guys like that destroy the lives of our female friends it s tragic and you know she s going to end up very hurt but there s nothing you can do leaud is brilliant totally empty a blank throughout he pulls the faces and tells the stories he thinks will get the reaction he wants br br the scene two hours in when leaud and lebrun have made love and the next morning he puts on a record and very sweetly and charmingly sings along to amuse her is brilliant the what the hell am i doing here with this idiot expression that flickers back and forth across her face will be in my memory for a long time to come br br it s a long film but see it in one go preferably in a cinema takes a while to get into but then the time just disappears'\n",
            " b'i watched this because i thought there were going to be a lot of car chases and cool cars to gawk at guess i was lied to this movie is very boring br br the movie starts out kip raines giovanni ribisi sitting outside a porsche dealership checking to see if they have the right car when they confirm it s the right one kip gets a brick out of the trunk and chucks it at the window shattering it he gets the porsche while his friend gets the keys they start up the car and take off into the night they deliver it to a warehouse only to have been followed by the police so the whole crew ditches all the cars and go their separate ways then we get a glimpse of memphis raines he is giving a little speech to a bunch of kids at a go kart track then he is confronted by atlee jackson will patton atlee tells memphis that his brother kip is in deep bleep memphis is known as one of the most notorious car thieves in los angeles memphis heads to a junkyard and meets raymond calitri christopher ecclesten this guy threatens to kill kip if memphis doesn t deliver 50 cars within 72 hours br br there are a few problems with this film br br 1 story the first 48 in movie hours take place when cage and duvall are looking for a crew and planning everything out the last 12 in movie hours are a waste br br 2 the cars you see maybe 10 cars out of the 50 as the movie advertises so where are the other 40 cars why don t we get to see them br br 3 the chase the chase at the end of the movie was a joke it was not suspenseful at all br br 4 the dog somewhere in the movie the dog eats the burgers and swallows three keys as well this is impossible the keys were flipped open the keys would have severely damaged the dog s esophagus stomach and large intestines the guys suggest giving the dog laxatives to help him poop it out this won t work the dog will get a lot of diarrhea but no keys it was stated in jackass after ryan dunne stuck a toy car up his rectum take laxatives lots of diarrhea but no car same case with the dog br br 5 the cop during the chase when eleanor breaks down for a few minutes nicholas cage tries desperately to start up the car you see a police cruiser behind him who isn t looking at his car at all but right when nicholas cage starts the engine up again the police officer jerks his head to the right sees the car and immediately begins to chase after him it is stupid so right when he heard the engine start and saw the car he knew that was the car he was looking for how does he know it s the right car he only sees the back of it br br overall the movie is boring there is no action there are very few cars the movie is stupid i have never seen the original but i plan to br br i give this movie 1 star out of 10 get the fast and furious instead'\n",
            " b'one of the best if not the best rock n roll movies ever and it s not just mindless fun there really were a lot of clever jokes in it of course i love the ramones but with all the anarchy and the i hate high school themes the film doesn t at all take itself too seriously which is what s great about it br br i first saw the movie in the spring of 1980 and i saw it again recently since i went to high school in the late 1970 s it made me kind of nostalgic br br like i said this film doesn t take itself that seriously and isn t pretentious like so much other teen fare of the seventies eighties and nineties and to speak of it s not really dirty or disgusting either only pg rated that s rare for a movie in this category a great cult classic and a truly incredible time capsule'\n",
            " b'crossfire remains one of the best hollywood message movies because unlike the admirably intentioned gentleman s agreement which it beat to theatres by a few months it chooses to send its message via the form an excellent noir thriller rather than have an outraged star constantly saying it s because i m jewish isn t it it s much easier to get the message that hate is like a loaded gun across when the dead bodies are actual rather than metaphorical somewhat shamefully the brief featurette on the warners dvd doesn t mention that novelist richard brooks disowned the film over the shift from a homophobic murder to an anti semitic one but it s interesting to note that while the victim is killed primarily because he is jewish there s little doubt in sam levene s performance that the character is in fact also gay not a mincing caricature but there s definitely a two lost souls aspect to his scenes with george cooper s confused soldier there s not much of a mystery to who the murderer is even though the killing is carried out in classic noir shadows the body language of the killer is instantly recognisable but then the film has its characters drift to the same conclusion before the halfway point the tension comes from proving it and saving the fall guy br br there s an element of ealing films to the gang of soldiers teaming together to get their buddy out of a fix you could almost see that aspect as a blueprint for hue and cry but the atmosphere is pure rko noir set over one long sweltering night the film has a great look filled with deep dark blacks and shadows born as much out of economy as style it cut back on lighting time and allowed director edward dmytryk more time to work with the actors and the excellent cast make the most of the fine script a laid back but quietly charismatic robert mitchum robert young s maigret like detective gloria grahame s tramp and the perpetually creepy paul kelly as her compulsive liar admirer a guy who tries on stories the way other people try on ties but the lasting impression is of robert ryan s excellent performance as a guy who could do with a good leaving alone as he does his best to help the wrongly accused man all the way to death row a big surprise hit in 1946 as a reward dmytryk and producer adrian scott found themselves investigated by the huac which itself had a notable tendency to target jews so much for crusading'\n",
            " b'this film is very interesting i have seen it twice and it seems glover hit the nail on the head with what he claims to he wants to accomplish i for one can relate to the outrage that the filmmaker clearly expresses against the current thoughtless corporate drivel that is an onslaught in our every media center and the things that we as a culture are supposed to not think about due to corporate media control the outrage that glover expresses through the outrageous elements in the films is both clear in its visceral aggressiveness and beautiful in its poetic potency i am glad i saw this film and it is even clearer that glover is up to something interesting with part two of what will be a trilogy it is fine everything is fine see that also people that dismiss this film as thoughtless or pretentious are really missing the boat this is an intelligent films if you can see it with his live show he performs before with his books that is also very wroth while the way you get in to his mindset is really something you will have an experience'\n",
            " b'this was a favorite of my childhood i can remember seeing it on television and thrilling to it each time now that i m grown up and have a kid of my own i wanted to introduce him to this classic movie we watched it last friday and he liked it during abu s fight with the giant spider my son s hand crept over and took hold of mine he was genuinely scared is he gonna beat the spider poppa just watch you ll see he has no historical frame of reference to speak of eight years old so bagdad under the grandson of haroun al raschid might as well be oz under ozma br br i think he especially liked how much of the heroics and derring do were perpetrated by the boy thief and not the grown up king in fact if you deconstruct the film s narrative a bit the king is the thief s sidekick not the hero at all which must be very satisfying to imaginative adventurous young boys br br it s definitely a period piece i suspect that by the time he s eleven or twelve my son will find it corny or whatever word the next generation will be using by then the love story is barely one dimensional as a cynical friend commented why does ahmad love the princess because the narrative demands it the willingness of abu to put himself in jeopardy repeatedly for the clueless love struck deposed king is equally improbable but to quibble about such things while accepting flying mechanical horses fifty foot genies and the temple of the all seeing eye would be fatuous in the extreme the satisfaction of seeing the prophecy fulfilled at the movie s climax is tremendous as is the final shot of abu triumphantly flying away on his stolen magic carpet seeking some fun and adventure at last'\n",
            " b'what can i say i m a secret fan of over the top action and horror films especially when it comes with a lot of lots of humour and innuendo but i m not a fan of snake on a plane br br there are three potential draws to this film the comedy of the situation the horror and the novelty of hundreds of snakes being of a plane br br firstly this film isn t written as a tongue in cheek horror or a comedy and there are only 1 or 2 points in the film where you ll smile to yourself if you want to get the feel of the film the trailer genuinely represents the movie a horror br br secondly if you re expecting a film full of action and shocks you won t be disappointed it doesn t stand out above other movies but it always keeps your attention br br thirdly although the novelty of snakes of a plane doesn t wear off but you ll leave the cinema thinking what was all the fuss about br br i know this movie has a high rating but it doesn t add up a many of the reviews where written before the film was released and b the breakdown of user ratings has a lot less variation than normal 77 of people rating the movie 10 10 with only 7 of people giving it 9 10 why such an enormous gap']\n",
            "-----------------------\n",
            "label:  [1 0 0 1 0 0 0 1 0 1 0 1 1 0 1 1 0 1 0 1 1 1 0 1 1 0 1 0 1 1 0 0 1 0 1 0 1\n",
            " 0 1 0 1 1 1 0 0 0 0 0 0 0 0 0 0 0 0 1 0 1 0 1 1 1 1 0]\n",
            "-----------------------\n",
            "total len:  64\n"
          ]
        }
      ],
      "source": [
        "# print first batch from train dataset\n",
        "\n",
        "for example, label in train_dataset.take(1):\n",
        "    print(\"example : \", example.numpy())\n",
        "    print(\"-----------------------\")\n",
        "    print(\"label: \", label.numpy())\n",
        "    print(\"-----------------------\")\n",
        "    print(\"total len: \", len(label.numpy()))"
      ]
    },
    {
      "cell_type": "markdown",
      "id": "overall-joyce",
      "metadata": {
        "id": "overall-joyce"
      },
      "source": [
        "### 4. Creating your training and validation splits"
      ]
    },
    {
      "cell_type": "code",
      "source": [
        "64 * 100"
      ],
      "metadata": {
        "id": "YjyiP1rWpmqm"
      },
      "id": "YjyiP1rWpmqm",
      "execution_count": null,
      "outputs": []
    },
    {
      "cell_type": "code",
      "execution_count": 31,
      "id": "adjustable-heavy",
      "metadata": {
        "id": "adjustable-heavy"
      },
      "outputs": [],
      "source": [
        "# create validation dataset\n",
        "val_dataset = train_dataset.take(100) # 100 * 64 = 6400\n",
        "train_dataset = train_dataset.skip(100) # 40000 - 6400 = 33600\n",
        "\n",
        "# select first 100 batch from train dataset for validation data\n",
        "# each bacth will contain 64 samples and skip first 100 batch from train dataset"
      ]
    },
    {
      "cell_type": "markdown",
      "id": "proud-footage",
      "metadata": {
        "id": "proud-footage"
      },
      "source": [
        "### 5. Create the text encoder \n"
      ]
    },
    {
      "cell_type": "markdown",
      "id": "living-comment",
      "metadata": {
        "id": "living-comment"
      },
      "source": [
        "the raw text data needs to be processed before it can be used in a model. The simplest way to process text for training is using the\n",
        "textvectorization layer this layer has many capbiliites."
      ]
    },
    {
      "cell_type": "code",
      "execution_count": 32,
      "id": "differential-paintball",
      "metadata": {
        "id": "differential-paintball"
      },
      "outputs": [],
      "source": [
        "# Create the layer, and pass the dataset text to the layer's .adapt method\n",
        "\n",
        "VOCAB_SIZE = 1000\n",
        "encoder = tf.keras.layers.experimental.preprocessing.TextVectorization(max_tokens=VOCAB_SIZE)\n",
        "encoder.adapt(train_dataset.map(lambda text, label: text))"
      ]
    },
    {
      "cell_type": "code",
      "execution_count": 33,
      "id": "international-particular",
      "metadata": {
        "colab": {
          "base_uri": "https://localhost:8080/"
        },
        "id": "international-particular",
        "outputId": "e5434328-72e9-4ce7-eef9-d249019a8398"
      },
      "outputs": [
        {
          "output_type": "execute_result",
          "data": {
            "text/plain": [
              "array(['', '[UNK]', 'the', 'and', 'a', 'of', 'to', 'is', 'br', 'it', 'in',\n",
              "       'i', 'this', 'that', 's', 'was', 'as', 'movie', 'for', 'with'],\n",
              "      dtype='<U14')"
            ]
          },
          "metadata": {},
          "execution_count": 33
        }
      ],
      "source": [
        "# create vocabulary of words\n",
        "vocab = np.array(encoder.get_vocabulary())\n",
        "\n",
        "# print top 20 vocab\n",
        "vocab[0:20]"
      ]
    },
    {
      "cell_type": "code",
      "execution_count": 34,
      "id": "tested-sleep",
      "metadata": {
        "colab": {
          "base_uri": "https://localhost:8080/"
        },
        "id": "tested-sleep",
        "outputId": "87e67f55-74a4-4228-85f5-9af6d6fc0629"
      },
      "outputs": [
        {
          "output_type": "execute_result",
          "data": {
            "text/plain": [
              "1000"
            ]
          },
          "metadata": {},
          "execution_count": 34
        }
      ],
      "source": [
        "len(vocab)"
      ]
    },
    {
      "cell_type": "code",
      "execution_count": 35,
      "id": "clean-legislation",
      "metadata": {
        "id": "clean-legislation"
      },
      "outputs": [],
      "source": [
        "encoded_example = encoder(\"This is a nice asdfasdf asdf dev pen!\").numpy()"
      ]
    },
    {
      "cell_type": "code",
      "execution_count": 36,
      "id": "fleet-friendly",
      "metadata": {
        "colab": {
          "base_uri": "https://localhost:8080/"
        },
        "id": "fleet-friendly",
        "outputId": "e1d54dc9-9a8d-4647-c7c2-f169d3583b74"
      },
      "outputs": [
        {
          "output_type": "execute_result",
          "data": {
            "text/plain": [
              "array([ 12,   7,   4, 336,   1,   1,   1,   1])"
            ]
          },
          "metadata": {},
          "execution_count": 36
        }
      ],
      "source": [
        "encoded_example "
      ]
    },
    {
      "cell_type": "code",
      "execution_count": 37,
      "id": "located-compound",
      "metadata": {
        "colab": {
          "base_uri": "https://localhost:8080/",
          "height": 35
        },
        "id": "located-compound",
        "outputId": "7db86bf5-837c-40f7-80da-ca8b0dd03804"
      },
      "outputs": [
        {
          "output_type": "execute_result",
          "data": {
            "text/plain": [
              "'fan'"
            ],
            "application/vnd.google.colaboratory.intrinsic+json": {
              "type": "string"
            }
          },
          "metadata": {},
          "execution_count": 37
        }
      ],
      "source": [
        "encoder.get_vocabulary()[332]"
      ]
    },
    {
      "cell_type": "code",
      "execution_count": 38,
      "id": "knowing-details",
      "metadata": {
        "id": "knowing-details",
        "colab": {
          "base_uri": "https://localhost:8080/"
        },
        "outputId": "8554ed7f-3fc2-447e-98fe-4c6643d1eab5"
      },
      "outputs": [
        {
          "output_type": "execute_result",
          "data": {
            "text/plain": [
              "array(['', '[UNK]', 'the', 'and', 'a', 'of', 'to', 'is', 'br', 'it', 'in',\n",
              "       'i', 'this', 'that', 's', 'was', 'as', 'movie', 'for', 'with',\n",
              "       'but', 'film', 'you', 't', 'on', 'not', 'he', 'are', 'his', 'have',\n",
              "       'be', 'one', 'all', 'at', 'they', 'by', 'an', 'who', 'so', 'from',\n",
              "       'like', 'there', 'or', 'just', 'her', 'out', 'about', 'if', 'has',\n",
              "       'what', 'some', 'good', 'can', 'more', 'when', 'very', 'she', 'up',\n",
              "       'time', 'no', 'my', 'even', 'would', 'which', 'only', 'story',\n",
              "       'really', 'see', 'their', 'had', 'me', 'well', 'were', 'we',\n",
              "       'much', 'than', 'bad', 'get', 'people', 'been', 'great', 'will',\n",
              "       'other', 'do', 'also', 'into', 'because', 'how', 'don', 'him',\n",
              "       'most', 'first', 'made', 'its', 'then', 'make', 'them', 'way',\n",
              "       'could', 'too', 'movies', 'after', 'any', 'characters', 'think',\n",
              "       'watch', 'character', 'two', 'films', 'many', 'seen', 'plot',\n",
              "       'being', 'never', 'love', 'acting', 'life', 'where', 'show', 'did',\n",
              "       'best', 'know', 'little', 'ever', 'over', 'off', 'man', 'does',\n",
              "       'better', 'your', 'end', 'here', 'scene', 'still', 'these', 'say',\n",
              "       'scenes', 'why', 'while', 've', 'something', 'such', 'm', 'go',\n",
              "       'back', 'should', 'through', 'now', 'those', 'real', 'watching',\n",
              "       'thing', 'actors', 're', 'funny', 'director', 'doesn', 'years',\n",
              "       'though', 'didn', '10', 'old', 'another', 'before', 'work',\n",
              "       'actually', 'find', 'nothing', 'look', 'makes', 'new', 'going',\n",
              "       'same', 'every', 'lot', 'part', 'few', 'again', 'world', 'down',\n",
              "       'cast', 'us', 'quite', 'want', 'horror', 'things', 'pretty',\n",
              "       'around', 'take', 'young', 'seems', 'however', 'big', 'thought',\n",
              "       'long', 'fact', 'got', 'both', 'enough', 'give', 'between',\n",
              "       'action', 'own', 'right', 'must', 'comedy', 'may', 'without',\n",
              "       'music', 'guy', 'series', 'always', 'saw', 'times', 'd', 'almost',\n",
              "       'gets', 'come', 'interesting', 'isn', 'original', 'role', 'done',\n",
              "       'point', 'whole', 'least', 'feel', 'bit', 'minutes', 'family',\n",
              "       'script', 'far', 'll', 'tv', 'am', '2', 'last', 'since', 'might',\n",
              "       'making', 'anything', 'probably', 'away', 'kind', 'girl', 'yet',\n",
              "       'performance', 'anyone', 'hard', 'fun', 'worst', 'woman', 'rather',\n",
              "       'day', 'sure', 'found', 'each', 'our', 'played', 'looking',\n",
              "       'screen', 'dvd', 'believe', 'although', 'trying', 'having',\n",
              "       'especially', 'course', 'everything', 'book', 'goes', 'set',\n",
              "       'ending', 'worth', 'comes', 'three', 'put', 'maybe', 'place',\n",
              "       'different', 'actor', 'sense', 'let', 'shows', 'someone', 'play',\n",
              "       'looks', 'reason', 'main', 'american', 'wasn', 'year', 'watched',\n",
              "       'job', 'money', 'half', 'once', 'true', 'together', 'effects',\n",
              "       'later', 'war', 'everyone', 'plays', 'said', 'during', 'audience',\n",
              "       'high', 'seem', 'black', 'instead', 'john', 'takes', 'himself',\n",
              "       'night', 'seeing', 'beautiful', '1', 'special', 'left', 'shot',\n",
              "       'wife', 'version', 'idea', 'house', 'excellent', 'else', 'mind',\n",
              "       'star', 'budget', 'second', 'simply', 'fan', 'men', 'death',\n",
              "       'father', 'nice', 'short', '3', 'poor', 'along', 'read',\n",
              "       'completely', 'used', 'top', 'less', 'either', 'hollywood', 'home',\n",
              "       'line', 'boring', 'dead', 'help', 'kids', 'friends', 'women',\n",
              "       'full', 'classic', 'given', 'low', 'wrong', 'production', 'camera',\n",
              "       'enjoy', 'use', 'try', 'sex', 'rest', 'need', 'couple', 'awful',\n",
              "       'performances', 'stupid', 'truly', 'school', 'until', 'next',\n",
              "       'recommend', 'video', 'came', 'start', 'tell', 'moments',\n",
              "       'remember', 'perhaps', 'won', 'human', 'terrible', 'getting',\n",
              "       'understand', 'itself', 'mother', 'person', 'keep', 'playing',\n",
              "       'mean', 'face', 'small', 'name', 'wonderful', 'perfect', 'stars',\n",
              "       'boy', 'definitely', 'style', 'often', 'early', 'head', 'written',\n",
              "       'others', 'dialogue', 'lines', 'doing', 'episode', 'piece', 'case',\n",
              "       'went', 'yes', 'children', 'lost', 'couldn', 'gives', 'absolutely',\n",
              "       'oh', 'live', 'entertaining', 'friend', 'picture', 'overall',\n",
              "       'laugh', 'liked', 'finally', 'called', 'title', 'cinema',\n",
              "       'certainly', 'guys', 'sort', 'white', 'loved', 'supposed', 'hope',\n",
              "       'felt', 'become', 'worse', 'drama', 'based', 'entire', 'against',\n",
              "       '5', 'dark', 'waste', 'several', 'mr', 'humor', 'under',\n",
              "       'beginning', 'totally', 'lead', 'example', 'problem', 'fans', '4',\n",
              "       'care', 'final', 'evil', 'despite', 'turn', 'direction', 'sound',\n",
              "       'killer', 'wanted', 'lives', 'seemed', 'already', 'game',\n",
              "       'becomes', 'days', 'guess', 'history', 'b', 'able', 'heart',\n",
              "       'quality', 'throughout', 'flick', 'son', 'today', 'unfortunately',\n",
              "       'run', 'michael', 'writing', 'fine', 'act', 'side', 'town',\n",
              "       'wants', 'horrible', 'genre', 'amazing', 'art', 'child', 'close',\n",
              "       'works', 'past', 'tries', 'kill', 'behind', 'brilliant', 'girls',\n",
              "       'gave', 'enjoyed', 'matter', 'eyes', 'turns', 'favorite', 'viewer',\n",
              "       'late', 'car', 'city', 'god', 'hand', 'expect', 'etc', 'directed',\n",
              "       'soon', 'hour', 'themselves', 'parts', 'obviously', 'kid',\n",
              "       'actress', 'killed', 'decent', 'sometimes', 'myself', 'stop',\n",
              "       'starts', 'daughter', 'type', 'self', 'stuff', 'writer', 'says',\n",
              "       'highly', 'anyway', 'thinking', 'feeling', 'group', 'blood',\n",
              "       'voice', 'happens', 'experience', 'heard', 'known', 'slow', 'hero',\n",
              "       'stories', 'please', 'hit', 'ok', 'coming', 'moment', 'fight',\n",
              "       'cannot', 'took', 'violence', 'police', 'leave', 'except',\n",
              "       'strong', 'happen', 'told', 'living', 'particularly', 'cut',\n",
              "       'murder', 'roles', 'reality', 'lack', 'save', 'simple',\n",
              "       'extremely', 'score', 'taken', 'obvious', 'including', 'age',\n",
              "       'involved', 'wonder', 'chance', 'serious', 'cool', 'crap', 'james',\n",
              "       'hilarious', 'wouldn', 'robert', 'brother', 'gore', 'released',\n",
              "       'complete', 'looked', 'english', 'shown', 'interest', 'attempt',\n",
              "       'hell', 'jokes', 'song', 'husband', 'hours', 'ago', 'opening',\n",
              "       'alone', 'happened', 'across', 'david', 'exactly', 'seriously',\n",
              "       'talent', 'usually', 'running', 'view', 'possible', 'order',\n",
              "       'yourself', 'whose', 'cinematography', 'sad', 'none', 'annoying',\n",
              "       'wish', 'power', 'important', 'taking', 'four', 'relationship',\n",
              "       'saying', 'body', 'started', 'usual', 'major', 'light', 'shots',\n",
              "       'number', 'career', 'level', 'somewhat', 'call', 'huge', 'middle',\n",
              "       'knew', 'words', 'documentary', 'ridiculous', 'jack', 'ends',\n",
              "       'non', 'ones', 'scary', 'silly', 'country', 'change', 'beyond',\n",
              "       'turned', 'rating', 'room', 'novel', 'talking', 'female',\n",
              "       'disappointed', 'happy', 'opinion', 'apparently', 'mostly',\n",
              "       'thriller', 'strange', 'modern', '7', 'knows', 'due', 'king',\n",
              "       'television', 'basically', 'upon', 'ten', 'single', 'attention',\n",
              "       'earth', 'word', 'aren', 'miss', 'o', 'predictable', 'finds',\n",
              "       'five', 'musical', 'clearly', 'cheap', 'british', 'fast', 'local',\n",
              "       'talk', 'french', 'problems', 'class', 'songs', 'clich',\n",
              "       'sequence', '8', 'whether', 'future', 'george', 'moving', 'review',\n",
              "       'episodes', 'entertainment', 'tells', 'events', 'comic', 'team',\n",
              "       'enjoyable', 'near', 'haven', 'above', 'add', 'straight', 'easily',\n",
              "       'falls', 'eye', 'filmed', 'appears', 'sets', 'needs', 'certain',\n",
              "       'rock', 'tried', 'supporting', 'romantic', 'clear', 'similar',\n",
              "       'theme', 'soundtrack', 'dialog', 'parents', 'giving', 'theater',\n",
              "       'surprised', 'message', 'mention', 'monster', 'suspense',\n",
              "       'release', 'minute', 'within', 'sequel', 'easy', 'feature',\n",
              "       'among', 'sorry', 'gone', 'die', 'fall', 'deal', 'named', 'lots',\n",
              "       '9', 'bring', 'dull', 'hate', 'working', 'showing', 'e', 'using',\n",
              "       'oscar', 'tale', 'bunch', 'space', 'ways', 'subject', 'storyline',\n",
              "       'kept', 'feels', 'sister', 'avoid', 'editing', 'viewing',\n",
              "       'richard', 'stay', 'dr', 'dog', 'comments', 'effort', 'crime',\n",
              "       'okay', 'lady', 'red', 'greatest', 'nearly', 'follow', 'form',\n",
              "       'buy', 'peter', 'imagine', 'points', 'means', 'stand', 'doubt',\n",
              "       'move', 'famous', 'check', 'fantastic', 'elements', 'typical',\n",
              "       'realistic', 'paul', 'herself', 'brought', 'viewers', 'tom',\n",
              "       'mystery', 'material', 'rent', 'somehow', 'general', 'reviews',\n",
              "       'imdb', 'begins', 'eventually', 'period', 'average', 'believable',\n",
              "       'forget', 'york', 'actual', 'surprise', 'figure', 'expected',\n",
              "       'premise', '20', 'deep', 'third', 'open', 'weak', 'leads',\n",
              "       'animation', 'doctor', 'boys', 'learn', 'dance', 'killing',\n",
              "       'poorly', 'particular', 'hear', 'whatever', 'truth', 'society',\n",
              "       'lame', 'hot', 'situation', 'indeed', 'shame', 'america',\n",
              "       'atmosphere', 'western', 'male', 'romance', 'difficult', 'fi',\n",
              "       'lee', 'box', 'sci', 'note', 'sit', 'free', 'possibly', 'crew',\n",
              "       'street', 'sexual', 'unless', 'season', 'hands', 'reading',\n",
              "       'footage', 'sequences', 'interested', 'forced', 'wait', 'nature',\n",
              "       'credits', 'write', 'leaves', 'decided', 'question', 'joe',\n",
              "       'acted', 'plus', 'island', 'gay', 'emotional', 'nor', 'cop', 'de',\n",
              "       'comment', 'cheesy', 'needed', 'features', 'business', 'weird',\n",
              "       'meet', 'otherwise', 'memorable', 'girlfriend', 'air', 'sounds',\n",
              "       'meets', 'became', 'total', 'quickly', 'mark', 'copy', 'inside',\n",
              "       'whom', 'previous', 'baby', 'towards', 'personal', 'screenplay',\n",
              "       'dumb', 'unique', 'creepy', 'begin', 'masterpiece', 'perfectly',\n",
              "       'bill', 'writers', 'stage', '30', 'forward', 'effect', 'apart',\n",
              "       'japanese', 'disney', 'water', 'badly', 'keeps', 'fire', 'superb',\n",
              "       'older', 'result', 'dramatic', 'joke', 'crazy', 'directors',\n",
              "       'development', 'beauty', 'earlier', 'background', 'setting', 'ask',\n",
              "       'incredibly', 'directing', 'following', 'worked', 'era', 'mess',\n",
              "       'laughs', 'deserves', 'portrayed', 'battle', 'pay', 'manages',\n",
              "       'appear', 'dream', 'brings', 'secret', 'wasted', 'realize', '80',\n",
              "       'plenty', 'rate', 'powerful', 'c', 'break', 'various', 'spent',\n",
              "       'cute', 'meant', 'rich', 'return', 'large', 'front', 'political',\n",
              "       'outside', 'gun', 'william', 'success', 'twist', 'admit'],\n",
              "      dtype='<U14')"
            ]
          },
          "metadata": {},
          "execution_count": 38
        }
      ],
      "source": [
        "vocab"
      ]
    },
    {
      "cell_type": "markdown",
      "id": "terminal-sucking",
      "metadata": {
        "id": "terminal-sucking"
      },
      "source": [
        "with default settings, the process is not completely reversible. two reason for this\n",
        "1. the dfualt value for preprocessing.textvectorization standrdize argument is \"lower_and_strip_punctuation\"\n",
        "2. the limited vocabulary size and lack of character-based fallback result in some unknown tokens."
      ]
    },
    {
      "cell_type": "markdown",
      "id": "domestic-warrior",
      "metadata": {
        "id": "domestic-warrior"
      },
      "source": [
        "### 6. Defining your RNN model architecture"
      ]
    },
    {
      "cell_type": "code",
      "execution_count": 39,
      "id": "temporal-education",
      "metadata": {
        "id": "temporal-education"
      },
      "outputs": [],
      "source": [
        "# create RNN model\n",
        "model = tf.keras.Sequential([\n",
        "    encoder,\n",
        "    tf.keras.layers.Embedding(input_dim=len(encoder.get_vocabulary()), \n",
        "                              output_dim=64, \n",
        "                              mask_zero=True), \n",
        "                             \n",
        "    tf.keras.layers.SimpleRNN(64),\n",
        "#     tf.keras.layers.Bidirectional(tf.keras.layers.LSTM(64))\n",
        "    tf.keras.layers.Dense(64, activation=\"relu\"),\n",
        "    tf.keras.layers.Dense(1) # tf.keras.layers.Dense(3, activation=\"softmax\")\n",
        "])\n",
        "\n",
        "# note: if you use activation =sigmoid you will get the probability score for model not the negative scores\n",
        "# but if you use by defualt value then you will get negative and positive value\n"
      ]
    },
    {
      "cell_type": "markdown",
      "id": "emerging-sentence",
      "metadata": {
        "id": "emerging-sentence"
      },
      "source": [
        "1. this model can be build as a tf.keras.Sequential.\n",
        "2. the first layer is the encoder, which converts the text to a sequence of token indices.\n",
        "3. after the encoder is an embedding layer. an embedding layer stores one vector per word. when called it converts the sequences\n",
        "of word indices to sequences of vectors. theses vecotrs are trainable. after training (on enough data), words with similar meanings ofter have similar vectors\n",
        "4. a recurrent neurel network (RNN) process sequences input by iterating through the elements. RNN pass the outputs from timestep to their input on the next timestep\n",
        "- The tf.keras.layers.bidirectioinal wrapper can aslo be used with an rnn layer. this propagates the input forward and backwards through the rnn layer and then concatenates the final output\n",
        "- the main advanatage to a bidirectional rnn is that the signal from the beginning of the input dosent need to be process all the way through very timestep to affect the output\n",
        "- the main disadvantage of a bidirectional rnn is that you cant efficiently stream predictions as words are being added to the end \n",
        "\n",
        "5. after the rnn has converted the sequences to a single vector the tow layers.dense do some final processing, and convert from this vector representation to a single logit as the classification output.\n"
      ]
    },
    {
      "cell_type": "code",
      "execution_count": 40,
      "id": "bridal-clear",
      "metadata": {
        "id": "bridal-clear",
        "outputId": "75ee0515-2d1e-4ac1-86e8-c5101134a568",
        "colab": {
          "base_uri": "https://localhost:8080/"
        }
      },
      "outputs": [
        {
          "output_type": "stream",
          "name": "stdout",
          "text": [
            "1/1 [==============================] - 3s 3s/step\n",
            "[[0.10916667]]\n"
          ]
        }
      ],
      "source": [
        "# pass sample input\n",
        "\n",
        "sample_text = (\"the movie was  cool. the animatioin and the graphics i would not recommend this movie\")\n",
        "\n",
        "predictions = model.predict(np.array([sample_text]))\n",
        "print(predictions)\n"
      ]
    },
    {
      "cell_type": "code",
      "execution_count": 41,
      "id": "alone-klein",
      "metadata": {
        "id": "alone-klein",
        "outputId": "48cddb79-fd04-463f-d40b-8df9d38dbcff",
        "colab": {
          "base_uri": "https://localhost:8080/"
        }
      },
      "outputs": [
        {
          "output_type": "stream",
          "name": "stdout",
          "text": [
            "tf.Tensor([[0.01833492]], shape=(1, 1), dtype=float32)\n"
          ]
        }
      ],
      "source": [
        "# play with models (uncomment one one layer at time and check the output)\n",
        "model2 = tf.keras.Sequential([\n",
        "    encoder,\n",
        "    tf.keras.layers.Embedding(input_dim=len(encoder.get_vocabulary()), output_dim=5, mask_zero=True),\n",
        "    tf.keras.layers.SimpleRNN(5),\n",
        "    # tf.keras.layers.Bidirectional(tf.keras.layers.LSTM(5))\n",
        "    tf.keras.layers.Dense(5, activation=\"relu\"),\n",
        "    tf.keras.layers.Dense(1)\n",
        "])\n",
        "\n",
        "sample_text = (\"the movie was good\")\n",
        "predictions = model2(np.array([sample_text]))\n",
        "print(predictions)"
      ]
    },
    {
      "cell_type": "code",
      "source": [],
      "metadata": {
        "id": "cXT7GnRT5W5V"
      },
      "id": "cXT7GnRT5W5V",
      "execution_count": 41,
      "outputs": []
    },
    {
      "cell_type": "markdown",
      "id": "surprising-prague",
      "metadata": {
        "id": "surprising-prague"
      },
      "source": [
        "### 7. Compiling your RNN model"
      ]
    },
    {
      "cell_type": "code",
      "execution_count": 42,
      "id": "ceramic-cover",
      "metadata": {
        "id": "ceramic-cover"
      },
      "outputs": [],
      "source": [
        "# compile the model\n",
        "\n",
        "# for binary classification\n",
        "model.compile(loss=tf.keras.losses.BinaryCrossentropy(from_logits=True),\n",
        "              optimizer=tf.keras.optimizers.Adam(1e-4),\n",
        "              metrics=['accuracy'])\n",
        "\n",
        "\n",
        "# for 3 level \n",
        "# model.compile(loss='sparse_categorical_crossentropy',\n",
        "#               optimizer=tf.keras.optimizers.Adam(1e-4),\n",
        "#               metrics=['accuracy'])\n",
        "\n",
        "\n"
      ]
    },
    {
      "cell_type": "markdown",
      "id": "automated-royal",
      "metadata": {
        "id": "automated-royal"
      },
      "source": [
        "### 8. Training your model on your training data"
      ]
    },
    {
      "cell_type": "code",
      "source": [
        "model.summary()\n",
        "import joblib"
      ],
      "metadata": {
        "id": "YFIEqQzR26IJ",
        "colab": {
          "base_uri": "https://localhost:8080/"
        },
        "outputId": "a8b8ef9c-e205-4a03-db07-4e8319e5c0b5"
      },
      "id": "YFIEqQzR26IJ",
      "execution_count": 43,
      "outputs": [
        {
          "output_type": "stream",
          "name": "stdout",
          "text": [
            "Model: \"sequential\"\n",
            "_________________________________________________________________\n",
            " Layer (type)                Output Shape              Param #   \n",
            "=================================================================\n",
            " text_vectorization (TextVec  (None, None)             0         \n",
            " torization)                                                     \n",
            "                                                                 \n",
            " embedding (Embedding)       (None, None, 64)          64000     \n",
            "                                                                 \n",
            " simple_rnn (SimpleRNN)      (None, 64)                8256      \n",
            "                                                                 \n",
            " dense (Dense)               (None, 64)                4160      \n",
            "                                                                 \n",
            " dense_1 (Dense)             (None, 1)                 65        \n",
            "                                                                 \n",
            "=================================================================\n",
            "Total params: 76,481\n",
            "Trainable params: 76,481\n",
            "Non-trainable params: 0\n",
            "_________________________________________________________________\n"
          ]
        }
      ]
    },
    {
      "cell_type": "code",
      "execution_count": null,
      "id": "controversial-contamination",
      "metadata": {
        "id": "controversial-contamination"
      },
      "outputs": [],
      "source": [
        "EPOCHS = 1\n",
        "\n",
        "results =model.fit(train_dataset,\n",
        "                  epochs=EPOCHS,\n",
        "                  validation_data=val_dataset)\n",
        "\n",
        "joblib.dump(results, \"results.pkl\")\n",
        "model.save(\"sentiment.model\", save_format=\"h5\")"
      ]
    },
    {
      "cell_type": "markdown",
      "id": "frozen-oliver",
      "metadata": {
        "id": "frozen-oliver"
      },
      "source": [
        "### 9. Evaluating your model on your test data"
      ]
    },
    {
      "cell_type": "code",
      "execution_count": null,
      "id": "catholic-store",
      "metadata": {
        "id": "catholic-store"
      },
      "outputs": [],
      "source": [
        "sns.countplot(df_test[\"sentiment\"])"
      ]
    },
    {
      "cell_type": "code",
      "execution_count": 45,
      "id": "fancy-center",
      "metadata": {
        "id": "fancy-center",
        "colab": {
          "base_uri": "https://localhost:8080/"
        },
        "outputId": "bea88da4-06c3-4b55-d31f-ad56db99ee7e"
      },
      "outputs": [
        {
          "output_type": "stream",
          "name": "stdout",
          "text": [
            "This train_dataset contain 49.93% Neutral Sentiment tweet\n",
            "This train_dataset contain 50.07% Positive Sentiment tweet\n"
          ]
        }
      ],
      "source": [
        "Neg = round(df_test[\"sentiment\"].value_counts()[1]/len(df_test) * 100, 2)\n",
        "Pos = round(df_test[\"sentiment\"].value_counts()[0]/len(df_test) * 100, 2)\n",
        "\n",
        "\n",
        "print('This train_dataset contain {}% Neutral Sentiment tweet'.format(Neg))\n",
        "print('This train_dataset contain {}% Positive Sentiment tweet'.format(Pos))"
      ]
    },
    {
      "cell_type": "code",
      "execution_count": 46,
      "id": "critical-empire",
      "metadata": {
        "id": "critical-empire",
        "colab": {
          "base_uri": "https://localhost:8080/",
          "height": 580
        },
        "outputId": "f40149e1-57c8-473a-aea1-0701d2b2454a"
      },
      "outputs": [
        {
          "output_type": "execute_result",
          "data": {
            "text/plain": [
              "                                                  review sentiment  \\\n",
              "40000  First off I want to say that I lean liberal on...  negative   \n",
              "40001  I was excited to see a sitcom that would hopef...  negative   \n",
              "40002  When you look at the cover and read stuff abou...  negative   \n",
              "40003  Like many others, I counted on the appearance ...  negative   \n",
              "40004  This movie was on t.v the other day, and I did...  negative   \n",
              "40005  Hickory Dickory Dock was a good Poirot mystery...  positive   \n",
              "40006  \"One Crazy Summer\" is the funniest, craziest (...  positive   \n",
              "40007  Low-budget schlockmeister Herschell Gordon Lew...  negative   \n",
              "40008  this was absolutely the most tragic pile of ci...  negative   \n",
              "40009  I have never understood the appeal of this sho...  negative   \n",
              "\n",
              "                                            clean_review  label  \n",
              "40000  first off i want to say that i lean liberal on...      0  \n",
              "40001  i was excited to see a sitcom that would hopef...      0  \n",
              "40002  when you look at the cover and read stuff abou...      0  \n",
              "40003  like many others i counted on the appearance o...      0  \n",
              "40004  this movie was on t v the other day and i didn...      0  \n",
              "40005  hickory dickory dock was a good poirot mystery...      1  \n",
              "40006  one crazy summer is the funniest craziest not ...      1  \n",
              "40007  low budget schlockmeister herschell gordon lew...      0  \n",
              "40008  this was absolutely the most tragic pile of ci...      0  \n",
              "40009  i have never understood the appeal of this sho...      0  "
            ],
            "text/html": [
              "\n",
              "  <div id=\"df-dc2ec5c9-d94d-4aa5-a478-7dc60dc15708\">\n",
              "    <div class=\"colab-df-container\">\n",
              "      <div>\n",
              "<style scoped>\n",
              "    .dataframe tbody tr th:only-of-type {\n",
              "        vertical-align: middle;\n",
              "    }\n",
              "\n",
              "    .dataframe tbody tr th {\n",
              "        vertical-align: top;\n",
              "    }\n",
              "\n",
              "    .dataframe thead th {\n",
              "        text-align: right;\n",
              "    }\n",
              "</style>\n",
              "<table border=\"1\" class=\"dataframe\">\n",
              "  <thead>\n",
              "    <tr style=\"text-align: right;\">\n",
              "      <th></th>\n",
              "      <th>review</th>\n",
              "      <th>sentiment</th>\n",
              "      <th>clean_review</th>\n",
              "      <th>label</th>\n",
              "    </tr>\n",
              "  </thead>\n",
              "  <tbody>\n",
              "    <tr>\n",
              "      <th>40000</th>\n",
              "      <td>First off I want to say that I lean liberal on...</td>\n",
              "      <td>negative</td>\n",
              "      <td>first off i want to say that i lean liberal on...</td>\n",
              "      <td>0</td>\n",
              "    </tr>\n",
              "    <tr>\n",
              "      <th>40001</th>\n",
              "      <td>I was excited to see a sitcom that would hopef...</td>\n",
              "      <td>negative</td>\n",
              "      <td>i was excited to see a sitcom that would hopef...</td>\n",
              "      <td>0</td>\n",
              "    </tr>\n",
              "    <tr>\n",
              "      <th>40002</th>\n",
              "      <td>When you look at the cover and read stuff abou...</td>\n",
              "      <td>negative</td>\n",
              "      <td>when you look at the cover and read stuff abou...</td>\n",
              "      <td>0</td>\n",
              "    </tr>\n",
              "    <tr>\n",
              "      <th>40003</th>\n",
              "      <td>Like many others, I counted on the appearance ...</td>\n",
              "      <td>negative</td>\n",
              "      <td>like many others i counted on the appearance o...</td>\n",
              "      <td>0</td>\n",
              "    </tr>\n",
              "    <tr>\n",
              "      <th>40004</th>\n",
              "      <td>This movie was on t.v the other day, and I did...</td>\n",
              "      <td>negative</td>\n",
              "      <td>this movie was on t v the other day and i didn...</td>\n",
              "      <td>0</td>\n",
              "    </tr>\n",
              "    <tr>\n",
              "      <th>40005</th>\n",
              "      <td>Hickory Dickory Dock was a good Poirot mystery...</td>\n",
              "      <td>positive</td>\n",
              "      <td>hickory dickory dock was a good poirot mystery...</td>\n",
              "      <td>1</td>\n",
              "    </tr>\n",
              "    <tr>\n",
              "      <th>40006</th>\n",
              "      <td>\"One Crazy Summer\" is the funniest, craziest (...</td>\n",
              "      <td>positive</td>\n",
              "      <td>one crazy summer is the funniest craziest not ...</td>\n",
              "      <td>1</td>\n",
              "    </tr>\n",
              "    <tr>\n",
              "      <th>40007</th>\n",
              "      <td>Low-budget schlockmeister Herschell Gordon Lew...</td>\n",
              "      <td>negative</td>\n",
              "      <td>low budget schlockmeister herschell gordon lew...</td>\n",
              "      <td>0</td>\n",
              "    </tr>\n",
              "    <tr>\n",
              "      <th>40008</th>\n",
              "      <td>this was absolutely the most tragic pile of ci...</td>\n",
              "      <td>negative</td>\n",
              "      <td>this was absolutely the most tragic pile of ci...</td>\n",
              "      <td>0</td>\n",
              "    </tr>\n",
              "    <tr>\n",
              "      <th>40009</th>\n",
              "      <td>I have never understood the appeal of this sho...</td>\n",
              "      <td>negative</td>\n",
              "      <td>i have never understood the appeal of this sho...</td>\n",
              "      <td>0</td>\n",
              "    </tr>\n",
              "  </tbody>\n",
              "</table>\n",
              "</div>\n",
              "      <button class=\"colab-df-convert\" onclick=\"convertToInteractive('df-dc2ec5c9-d94d-4aa5-a478-7dc60dc15708')\"\n",
              "              title=\"Convert this dataframe to an interactive table.\"\n",
              "              style=\"display:none;\">\n",
              "        \n",
              "  <svg xmlns=\"http://www.w3.org/2000/svg\" height=\"24px\"viewBox=\"0 0 24 24\"\n",
              "       width=\"24px\">\n",
              "    <path d=\"M0 0h24v24H0V0z\" fill=\"none\"/>\n",
              "    <path d=\"M18.56 5.44l.94 2.06.94-2.06 2.06-.94-2.06-.94-.94-2.06-.94 2.06-2.06.94zm-11 1L8.5 8.5l.94-2.06 2.06-.94-2.06-.94L8.5 2.5l-.94 2.06-2.06.94zm10 10l.94 2.06.94-2.06 2.06-.94-2.06-.94-.94-2.06-.94 2.06-2.06.94z\"/><path d=\"M17.41 7.96l-1.37-1.37c-.4-.4-.92-.59-1.43-.59-.52 0-1.04.2-1.43.59L10.3 9.45l-7.72 7.72c-.78.78-.78 2.05 0 2.83L4 21.41c.39.39.9.59 1.41.59.51 0 1.02-.2 1.41-.59l7.78-7.78 2.81-2.81c.8-.78.8-2.07 0-2.86zM5.41 20L4 18.59l7.72-7.72 1.47 1.35L5.41 20z\"/>\n",
              "  </svg>\n",
              "      </button>\n",
              "      \n",
              "  <style>\n",
              "    .colab-df-container {\n",
              "      display:flex;\n",
              "      flex-wrap:wrap;\n",
              "      gap: 12px;\n",
              "    }\n",
              "\n",
              "    .colab-df-convert {\n",
              "      background-color: #E8F0FE;\n",
              "      border: none;\n",
              "      border-radius: 50%;\n",
              "      cursor: pointer;\n",
              "      display: none;\n",
              "      fill: #1967D2;\n",
              "      height: 32px;\n",
              "      padding: 0 0 0 0;\n",
              "      width: 32px;\n",
              "    }\n",
              "\n",
              "    .colab-df-convert:hover {\n",
              "      background-color: #E2EBFA;\n",
              "      box-shadow: 0px 1px 2px rgba(60, 64, 67, 0.3), 0px 1px 3px 1px rgba(60, 64, 67, 0.15);\n",
              "      fill: #174EA6;\n",
              "    }\n",
              "\n",
              "    [theme=dark] .colab-df-convert {\n",
              "      background-color: #3B4455;\n",
              "      fill: #D2E3FC;\n",
              "    }\n",
              "\n",
              "    [theme=dark] .colab-df-convert:hover {\n",
              "      background-color: #434B5C;\n",
              "      box-shadow: 0px 1px 3px 1px rgba(0, 0, 0, 0.15);\n",
              "      filter: drop-shadow(0px 1px 2px rgba(0, 0, 0, 0.3));\n",
              "      fill: #FFFFFF;\n",
              "    }\n",
              "  </style>\n",
              "\n",
              "      <script>\n",
              "        const buttonEl =\n",
              "          document.querySelector('#df-dc2ec5c9-d94d-4aa5-a478-7dc60dc15708 button.colab-df-convert');\n",
              "        buttonEl.style.display =\n",
              "          google.colab.kernel.accessAllowed ? 'block' : 'none';\n",
              "\n",
              "        async function convertToInteractive(key) {\n",
              "          const element = document.querySelector('#df-dc2ec5c9-d94d-4aa5-a478-7dc60dc15708');\n",
              "          const dataTable =\n",
              "            await google.colab.kernel.invokeFunction('convertToInteractive',\n",
              "                                                     [key], {});\n",
              "          if (!dataTable) return;\n",
              "\n",
              "          const docLinkHtml = 'Like what you see? Visit the ' +\n",
              "            '<a target=\"_blank\" href=https://colab.research.google.com/notebooks/data_table.ipynb>data table notebook</a>'\n",
              "            + ' to learn more about interactive tables.';\n",
              "          element.innerHTML = '';\n",
              "          dataTable['output_type'] = 'display_data';\n",
              "          await google.colab.output.renderOutput(dataTable, element);\n",
              "          const docLink = document.createElement('div');\n",
              "          docLink.innerHTML = docLinkHtml;\n",
              "          element.appendChild(docLink);\n",
              "        }\n",
              "      </script>\n",
              "    </div>\n",
              "  </div>\n",
              "  "
            ]
          },
          "metadata": {},
          "execution_count": 46
        }
      ],
      "source": [
        "# clean text\n",
        "df_test[\"clean_review\"] = df_test[\"review\"].apply(lambda text : clean_review(text))\n",
        "\n",
        "# create a label columns using manual label encoding\n",
        "lab = {\"positive\":1,\"negative\":0}\n",
        "df_test['label']= df_test[\"sentiment\"].map(lab)\n",
        "df_test.head(10)"
      ]
    },
    {
      "cell_type": "code",
      "execution_count": 47,
      "id": "pregnant-layout",
      "metadata": {
        "id": "pregnant-layout",
        "colab": {
          "base_uri": "https://localhost:8080/",
          "height": 206
        },
        "outputId": "c50b0504-7e6e-4a7f-d3ac-489cc6082ae1"
      },
      "outputs": [
        {
          "output_type": "execute_result",
          "data": {
            "text/plain": [
              "                                            clean_review  label\n",
              "40000  first off i want to say that i lean liberal on...      0\n",
              "40001  i was excited to see a sitcom that would hopef...      0\n",
              "40002  when you look at the cover and read stuff abou...      0\n",
              "40003  like many others i counted on the appearance o...      0\n",
              "40004  this movie was on t v the other day and i didn...      0"
            ],
            "text/html": [
              "\n",
              "  <div id=\"df-b7fd2387-6fb4-47b3-a130-3b21e2891588\">\n",
              "    <div class=\"colab-df-container\">\n",
              "      <div>\n",
              "<style scoped>\n",
              "    .dataframe tbody tr th:only-of-type {\n",
              "        vertical-align: middle;\n",
              "    }\n",
              "\n",
              "    .dataframe tbody tr th {\n",
              "        vertical-align: top;\n",
              "    }\n",
              "\n",
              "    .dataframe thead th {\n",
              "        text-align: right;\n",
              "    }\n",
              "</style>\n",
              "<table border=\"1\" class=\"dataframe\">\n",
              "  <thead>\n",
              "    <tr style=\"text-align: right;\">\n",
              "      <th></th>\n",
              "      <th>clean_review</th>\n",
              "      <th>label</th>\n",
              "    </tr>\n",
              "  </thead>\n",
              "  <tbody>\n",
              "    <tr>\n",
              "      <th>40000</th>\n",
              "      <td>first off i want to say that i lean liberal on...</td>\n",
              "      <td>0</td>\n",
              "    </tr>\n",
              "    <tr>\n",
              "      <th>40001</th>\n",
              "      <td>i was excited to see a sitcom that would hopef...</td>\n",
              "      <td>0</td>\n",
              "    </tr>\n",
              "    <tr>\n",
              "      <th>40002</th>\n",
              "      <td>when you look at the cover and read stuff abou...</td>\n",
              "      <td>0</td>\n",
              "    </tr>\n",
              "    <tr>\n",
              "      <th>40003</th>\n",
              "      <td>like many others i counted on the appearance o...</td>\n",
              "      <td>0</td>\n",
              "    </tr>\n",
              "    <tr>\n",
              "      <th>40004</th>\n",
              "      <td>this movie was on t v the other day and i didn...</td>\n",
              "      <td>0</td>\n",
              "    </tr>\n",
              "  </tbody>\n",
              "</table>\n",
              "</div>\n",
              "      <button class=\"colab-df-convert\" onclick=\"convertToInteractive('df-b7fd2387-6fb4-47b3-a130-3b21e2891588')\"\n",
              "              title=\"Convert this dataframe to an interactive table.\"\n",
              "              style=\"display:none;\">\n",
              "        \n",
              "  <svg xmlns=\"http://www.w3.org/2000/svg\" height=\"24px\"viewBox=\"0 0 24 24\"\n",
              "       width=\"24px\">\n",
              "    <path d=\"M0 0h24v24H0V0z\" fill=\"none\"/>\n",
              "    <path d=\"M18.56 5.44l.94 2.06.94-2.06 2.06-.94-2.06-.94-.94-2.06-.94 2.06-2.06.94zm-11 1L8.5 8.5l.94-2.06 2.06-.94-2.06-.94L8.5 2.5l-.94 2.06-2.06.94zm10 10l.94 2.06.94-2.06 2.06-.94-2.06-.94-.94-2.06-.94 2.06-2.06.94z\"/><path d=\"M17.41 7.96l-1.37-1.37c-.4-.4-.92-.59-1.43-.59-.52 0-1.04.2-1.43.59L10.3 9.45l-7.72 7.72c-.78.78-.78 2.05 0 2.83L4 21.41c.39.39.9.59 1.41.59.51 0 1.02-.2 1.41-.59l7.78-7.78 2.81-2.81c.8-.78.8-2.07 0-2.86zM5.41 20L4 18.59l7.72-7.72 1.47 1.35L5.41 20z\"/>\n",
              "  </svg>\n",
              "      </button>\n",
              "      \n",
              "  <style>\n",
              "    .colab-df-container {\n",
              "      display:flex;\n",
              "      flex-wrap:wrap;\n",
              "      gap: 12px;\n",
              "    }\n",
              "\n",
              "    .colab-df-convert {\n",
              "      background-color: #E8F0FE;\n",
              "      border: none;\n",
              "      border-radius: 50%;\n",
              "      cursor: pointer;\n",
              "      display: none;\n",
              "      fill: #1967D2;\n",
              "      height: 32px;\n",
              "      padding: 0 0 0 0;\n",
              "      width: 32px;\n",
              "    }\n",
              "\n",
              "    .colab-df-convert:hover {\n",
              "      background-color: #E2EBFA;\n",
              "      box-shadow: 0px 1px 2px rgba(60, 64, 67, 0.3), 0px 1px 3px 1px rgba(60, 64, 67, 0.15);\n",
              "      fill: #174EA6;\n",
              "    }\n",
              "\n",
              "    [theme=dark] .colab-df-convert {\n",
              "      background-color: #3B4455;\n",
              "      fill: #D2E3FC;\n",
              "    }\n",
              "\n",
              "    [theme=dark] .colab-df-convert:hover {\n",
              "      background-color: #434B5C;\n",
              "      box-shadow: 0px 1px 3px 1px rgba(0, 0, 0, 0.15);\n",
              "      filter: drop-shadow(0px 1px 2px rgba(0, 0, 0, 0.3));\n",
              "      fill: #FFFFFF;\n",
              "    }\n",
              "  </style>\n",
              "\n",
              "      <script>\n",
              "        const buttonEl =\n",
              "          document.querySelector('#df-b7fd2387-6fb4-47b3-a130-3b21e2891588 button.colab-df-convert');\n",
              "        buttonEl.style.display =\n",
              "          google.colab.kernel.accessAllowed ? 'block' : 'none';\n",
              "\n",
              "        async function convertToInteractive(key) {\n",
              "          const element = document.querySelector('#df-b7fd2387-6fb4-47b3-a130-3b21e2891588');\n",
              "          const dataTable =\n",
              "            await google.colab.kernel.invokeFunction('convertToInteractive',\n",
              "                                                     [key], {});\n",
              "          if (!dataTable) return;\n",
              "\n",
              "          const docLinkHtml = 'Like what you see? Visit the ' +\n",
              "            '<a target=\"_blank\" href=https://colab.research.google.com/notebooks/data_table.ipynb>data table notebook</a>'\n",
              "            + ' to learn more about interactive tables.';\n",
              "          element.innerHTML = '';\n",
              "          dataTable['output_type'] = 'display_data';\n",
              "          await google.colab.output.renderOutput(dataTable, element);\n",
              "          const docLink = document.createElement('div');\n",
              "          docLink.innerHTML = docLinkHtml;\n",
              "          element.appendChild(docLink);\n",
              "        }\n",
              "      </script>\n",
              "    </div>\n",
              "  </div>\n",
              "  "
            ]
          },
          "metadata": {},
          "execution_count": 47
        }
      ],
      "source": [
        "df_test = df_test[[\"clean_review\", \"label\"]]\n",
        "df_test.head()"
      ]
    },
    {
      "cell_type": "code",
      "execution_count": null,
      "id": "olive-python",
      "metadata": {
        "id": "olive-python"
      },
      "outputs": [],
      "source": [
        "# check missing values \n",
        "df_test.isna().sum()"
      ]
    },
    {
      "cell_type": "code",
      "execution_count": 48,
      "id": "stainless-thing",
      "metadata": {
        "id": "stainless-thing"
      },
      "outputs": [],
      "source": [
        "# convert testing dataset into tensorflow dataset format\n",
        "\n",
        "test_dataset = (\n",
        "    tf.data.Dataset.from_tensor_slices(\n",
        "        (\n",
        "            tf.cast(df_test[\"clean_review\"].values, tf.string),\n",
        "            tf.cast(df_test['label'].values, tf.int32)\n",
        "        )\n",
        "    )\n",
        ")\n",
        "\n",
        "# creeate batches in test dataset\n",
        "test_dataset = test_dataset.batch(BATCH_SIZE).prefetch(tf.data.AUTOTUNE)\n"
      ]
    },
    {
      "cell_type": "code",
      "execution_count": 49,
      "id": "sunrise-creativity",
      "metadata": {
        "id": "sunrise-creativity",
        "colab": {
          "base_uri": "https://localhost:8080/"
        },
        "outputId": "0d3af715-7310-43ba-9381-a81e6e7c1d9b"
      },
      "outputs": [
        {
          "output_type": "stream",
          "name": "stdout",
          "text": [
            "example :  [b'first off i want to say that i lean liberal on the political scale and i found the movie offensive i managed to watch the whole doggone disgrace of a film this movie brings a low to original ideas yes it was original thus my 2 stars instead of 1 are our film writers that uncreative that they can only come up with this acting was horrible and the characters were unlikeable for the most part the lead lady in the story had no good qualities at all they made her bf into some sort of a bad guy and i did not see that at all maybe i missed something i do not know he was the most down to earth relevant character in the movie i did not shell out any money for this garbage i almost wish peta would come to the rescue of this awful offensive movie and form a protest disgusting thats all i have to say anymore'\n",
            " b'i was excited to see a sitcom that would hopefully represent indian candians but i found this show to be not funny at all the producers and cast are probably happy to get both bad and good feed back because as far as they are concerned it s getting talked about i was ready for some stereotyping and have no problem with it because stereotypes exist for a reason they are usually true but there really wasn t anything funny about these stereotypical characters the fresh of the boat dad who doesn t understand his daughter the radical feminist muslim daughter who by the way is a terrible actress and the young modern indian man trying to run his mosque as politically correct as he can he s a pretty good actor i only see him getting better br br it is very contrived and the dialog doesn t flow that well there was so much potential for something like this but sadly i think it failed and don t really care to watch another episode br br i did however enjoy watching a great canadian actress sheila mccarthy again she s always a treat and a natural at everything she does too bad her daughter in the show doesn t have the same acting abilities'\n",
            " b'when you look at the cover and read stuff about it an entirely different type of movie comes to mind than what you get here then again maybe i read the summary for the other movie called mausolem instead as there were two movies of this title released about the same time with both featuring plots that had key elements in common however reading stuff about that movie here i know i saw this one and not that one and that movie is even less what one would imagine a movie with that title would be about i will be honest i expect more of a zombie type picture and you get that in this movie to some degree however there is more stuff involving the occult and strange powers as the opening scene of the people being taken away by the coroner at the beginning of the film will attest to the movie also has the old theme of kids going somewhere they do not belong to have some crazy party in this case it is in fact a mausoleum the other movie i do not think really has that key feature playing that prominent role in the movie and i see the score for this one is higher too still it was just not the movie i was expecting'\n",
            " b'like many others i counted on the appearance of dennis hopper to make this not a complete waste of time i was sadly mistaken everything negative said about this flic is more than true what takes the cake however is the horrible horrible storyline for the main character br br here s why the planet might be destroyed the only way to recover from it for the entire human race to be saved trough it is to get as many smart capable nice competent people into an underground hide out and dennis hopper is the lone seer scientist with vision who was prepared for the worst and who has realized this but what s the main motivation of stevens sonny d angelo he s angry because dennis has decided who is to be saved or to be doomed while it clearly explained to stevens that dennis character has done everything to warn people of the danger but that he was laughed at the hopper character was the boy with the finger in the dike and now stevens is blaming him for picking and choosing and if that isn t enough he wants to stop everybody from entering this hideout because it isn t fair and he s responsible for the death of the one guy who is humanity s saviour oh my god how stupid can you get br br what s also maddening that imdb forces one to write minimal ten lines about this piece of crap i mean two million in budget what could have been done with that think clerks blair witch and lotsa other movies who have been made for under 100 000 dollars and were still better aaaaargh i count myself lucky that i didn t pay one penny to see this crap and to sit through the end of this utter ber crap is one the most heroic things i ve done this year it s no wonder that the writers of this pile of dung had jobs as camera operator and title designer before'\n",
            " b'this movie was on t v the other day and i didn t enjoy it at all the first george of the jungle was a good comedy but the sequel completely awful the new actor and actress to play the lead roles weren t good at all they should of had the original actor brendon fraiser and original actress i forgot her name so this movie gets the 0 out of ten rating not a film that you can sit down and watch and enjoy this is a film that you turn to another channel or take it back to the shop if hired or bought it was good to see ape the ape back but wasn t as fun as the first they should of had the new george as georges son grown up and still had bredon and whats her face in the film that would ve been a bit better then it was'\n",
            " b'hickory dickory dock was a good poirot mystery i confess i have not read the book despite being an avid agatha christie fan the adaptation isn t without its problems there were times when the humour and there were valiant attempts to get it right was a little overdone and the events leading up to the final solution were rather rushed i also thought there were some slow moments so some of the mystery felt padded however i loved how hickory dickory dock was filmed it had a very similar visual style to the brilliant abc murders and it really set the atmosphere what with the dark camera work and dark lighting the darker moments were somewhat creepy this was helped by one of the most haunting music scores in a poirot adaptation maybe not as disturbing as the one in one two buckle my shoe which gave me nightmares the plot is complex with all the essential ingredients though not as convoluted as buckle my shoe and in some way that is a good thing the acting was very good david suchet is impeccable i know i can t use this word forever but i can t think of a better word to describe his performance in the series as poirot and phillip jackson and pauline moran do justice to their integral characters brilliantly and the students had great personalities and well developed on the whole particularly damian lewis as leonard all in all solid mystery but doesn t rank along the best 7 5 10 bethany cox'\n",
            " b'one crazy summer is the funniest craziest not necessarily the best movie i have ever seen br br just when one crazy scene is done another emerges it never lets you rest just one thing after another the soundtrack is great the songs are the right ones for the scenes br br it is also a clean movie little that is dirty in it br br of course it has the story of the guys you wouldn t trust with your lunch money taking up a challenge and winning over people with more resources who d want to see it if they failed there is a serious side in that parents and children do not live up to each others dreams one should always have an open mind and weigh all the options this applies both to parents and children in one crazy summer the parents are wrong this is not always the case'\n",
            " b'low budget schlockmeister herschell gordon lewis reaches a new low even for him with the gore gore girls a film snicker that possesses all of his technical trademarks badly recorded sound poor lighting and ott gore this would be tolerable even a bit charming if the film at least had an interesting plot blood feast in all its ridiculous glory is a fine example but girls is a total snooze completely unlikable pompous ass private investigator abraham gentry frank kress is recruited by a newspaper reporter to find out who s been murdering out of shape strippers you ll stop caring who the culprit is long before these two are wrapping up the case as before the appeal isn t the plot but the creative methods of bloodletting including a girl s fanny being tenderized with a wooden mallet and the occasional flashes of then risqu skin but this just isn t enough to elevate the material above tedium'\n",
            " b'this was absolutely the most tragic pile of cinema to which i have ever born witness not only was the name a complete misnomer since the film has next to nothing to do with piranhas but the acting is as hollow and stale as the attempt to actually make some kind of plot when you watch this film you cannot help but spend every waking second questioning when you ve had enough and it s time to turn it off unfortunately i waited until the end in my case that s two hours of my life that i will never be able to reclaim'\n",
            " b'i have never understood the appeal of this show the acting is poor debra jo rupp being a notable exception the plots of most episodes are trite and uninspiring the dialogue is weak the jokes unfunny and it is painful to try and sit through even half an episode furthermore the link between this show and the 70s is extremely tenuous beyond the style of dress and the scenery and background used for the show it seems to be nothing more than a modern sitcom with the same old unfunny clich d scripts that modern sitcoms have dressed up as depicting a show from twenty years ago in the hope that it will gain some nostalgic viewers or something like that both happy days and the wonder years employ the same technique much more effectively and are actually a pleasure to watch in contrast to this horrible pathetic excuse for a show'\n",
            " b'mr bug goes to town was the last major achievement the fleischer studios produced the quality of the superman series produced at the same time is evident in this extraordinary film br br the music and lyrics by frank loesser and hoagy carmichael with assistance by flieshcer veteran sammy timberg are quite good but not as much as the scoring of the picture by leigh harline who also scored snow white for disney harline s atmospheric music is superb and a treat for the ears br br the layout and staging of the picture was years ahead of it s time and once again the fleischer s background artists outdid themselves the techincolored beauty of the film cannot be denied and while hoppity the grasshopper is the star the characters of swat the fly and smack the mosquito steal the picture swat s voicing by jack mercer of popeye fame is priceless kenny gardner brother in law of guy lombardo and a featured vocalist in his band does his usual pleasant job in the role of dick dickinsen br br the movie has been criticized for all the wrong reasons the fleischer studios were animation experts par excellence and this shows very clearly in the finished product the movie is tuneful the story great for all ages and the final scenes of the bugs scrambling for their lives upon a rising skyscraper is some of the best staging and animation of any animated film past and present br br do not miss this wonderfully hand drawn film also don t fail to appreciate the title sequence with the most elaborate example of max fleischer s remarkable 3 d sterioptical process which took four months to construct and employed 16 000 tiny panes of glass in the electrified buildings of manhattan br br do not miss mr bug goes to town aka hoppity goes to town i ll wager you ll be bug eyed at the results'\n",
            " b'this is one of my two or three favorite stooges shorts and undoubtedly christine mcintyre s best performance with the trio she is good in a number of other shorts but here she is absolutely brilliant her singing is not funny at all in fact it is downright beautiful but the plot is constructed in such a way that the singing enhances the humor rather than detracting from it we listen to mcintyre sing the entirety of voice of spring no less than three times but it never gets old partly because we don t tire of her voice and partly because it blends so well with the stooges antics the use of operatic soprano in a comedy is reminiscent of kitty carlisle s role in the marx brothers a night at the opera but the singing is much more a part of the comedy here than in opera and mcintyre perhaps more in other performances than here exhibited a comedic talent of her own that carlisle never did the stooges buffoonery mcintyre s singing and a well constructed plot combine for 5 out of 5 stars'\n",
            " b'this is supposed to be based on wilkie collins the woman in white but the only resemblance it bore to that story were the characters names the time period and the settings if they were going to change the story so thoroughly i don t understand why they needed to keep up the pretense that it came from wilkie collins go read the book it s much better'\n",
            " b'of all the british imperialist movies like four feathers charge of the light brigade for example this movie stands out as the cream of the crop it reflects a time when the sun never set on the british empire get over it i won t go into why because so many others have expressed the many reasons that makes this film great i have visited the alabama hills and have photographed the pass through which the british marched and it remains as it was unchanged by time and encroachment by man and vandals and even though i know it s coming seeing din lying dead on a stretcher and when these lines are read br br yes din din din br br you lazarushian leather gunga din br br though i ve belted you and flayed you br br by the livin gawd that made you br br you re a better man than i am gunga din br br i still at 54 years of age get misty eyed and anyone who says they don t is a liar the range of emotions within it is the mark of a great movie like the ending of another great film of mice and men'\n",
            " b'james cagney racketeer and political ward heeler get to become a deputy commissioner of corrections and visits a boys reform school the catch is that cagney is not in it for the graft he genuinely wants to make a difference in the lives of the kids there because he comes from a background like their s br br the villain of the piece is dudley digges who is a grafting chiseler and a sanctimonious hypocrite to boot one of the subtexts of the plot of the mayor of hell is that these kids are mostly immigrants and those that judge them and are in positions of power are those who are here a few generations note in the mess hall scene as digges offers a prayer of thanks for the food they are about to receive digges is eating well but the kids are getting quality you wouldn t feed to your pet br br cagney has his own troubles back in the city with some of his henchmen and he has to take it on the lam that puts digges back in charge and setting up the film for it s climax br br the mayor of hell was a typical product from the working class studio and because it was pre code it gets pretty gruesome at times a later version of this crime school with humphrey bogart and the dead end kids was a more sanitized remake br br although cagney is fine in the lead role as is madge evans the school nurse the acting honors go to dudley digges hard to believe that the same man could portray the drunken but kindly one legged ship s surgeon in mutiny on the bounty but digges is a fine player and a joy to watch in every film he s in br br this film is not shown to often because of the racial and ethnic stereotypes it portrays a whole lot of minorities would be offended today still it s a fine film br br interestingly enough a few years ago the film sleepers came out and it touched on some of the same issues i guess films about reform schools don t change in any time'\n",
            " b'i loved this film not being a swooning ed wood jr fan i prefer to appreciate his boundless enthusiasm and acknowledge his shortcomings his movies are fun but his personal story is one racked with pain i hoped and was delighted to find that this film would be about understanding his turbulent life rather than simply heaping him with posthumous praise from beginning to end this film evolves from a documentary into a mythology leaving the cast and the viewer unexpectedly connected to each other and to ed wood jr br br what we get are people who knew ed wood the best talking about him from all perspectives positive and negative and showing us their character as much as ed s we get insight into ed s personal and professional life from his romances to his drinking to his sexuality to his friends to his enemies and even to his film making br br the film itself is shot in a low budget way that seems done out of respect for ed as if using the techniques of most theatrically released movies from 1996 would be disrespectful sort of like wearing a nicer suit than the president the set designer uses a sense of humor and also a great deal of insight when matching each cast member with their background br br fans will be excited to hear personal testimony regarding ed wood controversies and new comers will be amazed that this man was real the dvd is full of impossible to find gems crossroads of lorado and photo galleries but the real treasure of this film is the surprisingly engaging and interconnected story br br ed wood had a habit of defining people through their association with him for better or worse to the point where one woman will go down in history as swimming pool owner for once letting him and his friends be baptized in her pool this ability to define a person s legacy comes through universally as the most amazing effect of the film is to not only give a well rounded idea of the man that was ed wood jr but also to give a comprehensive view of the community that he created somehow without ever having more that one cast member being interviewed on screen at a time the connection that ed wood created amongst the various people in his life becomes clear and the viewer is left with great sense of involvement br br even the title hints at the b list horror genre but by the end we see that even this is a kindness what begins as unrelated stories by random people ends with the conclusion that all of the cast will be forever weaved into an unpredictably cohesive fabric that history will bring into haunting unity with wood s legend br br in many ways a living contradiction ed wood jr could not be condensed to a single viewpoint this collaborative effort is the closest to knowing him that we can ever get being itself a juxtaposition of themes it is at once respectful provocative thoughtful gripping fun sad kind and fulfilling'\n",
            " b'having already seen the original jack frost i never thought that jack frost 2 would be as absurd as it is boy was i wrong then again a pix movies have a way of showing unbelievably bad material even worse than you might expect i believe this is the first a pix sequel and it may be an indication of what to expect in the future more a pix sequels br br it s hard to watch this without laughing especially during the later parts of the movie in which jack frost s offspring which are essentially snowballs with eyes arms a mouth and sharp teeth start killing people with the typical comedic dialogue and silly voices to go with it they are shown both as puppets with a stick underneath to move them and as computer animation which i have to say looks very cheesy the computer animation surprised me as the first jack frost had no such effects br br i d strongly recommend that you see the original jack frost before seeing this one both of which it would be preferable to watch with a group of friends to get the full amusement out of it and because it would make more sense sense being a relative term br br now only if there was uncle sam 2'\n",
            " b'i had been subjected to this movie for a relationship class in my school as figured it was nothing captivating and nothing new though it tries to be original by focusing on the teen father instead of the mother showing the problems that the dad would go through it had an interesting side to it but it just doesn t live up to its originality due to the fact nothing else in this movie was original we have the main character who has the older sister who like in every other movie like this has a thing against him we have the stay at home mother who expects too much and when he gives more she feels offended and leaves him in the dust then we have the father who is always gone then the girls side we have the parents who want everything and expect her to be perfect at all she does on to the story like i said it was interesting but the lack of good acting from the entire cast and the lack of any good writing or storytelling everything about this fell into clich the little nerd kid in school starts studying with girl they get together have sex and then boom we have a little kid perhaps it could ve been better had the writing been well better and had the acting been improved i ve seriously gotten more emotion out of leatherface and his chainsaw than i did out of any actor in this film and that s pretty bad seeing as the leatherface movies are crap and horridly acted so far the only interesting teen pregnancy movie i ve seen was juno so far the comical side of this serious situation has proved more entertaining while still giving the same message like i said the idea was original most of these films focus on the teen mother but this one chose not to instead it focuses on the drama of the father but again the originality does not save this movie from mediocrity i really hope someone decides to either re make this movie with a better cast and a better writer or just make another similar film because this one was wasted potential'\n",
            " b'this movie is stuffed full of stock horror movie goodies chained lunatics pre meditated murder a mad vaguely lesbian female scientist with an even madder father who wears a mask because of his horrible disfigurement poisoning spooky castles werewolves male and female adultery slain lovers tibetan mystics the half man half plant victim of some unnamed experiment grave robbing mind control walled up bodies a car crash on a lonely road electrocution knights in armour the lot all topped off with an incredibly awful score and some of the worst foley work ever done br br the script is incomprehensible even by badly dubbed spanish horror movie standards and some of the editing is just bizarre in one scene where the lead female evil scientist goes to visit our heroine in her bedroom for one of the badly dubbed that is fantastical i do not understand explain to me again how this is exposition scenes that litter this movie there is a sudden hand held cutaway of the girl s thighs as she gets out of bed for no apparent reason at all other than to cover a cut in the bad scientist s mwahaha all your werewolfs belong mine speech though why they went to the bother i don t know because there are plenty of other jarring jump cuts all over the place even allowing for the atrocious pan and scan of the print i saw br br the director was according to one interview with the star drunk for most of the shoot and the film looks like it it is an incoherent mess it s made even more incoherent by the inclusion of werewolf rampage footage from a different film the mark of the wolf man made 4 years earlier featuring the same actor but playing the part with more aggression and with a different shirt and make up is there a word in spanish for continuity and more padding of another actor in the wolfman get up ambling about in long shot br br the music is incredibly bad varying almost at random from full orchestral creepy house music to bosannova to the longest piano and gong duet ever recorded thinking about it it might not have been a duet it might have been a solo the piano part was so simple it could have been picked out with one hand while the player whacked away at the gong with the other br br this is one of the most bewilderedly trance state inducing bad movies of the year so far for me enjoy br br favourite line ilona this madness and perversity will turn against you how true br br favourite shot the lover discovering his girlfriend slain dropping the candle in a cartoon like demonstration of surprise rank amateur directing there'\n",
            " b'there are times when finishing a film one wishes to have a refund for the time just spent this was one of those times i almost gave up with only 15 minutes left to endure and i wish i had br br the pace that a man goes from a straight laced controlled life to one of complete spinelessness and irresponsibility could never be this rapid br br from a graduation celebration to the predictable ending tristan price jesse metcalfe man of privilege and culture allows himself to be seduced by a woman by violence and by mind altering substances of course the woman part is understandable when observing the talents of the beautiful april nathalie kelley but the in for a penny in for a pound aspect of the drugs violence and dedication to a person he has just met is impossible to understand br br frankly besides being able to stare at nathalie kelley and monica keena this film has no redeeming qualities save your money save your time do anything else'\n",
            " b'another film to punish us for the crime of enjoying pulp fiction br br if you like watching people get killed by machine gun fire for an hour and a half this ll probably fit the bill fans of the debut episode of aeon flux wherein the title character slays literally thousands of seemingly faceless soldiers single handedly will really go for it br br otherwise it s not exactly a clever movie in fact all it is is an excuse for a bunch of young people to act rude and shoot people sometimes an entire scene goes by and the only thing that happens is you guessed it someone gets shot or to spice things up twenty people get shot first they re just sitting there the next minute they re sitting there dead yahoo br br rough plot a young american goes to paris an american in paris get it hires a prostitute the ethereal julie delpy gets in touch with some old french buddies one of which has aids they plan and attempt a bank heist of course movie convention states that no bank robberies on film go off w o a hitch and this hitch takes up about three quarters of the running time it s like dog day afternoon without the sidney lumet s wit patience or humanity while at the bank things go wrong surprise and the parisian with aids goes wacko with his uzi several hundred times no spoilers here but suffice to say that you re at such an emotional distance from these characters that it s not likely you ll care who lives and who dies by the end of the film br br some have called it stylish perhaps it is but it s someone else s style it s a movie that s already been done and killing zoe is trapped by convention nowhere in the course of the movie does the director roger avary co winner of the pulp fiction screenplay oscar do anything really original stylish funky or outrageous unless you consider the fact that no movie that has taken place inside a bank has had such a high body count there isn t anything else to set this one apart from the multitude'\n",
            " b'when the romulans come they will not be bearing gifts no they bring with them war war and conquest as any familiar with this episode know it is a redux of the war film the enemy below from the fifties the obvious difference is that instead of a battleship and a submarine or an american destroyer german u boat engaged in lethal war games it is two starships in outer space in trek history about 100 years before the events here according to this episode earth fought the romulan wars after about 5 years of conflict a stalemate brought about a treaty and the institution of the neutral zone a boundary between us and the romulan empire now on this stardate the treaty appears to be broken as our outposts are being attacked and destroyed by some weapon of immense power yes the romulans are back testing their new war toy and kirk must now earn his pay he must make decisions that would affect this sector of the galaxy such as figuring out how to avoid a oh i dunno an interstellar war maybe br br i think what makes this episode so effective is that it doesn t shy away from the grim aspects of war as one would expect of a mere tv episode from the sixties especially an episode from a science fiction show it s all very tense and gripping like the best war films such as when kirk sits down with his key officers for what amounts to a war council the writers and the actors aren t kidding around here this is all preparation for a ghastly conflict potentially the beginning of another years long battleground in the final analysis kirk s aim is to keep this battleground to just the two ships but even then it s an endeavor fraught with peril and probable casualties in fact i believe this episode holds the record for ship casualties by the end of it right at the start of the episode we see the devastation such battle can produce in that supposedly well protected outpost then begin the cat and mouse war games between the enterprise and the romulan ship it s as exciting as any conflict we ve seen on the big screen of course if you re not into war films you d have to look for other things to admire in this episode br br what elevates this episode even further is the revelation of just what and who the romulans are it s an electric shock of a sort now we have even further inter crew conflict on the bridge of the enterprise war does tend to bring out the worst in some people due to still nasty attitudes about race in this future the tension is ratcheted up even further kirk has his hands full in this one i suppose the one weakness in the story is the convenient relenting of the bigotry issue by the conclusion on the romulan side actor lenard makes his first appearance in the trek universe as the romulan commander he s terrific in the role the flip side of capt kirk or capt pike take your pick done up to resemble spock more than a little surprisingly his character is not war hungry as we would expect another eye opener for this episode the actor would next return to this universe as sarek spock s father so he s nothing if not versatile it s also telling how the first appearance of such characters as the romulans is usually their best shot as it is here they showed up in the enterprise incident next'\n",
            " b'this was a movie that i had heard about all my life growing up but had never seen it until a few years ago it s reputation truly proceeded it i knew of michael myers had seen the mask saw commercials for all of the crummy sequels that followed but i was growing up during the decade where jason and freddy had a deadly grip on the horror game and never thought much of the halloween franchise boy how i was being cheated with cheap knock offs br br halloween is a genuinely terrifying movie now by today s standards it isn t as graphic and visceral but this film delivers on all the other levels most horror movies fail to achieve today the atmosphere that john carpenter creates is so creepy and the fact that it is set in a quaint mid west town is a testament to his ability the lighting effects are down right horrifying with the shape seemingly appearing and disappearing into the shadows at will the simple yet brutally effective music score only adds to the suspense br br the performances by all the players are well done with specific nods to jamie lee curtis and donald pleasance ms curtis is such a good laurie strode because she is so likable and vulnerable it is all the more frightening when she is being stalked by michael myers because the director and viewer have invested so much into her we want her to survive and get away br br donald pleasance plays dr loomis like a man on a mission and it works well he adds a sense of urgency to the predicament the town finds itself in because he knows what evil stalks their streets br br overall not only is halloween a great horror movie but also a great film it works on many levels and draws the audience in and never lets up this should be standard viewing for anyone wanting to experience a truly scary movie and for an even more frightful time try watching it alone with the lights off don t be surprised if you think you see the shape lurking around in the shadows'\n",
            " b'let me begin by saying that there is no bigger fan of the original lonesome dove than i both the pulitzer prize winning book and the towering mini series adapted from it stand alone in my experience as moving dramatic believable and engrossing works there is no comparison between lonesome dove and any western film at least not since the legendary collaborations of john ford and john wayne it was with real reservations that i sat down to watch this new mini series what with mcmurtry s non participation and the missing original cast members after watching the first episode it was clear that this is no lonesome dove in almost every measurable way this sequel falls short of the original but so what i wasn t expecting it to measure up taken as an effort of it s own this film is engaging entertaining and of a very good quality if it were done as a new story not as a sequel to lonesome dove there is no question in my mind that it would not have received as many negative ratings jon voight did a creditable job as call barbara hershey was a terrific clara and the new characters like gideon walker and agostina vega were well rendered and believable louis gossett jr deserves special mention as the horse wrangler isom pickett the film made me care about the characters and i don t ask any more than that from an actor it is unfortunate that this worthy effort stands in the shadow of it s predecessor it is worth viewing in it s own right'\n",
            " b'i wasn t really interested in seeing step up but my friend just kept bugging and bugging me to see this film especially since she is so in love with channing tatum i tease her constantly about it saying how that s the only reason why she loved the movie but she somehow convinced me that it was a movie worth seeing that if i loved movies like dirty dancing take the lead and save the last dance that i should love step up eh what the heck i guess every movie in some way has it s right to a view br br well you know those movies i just mentioned up top dirty dancing take the lead and save the last dance well put them in a blender with some gangsta love in it and that s what you have not to mention if you ve seen those movies well frankly you have seen step up because channing is lower class with street smarts who just naturally feels the music while that snobby up class girl must follow step by step how will they ever fall in love if they are so different after all this is their chance to step up to the passion the mystery and the lust of the dance br br ok that was a silly plot explanation but like i said as long as you ve seen those movies i mentioned or even if you just saw the plot you get the movie i don t understand how it actually has a 5 5 rating i bet it s those channing lovers lol i m kidding with you guys but it s all good i guess i just didn t get what others did with the passion the mystery that is the dance oh antonio bandares where are you when we need you br br 4 10'\n",
            " b'i haven t seen bsg i tried to watch it once in the middle of the show but couldn t get into it however i saw caprica rebirth yesterday i felt a little lost so i decided to watch the pilot today and i must say i was pleasantly surprised i think this is a promising show and the only side effect it had on me is that now i want to watch bsg as well br br but what i really liked is that i didn t have to be a hardcore bsg fan to understand what s going on in caprica from what i have read in the net they were trying to reach the female population since bsg reached way more men and at least in my case it worked br br however i suggest that if you are trying to watch the show do it from the beginning starting with the pilot'\n",
            " b'well it turned out as i expected visual overload but nothing else added to the original what did surprise me however was that the storyline was fairly drastically changed compared to the 1968 flick initially this awoke my interest but what eventually surprised was that the new twists and turns a were apparently invented in order to present us with a typical hollywood like product and b made the whole storyline improbable the 1968 story was breathtakingly straightforward and included no time storms or any bogus of that sort it just stated that when you come home after a long journey things might have changed a bit earth might have fallen in the hands of apes for example like many old movies it s main ingredient was suspense hell does anyone understand that word these days in this burton movie an attempt has been made to turn the whole thing into an action movie but at what cost surely the images are overwhelming and a lot of time and money has been put into the design of a complete ape culture even ape music but what s wrong br br first the suspension of disbelief is made very hard because the apes have a lot of hollywood human traits i refer especially to ari and the slave trader these traits include emotional skills like irony sarcasm and an overtly displayed array of subtle emotions it makes you forget that the apes are apes which is essential br br second the humans talk of course we can imagine that humans will never forget how to speak but the fact that the apes had speech and the humans didn t made the ape human role switching very tangible and stressing in the 1968 version the wound in the throat that charlton heston gets there is essential to his survival and his later regained speech essential to his uniqueness and the interest that dr zira has in him so no need for things like human rights activists or ape human love in order to explain things br br third the fact that they talk ads a great deal to the implausibility but is a necessary twist in the new movie since capt davidson has to play the hollywood let s save the whole world and have a good ending for everyone and still make it to the lounge bar for a cool diet coke character oh my god will they never learn i new it from the start when there was only one guy who got lost they were in need of a hero and then the script writers go on reasoning we need one guy so why would one guy get lost because he tries to save an ape from an electromagnetic storm implausible but it s necessary because it shows the audience that he respects apes since in these modern and politically correct times we can t have a xenophobic ape hater like charlton heston s 68 character loose on the screen let s give them a bubblegum version br br fourth okay the general twist of the original discovering the truth of the 1968 film to the modern version he finds that his own mother ship crashed on the planet ages ago and that their lab apes developed their society where heston simply discovered that just somehow the apes overtook the earth while he was away is nicely done the second battle part comes as an anti climax that s because this movie has added the first two planet of the apes movies in one plot nice try but the chill you feel when davidson and you discover that he s lost on the planet forever just washes out due to the uninteresting battle part br br fifth the ending for chrissakes who came up with that a davidson crashes twice with his escape pod which seems an unsteerable object while the chimp manages to simply land gracefully come on who d believe that if the pods are really small space crafts davidson simply flies off into space at the end and not merely escape vessels he might have managed a safe landing at least once no and what about that ending i mean in the original film it was clear that everything took place on earth but here the whole movie takes place on a distant planet and suddenly the same there s a thade statue ape culture is on earth how come did the apes of the far planet evolve technologically flew into the time storm and colonised earth before davidson s mission took off why is thade worshiped stupid stupid stupid br br helena bonham carter is even adorable and beautiful as an ape but i d expected no less i preferred her ape above estella warren as a human but maybe i got some loose wire in my head nevertheless the only convincing apes were tim roth as thade wonderful and ari s household ape the ex general but i forgot his name br br nonono a lot of things could and should have been added altered to the 1968 pic but not the plot at least not in that way it was simple and clear and needed no additional explaining it was nicely tongue in cheek and caricatured don t stylize everything'\n",
            " b'cooley high was actually a drama with moments of comedy it was a reflection of high school life back in the day i attended coolidge high in washington d c from 1976 to 1979 and much of what was in cooley high was an every day thing at coolidge as a matter of fact after the movie came out everybody started calling coolidge cooley high getting high shooting dice chasing girls basement parties and fights that sums up high school life for many in d c back in the day i can t forget motown because motown music began and ended many a day back in the 70s the hits just kept coming however cooley high adds a layer of humanity over the craziness because when all was said and done just like in cooley high my classmates and i had a lot of love for each other and like the characters in cooley high there was life after high school but there was nothing like waking up every morning and experiencing each day to the fullest from homeroom to seventh period thirty years later we are getting ready to celebrate those good times cooley high is definitely a period piece that just gets better with time because like it or not the only thing left from those days are memories some good and some bad'\n",
            " b'this is a great movie for any fan of hong kong action movies asides from it s little plot the weak drama and bits of comedy antics the movie is action packed with gun fighting and martial arts action kept me entertained from beginning until the end i thought shannon lee was awesome in the movie br br having an action director like corey yuen is what keeps hong kong action going strong this modern action film is highly recommended'\n",
            " b'i m trying to understand what people liked about mirrormask i am an avid film viewer and hobbyist film maker as i was telling friends during my lunch hour mirrormask may well be my biggest movie disappointment of the year just like the short moongirl the film missed its marks several times during the movie it made attempts at humor it sets you up for the laugh instead of making you laugh it leaves you feeling empty the jokes reminded one of the recent star wars films they weren t funny unless you were five and the acting felt similarly terrible i ve seen actors actually act in front of a blue screen and i ve believed it but not in this film not for a second br br this film takes a formula and tries to apply it with pretty artwork and though the script is totally workable and the special effects quite beautiful it has no heart to it and fails miserably i left the film shaking my head and considered leaving the theater i felt hallow and miserable and still haven t gotten the sour taste out of my mouth from it i love independent film i encourage people to view independent films to support them but not this film this film shouldn t have been made at least not like this why did the director miss the marks so clearly they were clearly setup not just the humor but the emotions the drama even the lines were poorly timed and delivered it was like the film walked on three legs instead of four its steps are awkward and miss timed and it could fall over with the slightest push don t see this film i don t care who you are it isn t worth your time'\n",
            " b'loved the film this was my first glimpse at both reese witherspoon and jason london both of which are two of my favorites must say that no matter how many times i ve seen this movie i can t help but tear up one of those movies that should become a classic for all'\n",
            " b'over christmas break a group of college friends stay behind to help prepare the dorms to be torn down and replaced by apartment buildings to make the work a bit more difficult a murderous chucks wearing psycho is wandering the halls of the dorm preying on the group in various violent ways br br registered as one of the 74 video nasties listed by the u k in the 1980s the dorm that dripped blood had a good reputation built up for it prior to first viewing the term video nasty strikes into mind some images of some great explicit gore violence sex etc all the things a horror fan dreams of so after hearing all of that info i settled into pranks alt title expecting a sleazy slasher experience and that s what it tried to be but failed pretty much completely visually the film s not great the cinematography gore except for a couple scenes and overall direction all fail it s simply not enjoyable to watch the unoriginal script is lacking and often throws in random things without any real reason like the opening kill there are some cool death scenes including a pretty nice face melt which can be seen on the poster but that s about it for the positive the acting is pretty bad the story seems unimportant the killer isn t cool or scary and it suffers the one major error that any slasher flick should always avoid it s a bit boring overall for a film done by a few ucla film students for 90 000 which would be over double that today the dorm that dripped blood isn t a total mess it has a couple good things and is fairly watchable but as a slasher flick looking to be on the level of films like the house on sorority row and pieces it just cannot compare don t expect much and you may at least be entertained i hate to say it but this is one of the few films i ve seen that would actually be better with a remake and yet they go after great works like black christmas oh well br br obligatory horror elements br br subgenre slasher br br violence gore there are some brutally cool kills and the gore is okay for the most part but nothing special also they off screened some of the best murders br br sex nudity there s a little unappealing to me nudity but not very much br br cool killer s nah the ending monologue s of the killer made him her pretty uncool br br scares suspense a jump scare or two but nothing too effective br br mystery i suppose yeah but i simply didn t care enough and it s as obvious as the nose on the killer s face br br br br final verdict 3 75 10 bah humbug br br ap3'\n",
            " b'the mayor of hell has the feel of an early dead end kids film but with a much harder edge and very few light spots preceding the first appearance of the dead enders by four years james cagney has a full screen opening credit even though technically the mayor of the movie s title is actually portrayed by frankie darro one of several boys sent to reform school during the opening scenes darro s character is jimmy smith a young tough who s befriended by patsy gargan cagney and is elected to the position when gargan takes a chance at humanizing conditions at a state reformatory br br warner brothers made a lot of these types of films attempting to provide a conscience of sorts in an era that only too well knew about the effects of crime and poverty this movie is quite gritty with no apologies for ethnic stereotyping as in the submissive posture of a black father in court or the way a jewish kid gets to run a candy shop in the reform school the rules at the reformatory are simple enough work hard and keep your mouth shut step out of line and you answer personally to warden thompson dudley digges br br cagney s role in the story seems somewhat ambiguous since even though he makes a serious effort to improve conditions inside the reformatory on the outside he s still nominally in control of a criminal racket the film s attempt to juggle this dichotomy falls short in my estimation the finale attempts to wrap things up in a neat package as gargan awaits the outcome of a near fatal shooting of one of his henchmen not exactly the kind of role modeling one would look for in a film like this br br warner brothers would sanitize some of the elements of this story in a 1938 remake titled crime school featuring humphrey bogart in the cagney role and billy halop in the frankie darro part if you re partial to the dead end kids you ll probably like the latter film better since it also offers familiar faces like leo gorcey huntz hall bobby jordan and gabriel dell however the ending is somewhat muddied in that one too with bogart s warden character involved in a cover up of a prison breakout both films offer a romantic interest for the lead characters in mayor madge evans is a reform minded nurse that falls for cagney s character br br curiously a lot of james cagney s early films aren t commercially available so you ll have to keep your eyes peeled for a screening on turner classics or source the film from a private collector personally i can t get enough of this kind of stuff and find intriguing points of interest in the films of all genres from the thirties and forties'\n",
            " b'this two part tv mini series isn t as good as the original from 1966 but it s solid the original benefited from a huge number of things it was all in black and white it had a great jazz score and it was filmed at the real locations including the home of the doomed clutter family that was important because in the book and in the original movie the home is very much a character itself br br this remake was filmed in canada which i guess doubles okay for kansas the story tries to be as sympathetic to perry as it dares to and eric roberts plays him as a somewhat fey person his homosexuality barely hidden the gentler take by roberts doesn t quite work in the end though because it s hard to believe that his version of perry smith would just finally explode in a spasm of murder whereas robert blake s take on smith left you no doubt that his perry smith was an extremely dangerous character br br anthony edwards was excellent as the bombastic big mouthed and ultimately cowardly dick hickcock the brains of the outfit his performance compares very well to scott wilson s role in the original movie br br since this is a longer movie it allows more time to develop the clutter family and in this regard i think the 1996 movie has an advantage the clutters are just an outstanding decent family they ve never harmed another soul and it is just inexplicable that such a decent family is ultimately massacred in such a horrifying way it still boggles my mind that after the clutters were locked in the bathroom that herb clutter didn t force out the window so at least his children would have a chance to escape this movie has the thought occur to him but too late from what i read about the real home which is still standing the way the bathroom is configured they could ve opened the counter drawers and effectively barricaded the door which would ve forced the killers to blast their way in but it might ve bought time for some of the clutters to escape why the clutters didn t try this i have no idea br br fans of the book will recognize that this movie takes a lot of liberties with how the crime is committed but not too serious still it s distracting to viewers like me who have read tons about the case the actors playing the cops led by sam neill and leo rossi are uniformly excellent much better i think as a group than the actors in the original movie they know that to secure the noose around the necks of both of them they have to get them to confess and the officers come to the interview impeccably prepared they had already discovered the likely alibi the phony story of going to fort scott and had debunked every jot of it the officers then let smith hickcock just walk into their trap hickcock is a b s artist who figures he can convince anyone of anything and the officers respectfully let him tell his cover story but when they lower the boom on him he shatters very quickly it s very well filmed and acted and very gratifying to watch because the viewer naturally should loath hickcock in particular by this point a cowardly con man who needs the easily manipulated smith to do his killing for him supposedly hickcock later stated that the real reason for the crime wasn t to steal money from the clutters but to rape nancy clutter at least she was spared that degradation br br the actors playing the clutters are very good kevin tighe as herb clutter in particular the story sensitively deals with mrs clutter s emotional problems most likely clinical depression and mrs clutter displays remarkable inner strength when she firmly and strongly demands that the killers leave her daughter alone from what i ve read the clutters surviving family was particularly bothered by how bonnie clutter was portrayed in the book claiming it was entirely untrue but as an aside both of the killers related to the police how mr clutter asked them to not bother his wife because of her long illness capote might make up that fiction to make the character of bonnie more interesting but certainly the killers had no reason to falsely portray mrs clutter and no doubt much of the conversation in the book duplicated in the movies is right off the taped confessions of the killers so it would ve been nonsensical for herb to have said that and not have it be true'\n",
            " b'the pilot is extremely well done it lays out how the characters bond in future episodes i don t think anyone could have created a better pilot for this show it displays remarkable creativity on the writers part although not everything was straightened out because it was the very first episode a lot of events that happen in future seasons were demonstrated in the pilot an example would be ross and rachels future relationship even though the nervousness of a first episode appeared it was overcome by an amazing plot and outstanding cast choice br br bravo br br a great start to an unbeatable comedy'\n",
            " b'this miserable film is a remake of a 1927 film they should have let it remain that way br br what a colossal bomb douglas fairbanks displays absolutely no charisma here cesar romero is subjected to a role as a real jerk and bette grable sings with a chorus what i ll do to that hungarian br br the ridiculous plot deals with a picture of a woman in a castle in 1561 rome that saved the day by killing a conqueror fairbanks now let s fast forward to 300 years later where grable just married to the count romero faces a similar situation when on her wedding night there is an invasion by hungarian soldiers br br romero acts cowardly and flees before the army arrives he disguises himself as a gypsy and is made to remain at the castle when his violin playing pleases fairbanks the ending is worse than the entire wretched film when grable meets fairbanks to tell him the good news an enraged romero has annulled the marriage br br this poor imitation of a movie was made in 1948 as harry davenport a veteran supporting player who is in it died in 1949 this must have been his last film what a bomb to go out with after such a distinguished career br br walter abel co stars but he can do little with such poor writing the costumes look more like those that would come out of the stone age i can t fathom what fairbanks was wearing'\n",
            " b'i have to start off by apologizing because i thought the first 75 80 of this film was hilarious it s mostly because of brad pitt s performance spot on br br the acting by all involved was quite good but brad stole the movie the atmosphere was perfect in all respects i m not a giant pitt fan but this has got to be one of his best roles ever br br brutal honest gritty all good words to describe this movie br br i was reading a previous review and the person said that the reasoning behind early s violence isn t explained it is explained but they thankfully don t have to go into graphic detail to get their point across br br overall i gave this a 9 because every scene bar 1 or 2 was effective i think the humor in the first half or so is perfect for this movie underrated'\n",
            " b'this is burt reynolds citizen kane tragically nothing else he was ever involved in came close to approaching sharkey s machine it seemed to me that he put everything he had into it it is a movie that is in love with movies the opening sequence where detective sharkey single handedly rescues a bus load of hostages is an immensely exciting piece of cinema everything moves so quickly once it has started to go wrong that it appears to take on a life of its own a brilliantly achieved effect it looks cold tense and dangerous on mr reynolds streets the precinct house looks dirty and tired full of desperate people on both sides of the law shouting cursing out trying to do deals or just stay alive into this underworld descends the recently demoted sharkey a reward for a bungled drugs bust caused by a corrupt cop he and his team are part of the vice squad information they pick up concerning a crooked politician leads them into the world of high class call girls and ruthless drug barons watching the apartment of one such call girl rachel ward sharkey falls in love with her portrait on the wall i know i know and when a woman s body is found with its face shot off in one of the rooms he thinks its her well i did say it was a movie that loved movies the scene where she walks in on him works beautifully even if you have seen the original the film is full of good touches i particularly like charles durning s war story subtly acted and shot in sharp contrast to sharkey s abduction and torture which is suitably harsh and brutal i must mention vittorio gassman and henry silva as two disparate but equally evil brothers with absolutely no redeeming features whatsoever they are full on every time they re on screen and are no loss to society when their time comes mr silva s end being extra special indeed as has been mention this is a clint eastwood movie that clint never made the biggest compliment i can pay sharkey s machine is to point out that in my opinion clint eastwood couldn t have made a better job of it the soundtrack is of an equally high standard featuring sarah vaughan joe williams julie london chet baker and other top class artists randy crawford s street life plays behind the title sequence and i can never hear it without in my mind s eye seeing sharkey striding along the sidewalk like other correspondents i have never understood why this film was a bit of a flop i hope it is due for a critical revision particularly at a time when so many cop movies and shows without a quarter of its energy freshness and sheer joie de vivre are lauded from the rooftops if you re ever tempted to think of burt reynolds as a burnt out one trick pony put sharkey s machine in your video machine i promise you won t be disappointed'\n",
            " b'without a doubt one of tobe hoppor s best epic storytellng great special effects and the spacegirl vamp me baby'\n",
            " b'this must rank as one of cinema s greatest debacles i was wandering europe at the time and had the misfortune to stumble upon the crew making this movie in what was even then one of the world s idyllic unspoiled settings i was enlisted as an extra and what followed was an exhibition of modern day debauchery forget all the accusations you ve ever heard of peter mayall s intrusions on this rare piece of french life geoff reeve and his cohorts embarked on a level of revelry at the restaurant at les beaux that left the maitre d slack jawed in disbelief they were quite simply awful uncultured and undeserving of french hospitality'\n",
            " b'this anime is a must see for fans of evangelion it s an earlier work of anno hideaki but his unrestrained dramatic style is quite in place also those who didn t like evangelion might find this release to bit slightly more palatable gunbuster is rather unique to sci fi anime in that it s actually based on real science in fact the show has several little science lesson interludes explaining the physics behind some of the events in the movie one of the big dramatic points in the film is the relative passage of time at speeds near that of light the series does a wonderful job of dealing with the imaginably traumatic experience of leaving earth on a six month mission traveling near the speed of light and returning to an earth where ten years have passed the main character remains age 17 or 18 throughout the entire series while almost all of the other characters age considerably be warned this show is heavy on the sap at times it also has a couple of the most wholly unmerited breast shots that i have ever seen i found it fairly easy to ignore the skimpy uniforms and boo hoo scenes because the series is otherwise very good but viewers with a low sap tolerance might want to stay away from this one on an interesting note gainax as always managed to run out of money in the last couple of episodes however they managed to use black and white film and still action sketches to produce a good resolution anyway the ending is a bit silly but it left me with such a good feeling in my gut i couldn t help but love it gunbuster is in my opinion one of the finest pieces of anime around'\n",
            " b'don t see this movie bad acting and stupid gore effects a complete waste of time i was hoping to see a lot of cool murders and hot chicks instead the director depended on animal slaughter videos to shock you the watcher disgusting the murders are pretty lame basically strangulation one woman he stuffs worms in her mouth one he puts raw hamburgers on her face and strangles her btk btk broiler burger king s killer new sandwich ha ha i don t think this movie relied too much on actual facts i mean he real btk killer didn t carry around a bunch of rodents scorpions and worms and oh yeah a slaughtered cow head too go figure'\n",
            " b'i haven t any idea how commentators could regard this as a decent b western or how one commentator said the plot was more cohesive than most nothing could be farther from the truth this movie is one huge non sequitur it is an affront to the noble b western films of the 30 s i have seen many of wayne s early lone star and republic westerns and this one is easily the worst br br the bad guy is known as the shadow for crying out loud initially the shadow s scheme is holding up open sided stage coaches simultaneously his gang rustles all of the cattle in the territory then they decide to move on to bank robbery to do this they need to shoot up the town with a machine gun no explanation of why that s necessary or how he got that neato little toy br br no single scheme is revealed in enough detail to suggest a plot here the shadow is obviously just a generally bad guy with all kinds of generally evil schemes br br he imparts his instructions to his gang through a fake wall safe knock knock who s there he is apparently clairvoyant because whenever his henchmen need to talk to him they knock on the wall the safe opens and presto he s there i can just imagine that he has met them face to face and says i have some secret nefarious instructions to give you about our next evil deed meet me at the wall safe and i ll give em to you just why the shadow requires the safe to communicate with his army of outlaws is like most of the elements of this mess never explained br br he has a nifty tunnel to the ol hollow stump across the street from which vantage point various of his baddies perform assassinations he also has a hidden panel not in his secret lair behind the fake safe but out in the main room br br when not behind the safe he hangs out on his cow less ranch masquerading as rancher matlock we learn that he has murdered the true owners of the ranch two brothers and assumed the identity of one the daughter of the dead brother has recently arrived from 1930 s nyc judging by her wardrobe and she apparently never met her real uncle because he dupes her too br br if you thought that bad guys always wore black hats and good guys white hats you need to see this movie here the good guys all ditch their hats in favor of white head bands that make them look like they have all suffered head wounds before any shots have been fired it s like a game of pick up basketball only wayne has them tying bandanas round their heads instead of just taking off their shirts br br perhaps the weirdest of all is the ending immediately after subduing the shadow and his gang we jump far enough into the future to see wayne and his wife the erst while niece on the front porch of their home never mind that there has been scant romance there yak is playing with wayne s 3 4 year old son dressed up in injun garb hiyoo skookum fun br br no thanks to this nonsense wayne went on to become a screen legend only a super star packer or not could surmount this entry in a film resume long live the duke'\n",
            " b'office work especially in this era of computers multi functional copy machines e mail voice mail snail mail and temps is territory ripe with satirical possibilities a vein previously tapped in such films as clockwatchers and office space and very successfully this latest addition to the temp humor pool however haiku tunnel directed by josh kornbluth and jacob kornbluth fails to live up to it s predecessors and leaves the laughs somewhere outside the door waiting for a chance to sneak in unfortunately for the audience that chance never comes so what you get is a nice try but as the man once said no cigar br br as the narrator star of the film josh kornbluth playing josh kornbluth points out in the opening frames in a monologue delivered directly into the camera this story is pure fiction and takes place in the fictional city of san franc l isco it s an innovative if not very imaginatively presented disclaimer and not all that funny it is however a harbinger of what is to follow all of which like the disclaimer just isn t all that funny br br kornbluth plays kornbluth an aspiring novelist who supports himself working as a temp it s a job that suits him and it gives him time to slip in some work on his novel from time to time but when he goes to work for a lawyer bob shelby warren keith he does too good a job on the first day and shelby dispatches head secretary marlina d amore helen shumaker to kornbluth to persuade him to go perm the thought of working full time for the same company though initially strikes fear in the heart of kornbluth but he caves in and signs on for the position he s nervous about it but at least now the other secretaries acknowledge his presence which of course they would never do with a temp and if things get too rough he has seventeen important letters he s typed up that now just have to be mailed out to fall back on he s been holding them back because the mailing is the easy part and he needs that something easy to do in reserve in case it all gets to be too much for him these are important letters however and by the end of the week kornbluth still has them in reserve on his desk and it doesn t take a genius to figure out that when shelby finds out about it kornbluth s days as the fair haired boy are going to be over and quick br br the brothers kornbluth who not only directed but along with john bellucci also wrote the screenplay for this film should have taken a page out of the ben stiller book of comedy where it says if you play it straight they will laugh but they didn t and the audience won t because in comedy even looking at it as objectively as possible when the main character as well as most of the supporting characters in this case plays funny as in he knows he s being funny he never is and that s exactly what kornbluth does here so rather than being funny he comes across as insincere and pretentious a grievous error in judgment on the part of the kornbluths because by allowing it they sabotaged their own movie br br in trying to discern exactly why this movie doesn t work it comes down to two basic reasons the directing which if not necessarily bad is at least careless and secondly the performances beginning with that of josh kornbluth quite simply kornbluth just seems too impressed with himself to be effective here unlike stiller or even steve martin both of whom use self deprecating humor very effectively kornbluth apparently has an ego that simply will not allow putting himself in that light he seems to have a need to let his audience know that he the real kornbluth is in reality much more clever than kornbluth the character and being unable to get past that does him in as well as the film rather than give the millions of office workers who may see this film someone to whom they can relate or with whom they can identify kornbluth affects a condescending manner that only serves to alienate the very people he is attempting to reach so what it all comes down to is a case of poor directing and unconvincing acting and when you take into consideration that the screenplay itself was weak to begin with with an inexplicably narrow focus given the potential of the rich subject matter it s easy to understand why this one just doesn t fly br br the one saving grace of the film is the performance by warren keith as shelby whose subtle delivery is convincing and which in and of itself is fairly humorous the effectiveness of it is diminished however inasmuch as keith has to share his scenes with kornbluth which somewhat automatically cancels out his positive contributions to the project br br shumaker and sarah overman julie faustino also manage to keep their heads above water with their respective performances which are commendable if not entirely memorable they at least make their scenes watchable and overman even manages to elevate kornbluth s performance if only momentarily but it s still not enough to save the day or the film br br the supporting cast includes amy resnick mindy brian thorstenson clifford june lomena davonne joe bellan jimmy the mail clerk with a cameo appearance by a disheveled looking harry shearer as the orientation leader a role that begs for an answer to the question what was he thinking when he agreed to this in any work environment there will forever be situations arising that one way or another will unavoidably become fodder for someone s comedic cannon and the films depicting said situations will always be with us the good ones see paragraph one may even become classics in their own right haiku tunnel however will doubtfully remain very long amongst them for it s destiny lies elsewhere in a realm known only as obscurity i rate this one 1 10 br br br br'\n",
            " b'this film was not only one of john ford s own personal favorites but also numbered directors sergei m eisenstein and bertrand tavernier among its high profile admirers ironically i ve just caught up with it myself via criterion s recent 2 disc set after missing out on a couple of original language screenings of it on italian tv many years ago and again a few times on tv while in hollywood br br the film marked ford s first of nine collaborations with henry fonda and is also a quintessential example of ford s folksy americana vein a beautifully made and pictorially quite poetic piece of work the courtroom sequences and eventual revelation in its second half still pack quite a wallop apart from giving stalwart character actor donald meek a memorably meaty role as the prosecuting attorney br br fonda is of course perfectly cast as a bashful inexperienced but rigorous and humanistic lawyer who was destined to become president fonda would go on to portray other fictitious politicians on film most notably in franklin j schaffner s the best man 1964 and sidney lumet s fail safe 1964 and it s surprising now to learn that he was reluctant at the time about accepting the role of lincoln since in his view that was like playing god br br it is interesting to note here that ford had previously tackled abraham lincoln tangentially in the prisoner of shark island 1936 a superb but perhaps little known gem which has luckily just been released as a special edition dvd by the uk s veritable criterion stand in eureka s masters of cinema label besides i also have two more abraham lincoln films in my dvd collection which i ve yet to watch and incidentally both were directed by d w griffith the birth of a nation 1915 and abraham lincoln 1930 and had i not just received a bunch of films i ve never watched before just now i would have gladly given them a spin based on my highly satisfying viewing experience with young mr lincoln'\n",
            " b'this familiar story of an older man younger woman is surprisingly hard edged bikers hippies free love and jail bait mix surprisingly well in this forgotten black and white indie effort lead actress patricia wymer as the titular candy gives the finest performance of her career spanning all of 3 drive in epics wymer was precocious and fetching in the young graduates 1971 but gives a more serious performance in the babysitter the occasional violence and periodic nudity are somewhat surprising but well handled by the director leads wymer and george e carey sell the may december romance believably there are enough similarities between the babysitter and the young graduates to make one wonder if the same director helmed the latter film as well patricia wymer where are you br br hailing from seattle wa miss wymer had appeared as a dancer on the tv rock and roll show malibu u before gracing the cover as well as appearing in an eight page spread of the august 1968 issue of best for men a tasteful adults only magazine she also appeared as a coven witch in the popular 1969 cult drive in shocker the witchmaker br br the babysitter has finally made its home video debut as part of the eight film bci box set drive in cult classics vol 3 which is available from amazon com and some retail stores such as best buy'\n",
            " b'i have to admit that out of the many many thriller movies i have seen this has to be one of the worst i was shocked to discover that this piece of work had a 1 5 mil budget when it started i thought that the opening sequence was pretty good fairly standard for this kind of film but pretty good anyway but as the film progressed i began to feel distinctly uncomfortable with the lack of pace that i was seeing each sequence seemed to take hours the reason for this could have been that by now the film had already bored me to tears nothing was happening other than endless accusations peppered with confusing flashbacks and the occasional fit of bad temper well after wading through what felt like a lifetime of these scenes we finally reached the big finale an all singing all dancing demonstration of how lack of imagination can completely ruin what could have been a good film br br overall i found this movie predictable and tedious and i would not recommend this film to anyone other than those people i personally dislike but if you have a couple of hours to waste and you want to watch a thriller that is not even remotely scary this is the movie for you'\n",
            " b'andy lau and lau ching wan are both superb in johnny to s tautly directed crime thriller which puts most western efforts to shame think of it as the hong kong heat only better everything about the film screams class from the performances to the soundtrack the cinematography to the script the tone remains serious throughout but the film has a nice line in black humour friendship and romance at it s heart sure it gets a little preposterous later on but it would be a hard hearted viewer who didn t find something to love about this movie thank god hollywood hasn t yet re made and ruined a classic do yourself a favour and see this film'\n",
            " b'it could have been a marvelous story based on the ancient races of cat people but it wasn t br br this work could have been just that marvelous and replete with mythological references which kept my fascination fueled the lead characters charles brady played by brian krause and his mother mary played by alice krige were shallowly done had no depth of personality and were hardly likable or drawing not even m dchen amick who played tanya robertson s character fit into that description br br however as i ve said many times before when you adapt a stephen king novel for tv you simply must take into account the fact that his books aren t written for tv and his screenplay talent sadly lacks the fire and depth he exhibits as a novelist br br this is another botched attempt to take the magick of stephen king writing whether that is of his novels or an original screenplay to simply cut and paste his work onto the small screen his novels get completely bastardized in the process and all you end up creating is a nice movie nothing less but certainly nothing more his screenplays are hit and miss unfortunately this screenplay translation was a miss br br sorry sorry sorry movie br br this movie gets a 1 0 10 from br br the fiend'\n",
            " b'speck was apparently intended to be a biopic related to serial killer richard speck there is however not much killing to be found in this movie and none of it is explicitly shown the most disturbing scene in the entire movie is perhaps when speck stomps one of the eight unfortunate nurses to death in her own bathtub yet even this is merely implied and not shown save for a few unconvincing downward thrusts of mr speck s leg the most entertaining part of this movie is most likely the voice over which should be a testament to the mind numbingly boring nature of this movie every aspect of this movie is horrible unless you have a fondness for boredom don t bother this movie only clocks in at 72 minutes but it feels like an eternity'\n",
            " b'fast paced funny sexy and spectacular cagney is always terrific blondel charms you with her wit and energy it s obvious that this is a pre censorship film by the innuendo in the script the costumes and the way they touch each other and bikinis before there were bikinis this is no holds barred fun for everyone i don t understand the john garfield issue though does it matter whether or not he s in this film if he is he screen is so short that he s basically a prop you need to watch it frame by frame to even find him if he s there i m a big cagney fan but had never seen this one before i found it on turner classics i found it by wonderful accident sit back and enjoy the ride'\n",
            " b'as an actor i really like independent films but this one is amateur at best br br the boys go to vermont for a civil service yet when the plane lands it flies over a palm tree were the directors aware that palm trees are not in vermont pines yes palms no and the same for the wedding service again nice grove of palm trees br br when the boys are leaving vt they apparently could not get a ticket on any major airline since the plane that is filmed is federal express did they ship themselves overnight in a crate come on guys little details like this separate an indi film from totally amateur br br the christian brother is far gayer than arthur with his bleached hair and tribal band tattoo the two should have switched roles br br the minor characters are laughable and overact something terrible br br applause to the directors for making a gay film but pay some attention to your locations and casting next time'\n",
            " b'as much as i love ellen barkin who is really underrated i have to boo this movie if you can t tell who did it and why in the first half hour you obviously have never seen a psycho sexual thriller or have never watched 20 20 it s like the filmmakers and actors didn t care that they way they were shooting it and they way they were playing the characters would be a dead giveaway br br overall this movie serves to turn on the dirty perverts who like to mix violence and sex not a fun movie to sit through although if you like ellen barkin it s nice to see her place a tough lady'\n",
            " b'while william shater can always make me smile in anything he appears in and i especially love him as denny crane in boston legal well this show is all about glitz and dancing girls and screaming and jumping up and down br br it has none of the intelligence of millionaire none of the flair of deal or no deal br br this show is all about dancing and stupid things to fill in the time br br i watched it of course just to check it out i did watch it for over 45 minutes then i had to turn it off br br the best part of it was william shatner dancing on the stage he is a hoot unfortunately this show will not make it br br that s a given'\n",
            " b'there seems to be an overwhelming response to this movie yet no one with the insight to critique its methodology which is extremely flawed it simply continues to propogate journalistic style analysis which is that it plays off of the audiences lack of knowledge and prejudice in order to evoke an emotional decry and outburst of negative diatribe br br journalism 101 tell the viewer some fact only in order to predispose them into drawing conclusions which are predictable for instance the idea of civil war chaos looting etc were all supposedly unexpected responses to the collapse of governmental infrastructure following hussein s demise were these not all symptomatic of an already destitute culture doctrinal infighting as symptomatic of these veins of islam itself rather than a failure in police force to restrain and secure would they rather the us have declared marshall law i m sure the papers here would ve exploded with accusations of a police state and fascist force br br aside from the analytical idiocy of the film it takes a few sideliners and leaves the rest out claiming so and so refused to be interviewed yet the questions they would ve asked are no doubt already answered by the hundred inquisitions those individuals have already received would you as vice president deign to be interviewed by a first time writer producer which was most certainly already amped to twist your words they couldn t roll tape of condi to actually show her opinion and answer some of the logistics of the questions perhaps they never watched her hearing br br this is far from a neutral glimpse of the situation on the ground there this is another biased asinine approach by journalists which are by and large unthinking herds br br anyone wanting to comment on war ought at least have based their ideas on things a little more reliable than nbc coverage and cnn commentary these interpretations smack of the same vitriol which simply creates a further bipartisanism of those who want to think and those who want to be told by the media what to think'\n",
            " b'everyone likes the coolly created memorable heist movie alain delon provides the antihero melville provides the cool and a handful of other great talent yves montand gian maria volonte and andre bourvil mostly arrives to add a crisp engaging movie br br with very little dialog this is great because one certain aspect of the genre tends to be a lot of dialog involving the quick witted and their various repartees this movie however could be watched with the sound completely off and not too terribly much would be missed not to say the sound is bad oh no the jazzy soundtrack and the crisp audio catching the little movements makes the slow patient deliberation of the patients very compelling br br what s also really neat about this film is that the color cinematography is pretty fantastic usually when it comes to cinematography black and white movies tend to stick out in my mind but this film has some very strong and beautiful imagery that makes the movie pure visual pleasure to observe br br polarisdib'\n",
            " b'quai des orfevres directed by the brilliant henri georges clouzot is a film to treasure because it is one of the best exponents of french film making of the postwar years m clouzot adapting the steeman s novel longtime defence shows his genius in the way he sets the story and in the way he interconnects all the characters in this deeply satisfying movie that as dbdumonteil has pointed out in this forum it demonstrates how influential cluzot was and how much the next generation of french movie makers are indebted to the master especially claude chabrol br br the crisp black and white cinematography by armand thirard has been magnificently transferred to the criterion dvd we recently watched working with clouzot thirard makes the most of the dark tones and the shadows in most of the key scenes the music by francis lopez a man who created light music and operettas in france works well in the context of the film since the action takes place in the world of the music halls and night clubs br br louis jouvet who is seen as a police detective is perfect in the part this was one of his best screen appearances for an actor who was a pillar of the french theater jouvet clearly understood well the mechanics for the creation of his police inspector who is wiser and can look deeply into the souls of his suspects and ultimately steals the show from the others in an unfair comment by someone in this page jouvet s inspector is compared with peter falk s columbo the television detective frankly and no disrespect to mr falk intended it s like comparing a great champagne to a good house wine br br bernard blier is perfect as the jealous husband blier had the kind of face that one could associate with the man consumed with the passion his wife jenny lamour has awakened in him martineau is vulnerable and doesn t act rationally he is an easy suspect because he has done everything wrong as he finds in the middle of a crime he didn t commit but all the evidence points to the contrary br br the other great character in the film is dora the photographer it s clear by the way she interacts with jenny where her real interest lies simone renant is tragically appealing as this troubled woman and makes an enormous contribution to the film suzy delair playing jenny is appealing as the singer who suddenly leaps from obscurity to celebrity and attracts the kind of men like brignon the old lecher br br the film is one of the best clouzot directed during his distinguished career and one that will live forever because the way he brought all the elements together'\n",
            " b'i admit i had some trepidation when i first saw the previews for this film was vh 1 treading on hollow ground here i mean harris and quinn don t really look or even sound like john or paul but i have to admit this film really surprised me it s far from the exploitation film i expected instead it s a character study a low key whimsical and ultimately bittersweet look at friendship and the ultimate lesson we all learn it s hard if not impossible to capture what we once had and what has passed us by'\n",
            " b'once big action star who fell off the face of the earth ends up in a small town with a problem with drug dealers and a dead body of a federal agent reuniting with some former co stars to clean up the town br br low key often to the point of blandness action comedy mostly just doesn t work part of the problem is the casting chris klien as a former action hero he s not bad but he s really not believable as some one who was taken to be a tough guy as i said he s not bad he s just just miscast for what his back story is the real problem here is the combination of the script which really isn t funny and seems artificial at times and the direction which is pedestrian to the port of dullness there is no life in the way things are set up its as if the director had a list of shots and went by that list it makes for an un engaging film and yet the film occasionally springs to life such as the in the final show down that ends the film that sequence works but because the earlier parts of the film floundered its drained of much of its power br br i can t really recommend the film its worth a shot if you re a fan of the actors or are a huge fan of independent cinema in all its forms but otherwise this is just a disappointment'\n",
            " b'this film is just a shame orlando florida seems to becoming a more recognized filmmaking area like vancouver s rise to prominance the brothers was shot in central florida and this short film is a bit of a setback for the area which made great strides with the indie film walking across africa and the great hbo miniseries from earth to the moon br br i will try to be as honest as possible i think orlando was the perfect place to film the brothers it had the potential to give a new spin on the boy band craze after all both n sync and the backstreet boys come from this area but the brothers falls short probably because of a weak script both lead characters are flat with almost no development part of this could be the amatuer actors but some of it is certainly the way the script was written br br also a problem is the choice of jokes many of the jokes are too repetitive they do come off funny the first time but it does grow to be a bit boring some of the concert scenes are staged poorly and many of these scenes also don t seem to move the story along in any way br br i had high hopes for this one but alas its a disappointing effort i also hope the best for the upcoming feature based on this short but i think the best thing for filmmaker john figg is to move to different genres quickly comedy isn t his strong suit but its indisputable that he definitely is one of the more prominant filmmakers in the orlando area its just a shame that right now he s infamous not famous br br'\n",
            " b'brian keith as cole wlikerson and richard jaeckel as wade matlock make excellent villains they just love intimidating the locals in the most brutal way possible and sneer sexily at any suggestion that there might be a more humane way to achieve their ends it s a pity that goody goody glenn ford gets in their way'\n",
            " b'you can find an anti war statement here without looking too hard that layer is hackneyed or you can find a value neutral comment on the madness of war stripped of judgement that layer is completely uninteresting br br or you can watch this for the darn good entertainment value of duvall s one liners but that s just a coating for commercial mastication br br you can try to view this as a realistic vietnam war film but ask any veteran and he ll swat down that notion most vets will say it stinks br br or view it as a will he or won t he morality play nothing rich there either br br where i found the value was in the superb self reference coppola needed a container with great enough dimensions the war to fit the greatness of the skilled multi dimensional actor playing a great man br br brando the man was as much of a maverick as the kurtz character the studios were uncomfortable with his acting method yet he always excelled and won accolades the generals are uncomfortable with kurtz s unsound methods in spite of his strategic genius br br so coppola makes a movie all about brando s greatness to hammer on the point he places himself in the movie as hopper a manic photojournalist laden with multiple cameras to spout his praises brando himself is only seen in half light and silhouettes brilliant cinematography by storaro that only increases the actor s power and he goes out like the sacrificial bull to complete the narrative equation oh yes the horror br br other pieces of interest the great use of point of view camera perspectives including being in the firefight long before private ryan the ground breaking use of sound notably the ominous flanging sweeps and the sonic depiction of an acid trip br br don t get caught in the outer layers the rich part you should despoil from this is the brilliant core of sound vision and self reference'\n",
            " b'comedy central has a habit of putting on great programs at times chappelle s show the daily show colbert report and then there are those that some people love or hate stella dr katz then there are some shows that have their defenders but are just plain awful mencia and now sarah silverman br br this show is based on the fact silverman is self centered which can be funny colbert report but can be horrible mind of mencia it should shock no one that i believe the latter is the case this show is a parody of a sitcom and society a program so absurd it loses itself in its absurdity and it simply isn t funny a woman farting has been done in comedy many many times because its not something that s common we don t need 25 minutes of it when a criminal is disarmed by a queef it simply loses its appeal we saw it in jay and silent bob strike back except the women were hotter and the whole scene was more absurd making it better but the best comparison of this show is to stella except stella was more subtle which is what made the absurdist comedy funny it had better acting and i suppose a bit more of a fantastical realist view br br perhaps the fact some reviews are so negative i m very skeptical of the critical acclaim but do not dispute fan reaction to this show is the amount of advertising on it very obnoxious ads through many programs far outdo advertising on for other programs many people are wondering why sarah silverman has a career and others are still bitter when better shows have been canceled this show should ve never made it past the unaired pilot stage back to norm showed far more promise yet this show makes it further and as far as critics being correct many things have been universally panned have seen their status rise immensely last i checked britney spears gets good reviews too also take that comparison however you want because someone will no doubt accuse me of being psychotic on imdb for not liking this show'\n",
            " b'anyone who complains about peter jackson making movies too long should sit through this cbs event there s about 45 minutes of story padded by 2 hours of unnecessary subplots featuring bland by the book tv drama clich s bad science is a staple for crappy weather disaster movies so i m not going to complain about that silly science can be fun to watch if it s executed in an amusing fashion what kills this movie is it s 10 subplots all of which could be excised without destroying what is supposed to be the central plot the one character that is entertaining to watch in category 6 is tornado tommy despite being a very annoying stereotype br br note that i also didn t bother commenting on special effects their quality should come as no surprise br br not recommended']\n",
            "-----------------------\n",
            "label:  [0 0 0 0 0 1 1 0 0 0 1 1 0 1 1 1 0 0 1 0 0 1 1 1 0 1 0 1 1 0 1 0 1 1 1 0 1\n",
            " 1 1 0 1 0 0 0 1 1 0 1 0 0 1 0 0 0 0 1 1 1 0 0 1 1 0 0]\n",
            "-----------------------\n",
            "total len:  64\n"
          ]
        }
      ],
      "source": [
        "for example, label in test_dataset.take(1):\n",
        "    print(\"example : \", example.numpy())\n",
        "    print(\"-----------------------\")\n",
        "    print(\"label: \", label.numpy())\n",
        "    print(\"-----------------------\")\n",
        "    print(\"total len: \", len(label.numpy()))"
      ]
    },
    {
      "cell_type": "code",
      "execution_count": 50,
      "id": "outdoor-subject",
      "metadata": {
        "id": "outdoor-subject",
        "colab": {
          "base_uri": "https://localhost:8080/"
        },
        "outputId": "602ef498-14ae-4411-d610-3a4b99e3d5b8"
      },
      "outputs": [
        {
          "output_type": "stream",
          "name": "stdout",
          "text": [
            "157/157 [==============================] - 18s 113ms/step - loss: 0.5088 - accuracy: 0.7893\n"
          ]
        }
      ],
      "source": [
        "test_loss, test_acc = model.evaluate(test_dataset)"
      ]
    },
    {
      "cell_type": "code",
      "execution_count": null,
      "id": "compound-settlement",
      "metadata": {
        "id": "compound-settlement"
      },
      "outputs": [],
      "source": [
        "print(\"Test Loss: {}\".format(test_loss))\n",
        "print(\"Test Accuracy: {}\".format(test_acc))"
      ]
    },
    {
      "cell_type": "code",
      "execution_count": 51,
      "id": "limited-report",
      "metadata": {
        "id": "limited-report",
        "colab": {
          "base_uri": "https://localhost:8080/",
          "height": 556
        },
        "outputId": "99d31074-e5ed-40cd-cf36-0e8732034b31"
      },
      "outputs": [
        {
          "output_type": "display_data",
          "data": {
            "text/plain": [
              "<Figure size 1000x800 with 1 Axes>"
            ],
            "image/png": "[encoded data removed]"
          },
          "metadata": {}
        }
      ],
      "source": [
        "# plot the training and validation loss\n",
        "N = np.arange(0, EPOCHS)\n",
        "plt.style.use(\"ggplot\")\n",
        "plt.figure(figsize = [10,8])\n",
        "plt.plot(N, results.history[\"loss\"], label=\"train_loss\")\n",
        "plt.plot(N, results.history[\"val_loss\"], label=\"val_loss\")\n",
        "plt.title(\"RNN: Training & Validation Loss\")\n",
        "plt.xlabel(\"Epoch #\", weight=\"bold\")\n",
        "plt.ylabel(\"Loss\", weight=\"bold\")\n",
        "plt.legend()\n",
        "plt.show()"
      ]
    },
    {
      "cell_type": "code",
      "execution_count": 52,
      "id": "confidential-investment",
      "metadata": {
        "id": "confidential-investment",
        "colab": {
          "base_uri": "https://localhost:8080/",
          "height": 556
        },
        "outputId": "376ca5d9-b5ed-4ee3-8900-e7b06e49f944"
      },
      "outputs": [
        {
          "output_type": "display_data",
          "data": {
            "text/plain": [
              "<Figure size 1000x800 with 1 Axes>"
            ],
            "image/png": "[encoded data removed]"
          },
          "metadata": {}
        }
      ],
      "source": [
        "# plot the training and validation accuracy\n",
        "N = np.arange(0, EPOCHS)\n",
        "plt.style.use(\"ggplot\")\n",
        "plt.figure(figsize = [10,8])\n",
        "plt.plot(N, results.history[\"accuracy\"], label=\"train_acc\")\n",
        "plt.plot(N, results.history[\"val_accuracy\"], label=\"val_acc\")\n",
        "plt.title(\"RNN: Training and Validation Accuracy\")\n",
        "plt.xlabel(\"Epoch #\", weight=\"bold\")\n",
        "plt.ylabel(\"Accuracy\", weight=\"bold\")\n",
        "plt.legend()\n",
        "plt.show()"
      ]
    },
    {
      "cell_type": "code",
      "execution_count": 53,
      "id": "opening-creation",
      "metadata": {
        "id": "opening-creation",
        "colab": {
          "base_uri": "https://localhost:8080/"
        },
        "outputId": "1b2eb9d4-d7aa-4b72-fc73-edca198c4c0d"
      },
      "outputs": [
        {
          "output_type": "stream",
          "name": "stdout",
          "text": [
            "1/1 [==============================] - 0s 182ms/step\n",
            "[[0.1150753]]\n",
            "positive\n"
          ]
        }
      ],
      "source": [
        "# predict on a sample text \n",
        "\n",
        "sample_text = (\"The movie was not Good, I would not recommend this movie.\")\n",
        "\n",
        "prediction = model.predict(np.array([sample_text]))\n",
        "print(prediction)\n",
        "\n",
        "if prediction[0][0] >= 0:\n",
        "    print(\"positive\")\n",
        "else:\n",
        "    print(\"negative\")\n"
      ]
    },
    {
      "cell_type": "code",
      "execution_count": null,
      "id": "psychological-extra",
      "metadata": {
        "id": "psychological-extra"
      },
      "outputs": [],
      "source": [
        "\n",
        "# for 3 level\n",
        "# if np.argmax(prediction) == 0:\n",
        "#     print(\"Neutral\")\n",
        "# elif np.argmax(prediction) == 1:\n",
        "#     print(\"Positive\")\n",
        "# else:\n",
        "#     print(\"Negative\")"
      ]
    },
    {
      "cell_type": "markdown",
      "id": "nervous-duplicate",
      "metadata": {
        "id": "nervous-duplicate"
      },
      "source": [
        "### 10. Saving the model"
      ]
    },
    {
      "cell_type": "code",
      "execution_count": 59,
      "id": "corporate-timeline",
      "metadata": {
        "scrolled": true,
        "id": "corporate-timeline",
        "colab": {
          "base_uri": "https://localhost:8080/"
        },
        "outputId": "4c9d425c-0984-4325-c09d-ff17dacdb3b7"
      },
      "outputs": [
        {
          "output_type": "stream",
          "name": "stdout",
          "text": [
            "[INFO] serializing network...\n"
          ]
        }
      ],
      "source": [
        "# save the model to disk\n",
        "print(\"[INFO] serializing network...\")\n",
        "model.save(\"sentiment_RNN_1epochs.model\", save_format=\"tf\")"
      ]
    },
    {
      "cell_type": "code",
      "execution_count": null,
      "id": "sunset-approval",
      "metadata": {
        "id": "sunset-approval"
      },
      "outputs": [],
      "source": [
        "from tensorflow.keras.models import load_model\n",
        "new_model = load_model(\"model/sentiment_RNN_15epochs.model\")\n",
        "print(\"[INFO] model loaded succesfully..\")"
      ]
    },
    {
      "cell_type": "code",
      "execution_count": null,
      "id": "weekly-newsletter",
      "metadata": {
        "id": "weekly-newsletter"
      },
      "outputs": [],
      "source": [
        "new_model.summary()"
      ]
    },
    {
      "cell_type": "markdown",
      "id": "diverse-period",
      "metadata": {
        "id": "diverse-period"
      },
      "source": [
        "### 11. Making predictions for unseen data"
      ]
    },
    {
      "cell_type": "code",
      "execution_count": null,
      "id": "registered-screen",
      "metadata": {
        "id": "registered-screen"
      },
      "outputs": [],
      "source": [
        "# check missing value \n",
        "df_test.isnull().sum()"
      ]
    },
    {
      "cell_type": "code",
      "execution_count": null,
      "id": "exposed-enhancement",
      "metadata": {
        "id": "exposed-enhancement"
      },
      "outputs": [],
      "source": [
        "df_test.head()"
      ]
    },
    {
      "cell_type": "code",
      "execution_count": null,
      "id": "thorough-anniversary",
      "metadata": {
        "id": "thorough-anniversary"
      },
      "outputs": [],
      "source": [
        "# Drop rows with any NaN in the clean text column only\n",
        "# df_test = df_test.dropna(how='any', subset=['clean_review'])"
      ]
    },
    {
      "cell_type": "code",
      "execution_count": null,
      "id": "cutting-addiction",
      "metadata": {
        "id": "cutting-addiction"
      },
      "outputs": [],
      "source": [
        "# check missing value \n",
        "# df_test.isnull().sum()"
      ]
    },
    {
      "cell_type": "code",
      "execution_count": null,
      "id": "former-seating",
      "metadata": {
        "id": "former-seating"
      },
      "outputs": [],
      "source": [
        "# prediction on unseen data\n",
        "y_pred = model.predict(np.array(df_test[\"clean_review\"]))"
      ]
    },
    {
      "cell_type": "code",
      "execution_count": null,
      "id": "revolutionary-passenger",
      "metadata": {
        "id": "revolutionary-passenger"
      },
      "outputs": [],
      "source": [
        "y_pred[:10] # confidence for each class"
      ]
    },
    {
      "cell_type": "code",
      "execution_count": null,
      "id": "rotary-range",
      "metadata": {
        "id": "rotary-range"
      },
      "outputs": [],
      "source": [
        "# convert conf to 1 if +conf else 0\n",
        "y_pred_bool = []\n",
        "for conf in y_pred:\n",
        "    if conf[0] >= 0:\n",
        "        y_pred_bool.append(1)\n",
        "    else:\n",
        "        y_pred_bool.append(0)\n",
        "\n",
        "df_test[\"pred\"] = y_pred_bool"
      ]
    },
    {
      "cell_type": "code",
      "execution_count": null,
      "id": "temporal-cleaning",
      "metadata": {
        "id": "temporal-cleaning"
      },
      "outputs": [],
      "source": [
        "# create new column for prediction on 3 label\n",
        "# df_test[\"Predicted_label\"] = np.argmax(y_pred, axis=1)"
      ]
    },
    {
      "cell_type": "code",
      "execution_count": null,
      "id": "saving-station",
      "metadata": {
        "id": "saving-station"
      },
      "outputs": [],
      "source": [
        "df_test.head()"
      ]
    },
    {
      "cell_type": "markdown",
      "id": "soviet-daniel",
      "metadata": {
        "id": "soviet-daniel"
      },
      "source": [
        "### 12. confusion matrix "
      ]
    },
    {
      "cell_type": "code",
      "execution_count": null,
      "id": "controversial-interface",
      "metadata": {
        "id": "controversial-interface"
      },
      "outputs": [],
      "source": [
        "def plot_confusion_metrix(y_true, y_pred,classes,\n",
        "                         normalize=False,\n",
        "                         title='Confusion Matrix',\n",
        "                         cmap=plt.cm.Blues):\n",
        "    \"\"\"\n",
        "    Objective\n",
        "    ----------\n",
        "    plot confussion matrix, classification report and accuracy score\n",
        "    \n",
        "    parameters\n",
        "    ----------\n",
        "    y_true : array-like of shape (n_samples,)\n",
        "        Ground truth (correct) target values.\n",
        "\n",
        "    y_pred : array-like of shape (n_samples,)\n",
        "        Estimated targets as returned by a classifier.\n",
        "    \n",
        "    classes : list\n",
        "        List of labels to index the matrix\n",
        "        \n",
        "    title : title for matrix\n",
        "    cmap : colormap for matrix \n",
        "    \n",
        "    returns \n",
        "    ----------\n",
        "   all accruacy matrix \n",
        "    \"\"\"\n",
        "    \n",
        "    \n",
        "    cm = confusion_matrix(y_true,y_pred)\n",
        "    \n",
        "    \n",
        "    if normalize:\n",
        "        cm = cm.astype('float') / cm.sum(axis=1)[:, np.newaxis]\n",
        "        print(\"Normalized Confusion Matrix\")\n",
        "    else:\n",
        "        print(\"Confusion Matrix, Without Normalisation\")\n",
        "\n",
        "    \n",
        "    plt.imshow(cm, interpolation='nearest',cmap=cmap)\n",
        "    plt.title(title)\n",
        "    plt.colorbar()\n",
        "    tick_marks = np.arange(len(classes))\n",
        "    plt.xticks(tick_marks,classes,rotation=35)\n",
        "    plt.yticks(tick_marks,classes)\n",
        "    \n",
        "    fmt = '.2f' if normalize else 'd'\n",
        "    thresh = cm.max() /2.\n",
        "    \n",
        "    for i , j in itertools.product(range(cm.shape[0]), range(cm.shape[0])):\n",
        "        plt.text(j, i, format(cm[i,j], fmt),\n",
        "                 horizontalalignment='center',\n",
        "                 color='white' if cm[i, j] > thresh else 'black')\n",
        "    \n",
        "    plt.ylabel('True label')\n",
        "    plt.xlabel('Predicted label')\n",
        "    # plt.tight_layout()\n",
        "    \n",
        "    plt.show()\n",
        "    \n",
        "    print(\"-----------------------------------------------------\")\n",
        "    print('Classification report')\n",
        "    print(classification_report(y_true,y_pred))\n",
        "    \n",
        "    print(\"-----------------------------------------------------\")\n",
        "    acc= accuracy_score(y_true,y_pred)\n",
        "    print(\"Accuracy of the model: \", acc)"
      ]
    },
    {
      "cell_type": "code",
      "execution_count": null,
      "id": "computational-jenny",
      "metadata": {
        "id": "computational-jenny"
      },
      "outputs": [],
      "source": [
        "plot_confusion_metrix(df_test[\"label\"], df_test[\"pred\"],classes=[\"negative: 0\",\"positive: 1\"])"
      ]
    },
    {
      "cell_type": "markdown",
      "id": "hearing-tours",
      "metadata": {
        "id": "hearing-tours"
      },
      "source": [
        "### 13. final submission "
      ]
    },
    {
      "cell_type": "code",
      "execution_count": null,
      "id": "composed-tumor",
      "metadata": {
        "id": "composed-tumor"
      },
      "outputs": [],
      "source": [
        "def label(a):\n",
        "    if a==0:\n",
        "        return \"Negative\"\n",
        "    elif a==1:\n",
        "        return \"Positive\"\n",
        "    "
      ]
    },
    {
      "cell_type": "code",
      "execution_count": null,
      "id": "protecting-nightlife",
      "metadata": {
        "id": "protecting-nightlife"
      },
      "outputs": [],
      "source": [
        "df_test[\"pred\"] = df_test[\"pred\"].apply(lambda a : label(a))\n",
        "df_test[\"label\"] = df_test[\"label\"].apply(lambda a : label(a))"
      ]
    },
    {
      "cell_type": "code",
      "execution_count": null,
      "id": "clear-basic",
      "metadata": {
        "id": "clear-basic"
      },
      "outputs": [],
      "source": [
        "df_test.head()"
      ]
    },
    {
      "cell_type": "code",
      "execution_count": null,
      "id": "frozen-edgar",
      "metadata": {
        "id": "frozen-edgar"
      },
      "outputs": [],
      "source": [
        "df_test.to_csv(\"dataset/Test_Predictioin.csv\", index=False)"
      ]
    },
    {
      "cell_type": "markdown",
      "id": "classical-avenue",
      "metadata": {
        "id": "classical-avenue"
      },
      "source": [
        "### 14. Future scope"
      ]
    },
    {
      "cell_type": "raw",
      "id": "australian-integration",
      "metadata": {
        "id": "australian-integration"
      },
      "source": [
        "\n",
        "1. parameter tunning\n",
        "2. use lstm layer insted of rnn\n",
        "3. stack two or more lstm layers\n",
        "4. add dropout\n",
        "5. change learning rate and epochs \n",
        "6. deploye the model "
      ]
    },
    {
      "cell_type": "raw",
      "id": "promising-gauge",
      "metadata": {
        "id": "promising-gauge"
      },
      "source": [
        "# use simple lstm \n",
        "\n",
        "model = tf.keras.Sequential([\n",
        "    encoder,\n",
        "    tf.keras.layers.Embedding(input_dim=len(encoder.get_vocabulary()), output_dim=64, mask_zero=True), # word2vec\n",
        "    tf.keras.layers.LSTM(64)\n",
        "    tf.keras.layers.Dense(64, activation=\"relu\"),\n",
        "    tf.keras.layers.Dense(1) # tf.keras.layers.Dense(3, activation=\"softmax\")\n",
        "])"
      ]
    },
    {
      "cell_type": "raw",
      "id": "awful-privilege",
      "metadata": {
        "id": "awful-privilege"
      },
      "source": [
        "#  stack two or more lstm layers\n",
        "model = tf.keras.Sequential([\n",
        "    encoder,\n",
        "    tf.keras.layers.Embedding(input_dim=len(encoder.get_vocabulary()), output_dim=64, mask_zero=True), # word2vec\n",
        "    tf.keras.layers.Bidirectional(tf.keras.layers.LSTM(64, return_sequence=True))\n",
        "    tf.keras.layers.Bidirectional(tf.keras.layers.LSTM(32))\n",
        "    tf.keras.layers.Dense(64, activation=\"relu\"),\n",
        "    tf.keras.layers.Dropout(0.4)\n",
        "    tf.keras.layers.Dense(1) # tf.keras.layers.Dense(3, activation=\"softmax\")\n",
        "])"
      ]
    },
    {
      "cell_type": "markdown",
      "id": "satellite-therapy",
      "metadata": {
        "id": "satellite-therapy"
      },
      "source": [
        "return_sequence :\n",
        "    - false: it returns only the last output for each input sequence (a 2D tensor of shape (batch_size, output_features)). this is the default\n",
        "        used in previous model\n",
        "    - true: the full sequences of successive outputs for each timestep is returned (a 3D tensor of shape(batch_size, timesteps, output_features))\n",
        "\n",
        "the intresting thing about using an rnn with return sequences=true is that the output still has 3axes like the input so it can be passed to another rnn layer like this.    "
      ]
    },
    {
      "cell_type": "markdown",
      "id": "computational-bunny",
      "metadata": {
        "id": "computational-bunny"
      },
      "source": [
        "### THE END"
      ]
    },
    {
      "cell_type": "code",
      "execution_count": null,
      "id": "regulation-difference",
      "metadata": {
        "id": "regulation-difference"
      },
      "outputs": [],
      "source": []
    },
    {
      "cell_type": "code",
      "execution_count": null,
      "id": "unusual-effects",
      "metadata": {
        "id": "unusual-effects"
      },
      "outputs": [],
      "source": []
    },
    {
      "cell_type": "code",
      "execution_count": null,
      "id": "thorough-witch",
      "metadata": {
        "id": "thorough-witch"
      },
      "outputs": [],
      "source": []
    },
    {
      "cell_type": "code",
      "execution_count": null,
      "id": "subjective-birthday",
      "metadata": {
        "id": "subjective-birthday"
      },
      "outputs": [],
      "source": []
    },
    {
      "cell_type": "code",
      "execution_count": null,
      "id": "gross-location",
      "metadata": {
        "id": "gross-location"
      },
      "outputs": [],
      "source": []
    },
    {
      "cell_type": "code",
      "execution_count": null,
      "id": "genuine-sherman",
      "metadata": {
        "id": "genuine-sherman"
      },
      "outputs": [],
      "source": []
    },
    {
      "cell_type": "code",
      "execution_count": null,
      "id": "minimal-evaluation",
      "metadata": {
        "id": "minimal-evaluation"
      },
      "outputs": [],
      "source": []
    },
    {
      "cell_type": "code",
      "execution_count": null,
      "id": "derived-trustee",
      "metadata": {
        "id": "derived-trustee"
      },
      "outputs": [],
      "source": []
    },
    {
      "cell_type": "code",
      "execution_count": null,
      "id": "boolean-excuse",
      "metadata": {
        "id": "boolean-excuse"
      },
      "outputs": [],
      "source": []
    },
    {
      "cell_type": "code",
      "execution_count": null,
      "id": "polished-injury",
      "metadata": {
        "id": "polished-injury"
      },
      "outputs": [],
      "source": []
    },
    {
      "cell_type": "code",
      "execution_count": null,
      "id": "consolidated-sodium",
      "metadata": {
        "id": "consolidated-sodium"
      },
      "outputs": [],
      "source": []
    },
    {
      "cell_type": "code",
      "execution_count": null,
      "id": "preliminary-inflation",
      "metadata": {
        "id": "preliminary-inflation"
      },
      "outputs": [],
      "source": []
    },
    {
      "cell_type": "code",
      "execution_count": null,
      "id": "private-fraction",
      "metadata": {
        "id": "private-fraction"
      },
      "outputs": [],
      "source": []
    }
  ],
  "metadata": {
    "kernelspec": {
      "display_name": "tf24",
      "language": "python",
      "name": "tf24"
    },
    "language_info": {
      "codemirror_mode": {
        "name": "ipython",
        "version": 3
      },
      "file_extension": ".py",
      "mimetype": "text/x-python",
      "name": "python",
      "nbconvert_exporter": "python",
      "pygments_lexer": "ipython3",
      "version": "3.7.9"
    },
    "colab": {
      "provenance": [],
      "collapsed_sections": [
        "frozen-oliver",
        "nervous-duplicate",
        "diverse-period",
        "soviet-daniel",
        "hearing-tours",
        "classical-avenue"
      ]
    },
    "accelerator": "GPU"
  },
  "nbformat": 4,
  "nbformat_minor": 5
}